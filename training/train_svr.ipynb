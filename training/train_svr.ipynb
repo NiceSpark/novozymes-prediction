{
 "cells": [
  {
   "cell_type": "code",
   "execution_count": 52,
   "metadata": {},
   "outputs": [
    {
     "name": "stdout",
     "output_type": "stream",
     "text": [
      "there are 0 na occurences in the X dataset\n",
      "there are 0 na occurences in the y dataset\n"
     ]
    },
    {
     "data": {
      "text/plain": [
       "wild_aa_int          11.0\n",
       "mutated_aa_int        3.0\n",
       "mutated_chain_int    65.0\n",
       "Name: 1, dtype: float64"
      ]
     },
     "execution_count": 52,
     "metadata": {},
     "output_type": "execute_result"
    }
   ],
   "source": [
    "import matplotlib.pyplot as plt\n",
    "import numpy as np\n",
    "import pandas as pd\n",
    "from sklearn.preprocessing import StandardScaler\n",
    "from sklearn.svm import SVR\n",
    "\n",
    "from utils.file_utils import open_json\n",
    "\n",
    "#2 Importing the dataset\n",
    "dataset = pd.read_csv(\"./dataset/main_dataset.csv\")\n",
    "features = open_json(\"./dataset/features.json\")\n",
    "\n",
    "# clean dataset:\n",
    "dataset = dataset.drop(columns=features[\"identification\"], axis=1)\n",
    "\n",
    "use_features = {\"identification\": False, \"basics\": True, \"blosum\": True,\n",
    "                \"demask\": True, \"protein_analysis\": True, \n",
    "                \"deltas_protein_analysis\": True, \n",
    "                \"3D_structure_analysis\": True, \"dssp_3D_analysis\": True,\n",
    "                \"target\": False}\n",
    "\n",
    "feature_columns = [features[key] for key in features if use_features[key]]\n",
    "feature_columns = sum(feature_columns, []) # flatten the list of columns\n",
    "\n",
    "X = dataset[feature_columns]\n",
    "y = dataset[[\"ddG\"]].values.astype(float)\n",
    "\n",
    "print(f\"there are {X.isna().sum().sum()} na occurences in the X dataset\")\n",
    "print(f\"there are {np.isnan(y).sum()} na occurences in the y dataset\")\n",
    "\n",
    "# y\n",
    "X.iloc[1,:3]"
   ]
  },
  {
   "cell_type": "code",
   "execution_count": 53,
   "metadata": {},
   "outputs": [
    {
     "data": {
      "text/plain": [
       "(array([ 1.41057529e-01, -7.98828451e-01, -1.27915516e-01, -6.61592897e-01,\n",
       "         2.47340964e-01,  4.93923757e-01,  2.11656958e-01, -1.13802824e-01,\n",
       "        -1.43432906e+00, -1.57020011e+00, -1.36189185e+00, -1.18023032e+00,\n",
       "        -4.90464015e-01, -1.90570785e+00, -1.78869241e+00, -6.77788766e-01,\n",
       "        -7.97958178e-01,  9.75948187e-01, -9.27786446e-02, -1.06171239e+00,\n",
       "        -9.59537924e-01, -8.25306160e-01,  2.05608271e-01, -4.92466385e-02,\n",
       "        -5.27967313e-02,  1.10115584e+00, -9.00290337e-01, -8.03548436e-02,\n",
       "         1.35614183e+00, -1.22683087e-01,  6.54984678e-01, -2.26302966e-01,\n",
       "         1.54858135e-01, -4.59664345e-02,  1.19775867e-01, -4.10125788e-02,\n",
       "        -4.10334914e-02,  7.16791023e-01,  5.17175492e-02, -3.67340763e+00,\n",
       "         3.68480985e+00, -6.09968198e-01, -5.75994351e-01,  1.53593190e+00,\n",
       "         2.22672074e+00,  3.91719772e-01,  8.14749532e+00,  1.45391740e+00,\n",
       "         5.84356896e-02,  1.21892679e+00,  9.32061370e-03,  1.02430721e+00,\n",
       "        -3.83374608e-02,  1.53982103e+00, -6.87059291e-03]),\n",
       " 55)"
      ]
     },
     "execution_count": 53,
     "metadata": {},
     "output_type": "execute_result"
    }
   ],
   "source": [
    "#3 Feature Scaling\n",
    "sc_X = StandardScaler()\n",
    "sc_y = StandardScaler()\n",
    "X = sc_X.fit_transform(X)\n",
    "y = sc_y.fit_transform(y)\n",
    "y = y.ravel()\n",
    "\n",
    "X[1,:], len(X[1,:])"
   ]
  },
  {
   "cell_type": "code",
   "execution_count": 54,
   "metadata": {},
   "outputs": [
    {
     "data": {
      "text/html": [
       "<style>#sk-container-id-6 {color: black;background-color: white;}#sk-container-id-6 pre{padding: 0;}#sk-container-id-6 div.sk-toggleable {background-color: white;}#sk-container-id-6 label.sk-toggleable__label {cursor: pointer;display: block;width: 100%;margin-bottom: 0;padding: 0.3em;box-sizing: border-box;text-align: center;}#sk-container-id-6 label.sk-toggleable__label-arrow:before {content: \"▸\";float: left;margin-right: 0.25em;color: #696969;}#sk-container-id-6 label.sk-toggleable__label-arrow:hover:before {color: black;}#sk-container-id-6 div.sk-estimator:hover label.sk-toggleable__label-arrow:before {color: black;}#sk-container-id-6 div.sk-toggleable__content {max-height: 0;max-width: 0;overflow: hidden;text-align: left;background-color: #f0f8ff;}#sk-container-id-6 div.sk-toggleable__content pre {margin: 0.2em;color: black;border-radius: 0.25em;background-color: #f0f8ff;}#sk-container-id-6 input.sk-toggleable__control:checked~div.sk-toggleable__content {max-height: 200px;max-width: 100%;overflow: auto;}#sk-container-id-6 input.sk-toggleable__control:checked~label.sk-toggleable__label-arrow:before {content: \"▾\";}#sk-container-id-6 div.sk-estimator input.sk-toggleable__control:checked~label.sk-toggleable__label {background-color: #d4ebff;}#sk-container-id-6 div.sk-label input.sk-toggleable__control:checked~label.sk-toggleable__label {background-color: #d4ebff;}#sk-container-id-6 input.sk-hidden--visually {border: 0;clip: rect(1px 1px 1px 1px);clip: rect(1px, 1px, 1px, 1px);height: 1px;margin: -1px;overflow: hidden;padding: 0;position: absolute;width: 1px;}#sk-container-id-6 div.sk-estimator {font-family: monospace;background-color: #f0f8ff;border: 1px dotted black;border-radius: 0.25em;box-sizing: border-box;margin-bottom: 0.5em;}#sk-container-id-6 div.sk-estimator:hover {background-color: #d4ebff;}#sk-container-id-6 div.sk-parallel-item::after {content: \"\";width: 100%;border-bottom: 1px solid gray;flex-grow: 1;}#sk-container-id-6 div.sk-label:hover label.sk-toggleable__label {background-color: #d4ebff;}#sk-container-id-6 div.sk-serial::before {content: \"\";position: absolute;border-left: 1px solid gray;box-sizing: border-box;top: 0;bottom: 0;left: 50%;z-index: 0;}#sk-container-id-6 div.sk-serial {display: flex;flex-direction: column;align-items: center;background-color: white;padding-right: 0.2em;padding-left: 0.2em;position: relative;}#sk-container-id-6 div.sk-item {position: relative;z-index: 1;}#sk-container-id-6 div.sk-parallel {display: flex;align-items: stretch;justify-content: center;background-color: white;position: relative;}#sk-container-id-6 div.sk-item::before, #sk-container-id-6 div.sk-parallel-item::before {content: \"\";position: absolute;border-left: 1px solid gray;box-sizing: border-box;top: 0;bottom: 0;left: 50%;z-index: -1;}#sk-container-id-6 div.sk-parallel-item {display: flex;flex-direction: column;z-index: 1;position: relative;background-color: white;}#sk-container-id-6 div.sk-parallel-item:first-child::after {align-self: flex-end;width: 50%;}#sk-container-id-6 div.sk-parallel-item:last-child::after {align-self: flex-start;width: 50%;}#sk-container-id-6 div.sk-parallel-item:only-child::after {width: 0;}#sk-container-id-6 div.sk-dashed-wrapped {border: 1px dashed gray;margin: 0 0.4em 0.5em 0.4em;box-sizing: border-box;padding-bottom: 0.4em;background-color: white;}#sk-container-id-6 div.sk-label label {font-family: monospace;font-weight: bold;display: inline-block;line-height: 1.2em;}#sk-container-id-6 div.sk-label-container {text-align: center;}#sk-container-id-6 div.sk-container {/* jupyter's `normalize.less` sets `[hidden] { display: none; }` but bootstrap.min.css set `[hidden] { display: none !important; }` so we also need the `!important` here to be able to override the default hidden behavior on the sphinx rendered scikit-learn.org. See: https://github.com/scikit-learn/scikit-learn/issues/21755 */display: inline-block !important;position: relative;}#sk-container-id-6 div.sk-text-repr-fallback {display: none;}</style><div id=\"sk-container-id-6\" class=\"sk-top-container\"><div class=\"sk-text-repr-fallback\"><pre>SVR()</pre><b>In a Jupyter environment, please rerun this cell to show the HTML representation or trust the notebook. <br />On GitHub, the HTML representation is unable to render, please try loading this page with nbviewer.org.</b></div><div class=\"sk-container\" hidden><div class=\"sk-item\"><div class=\"sk-estimator sk-toggleable\"><input class=\"sk-toggleable__control sk-hidden--visually\" id=\"sk-estimator-id-6\" type=\"checkbox\" checked><label for=\"sk-estimator-id-6\" class=\"sk-toggleable__label sk-toggleable__label-arrow\">SVR</label><div class=\"sk-toggleable__content\"><pre>SVR()</pre></div></div></div></div></div>"
      ],
      "text/plain": [
       "SVR()"
      ]
     },
     "execution_count": 54,
     "metadata": {},
     "output_type": "execute_result"
    }
   ],
   "source": [
    "\n",
    "#4 Fitting the Support Vector Regression Model to the dataset\n",
    "# Create your support vector regressor here\n",
    "# most important SVR parameter is Kernel type. It can be \n",
    "# linear,polynomial or gaussian SVR. We have a non-linear condition \n",
    "# so we can select polynomial or gaussian but here we select \n",
    "# RBF(a gaussian type) kernel.\n",
    "regressor = SVR(kernel='rbf')\n",
    "regressor.fit(X,y)"
   ]
  },
  {
   "cell_type": "markdown",
   "metadata": {},
   "source": [
    "# Predicting on submission"
   ]
  },
  {
   "cell_type": "code",
   "execution_count": 55,
   "metadata": {},
   "outputs": [
    {
     "name": "stdout",
     "output_type": "stream",
     "text": [
      "there are 0 na occurences in the X df\n",
      "   wild_aa_int  mutated_aa_int  mutated_chain_int\n",
      "0           10               4                 65\n",
      "1           10               9                 65\n",
      "2           10               0                 65\n",
      "3            9               2                 65\n",
      "4            9               5                 65\n"
     ]
    }
   ],
   "source": [
    "# loading processed_test, ie. test.csv with added infos\n",
    "df = pd.read_csv(\"./dataset/processed_test.csv\")\n",
    "\n",
    "# clean dataset:\n",
    "df = df.drop(columns=features[\"identification\"], axis=1)\n",
    "\n",
    "# using the same use_features as in training:\n",
    "feature_columns = [features[key] for key in features if use_features[key]]\n",
    "feature_columns = sum(feature_columns, []) # flatten the list of columns\n",
    "\n",
    "X_test = df[feature_columns]\n",
    "\n",
    "print(f\"there are {X_test.isna().sum().sum()} na occurences in the X df\")\n",
    "\n",
    "print(X_test.iloc[:5,:3])"
   ]
  },
  {
   "cell_type": "code",
   "execution_count": 56,
   "metadata": {},
   "outputs": [
    {
     "data": {
      "text/plain": [
       "array([-0.02665269,  0.16235828, -0.12791552])"
      ]
     },
     "execution_count": 56,
     "metadata": {},
     "output_type": "execute_result"
    }
   ],
   "source": [
    "X_test = sc_X.transform(X_test)\n",
    "X_test[1, :3]"
   ]
  },
  {
   "cell_type": "code",
   "execution_count": 57,
   "metadata": {},
   "outputs": [
    {
     "data": {
      "text/plain": [
       "array([ 0.14079074, -0.36843532, -0.17187205, -0.00180886, -0.19009549,\n",
       "       -0.04443055, -0.14264955, -0.16276204, -0.45465314, -0.43073576])"
      ]
     },
     "execution_count": 57,
     "metadata": {},
     "output_type": "execute_result"
    }
   ],
   "source": [
    "results = regressor.predict(X_test)\n",
    "results[:10]"
   ]
  },
  {
   "cell_type": "code",
   "execution_count": 62,
   "metadata": {},
   "outputs": [
    {
     "data": {
      "text/html": [
       "<div>\n",
       "<style scoped>\n",
       "    .dataframe tbody tr th:only-of-type {\n",
       "        vertical-align: middle;\n",
       "    }\n",
       "\n",
       "    .dataframe tbody tr th {\n",
       "        vertical-align: top;\n",
       "    }\n",
       "\n",
       "    .dataframe thead th {\n",
       "        text-align: right;\n",
       "    }\n",
       "</style>\n",
       "<table border=\"1\" class=\"dataframe\">\n",
       "  <thead>\n",
       "    <tr style=\"text-align: right;\">\n",
       "      <th></th>\n",
       "      <th>seq_id</th>\n",
       "      <th>tm</th>\n",
       "    </tr>\n",
       "  </thead>\n",
       "  <tbody>\n",
       "    <tr>\n",
       "      <th>0</th>\n",
       "      <td>31390</td>\n",
       "      <td>-0.140791</td>\n",
       "    </tr>\n",
       "    <tr>\n",
       "      <th>1</th>\n",
       "      <td>31391</td>\n",
       "      <td>0.368435</td>\n",
       "    </tr>\n",
       "    <tr>\n",
       "      <th>2</th>\n",
       "      <td>31392</td>\n",
       "      <td>0.171872</td>\n",
       "    </tr>\n",
       "    <tr>\n",
       "      <th>3</th>\n",
       "      <td>31393</td>\n",
       "      <td>0.001809</td>\n",
       "    </tr>\n",
       "    <tr>\n",
       "      <th>4</th>\n",
       "      <td>31394</td>\n",
       "      <td>0.190095</td>\n",
       "    </tr>\n",
       "  </tbody>\n",
       "</table>\n",
       "</div>"
      ],
      "text/plain": [
       "   seq_id        tm\n",
       "0   31390 -0.140791\n",
       "1   31391  0.368435\n",
       "2   31392  0.171872\n",
       "3   31393  0.001809\n",
       "4   31394  0.190095"
      ]
     },
     "execution_count": 62,
     "metadata": {},
     "output_type": "execute_result"
    }
   ],
   "source": [
    "submission = pd.DataFrame(columns=[\"seq_id\", \"tm\"])\n",
    "submission[\"seq_id\"] = df[\"seq_id\"]\n",
    "submission[\"tm\"] = results * -1\n",
    "submission.head()"
   ]
  },
  {
   "cell_type": "code",
   "execution_count": 63,
   "metadata": {},
   "outputs": [],
   "source": [
    "from datetime import datetime\n",
    "date_time = datetime.now()\n",
    "timestamp = date_time.strftime(\"%Y-%m-%d_%H-%M-%S\")\n",
    "submission.to_csv(f\"./submission/submission_{timestamp}.csv\", index=False)\n"
   ]
  }
 ],
 "metadata": {
  "kernelspec": {
   "display_name": "Python 3.8.10 ('novozymes-prediction-mCqEfypB')",
   "language": "python",
   "name": "python3"
  },
  "language_info": {
   "codemirror_mode": {
    "name": "ipython",
    "version": 3
   },
   "file_extension": ".py",
   "mimetype": "text/x-python",
   "name": "python",
   "nbconvert_exporter": "python",
   "pygments_lexer": "ipython3",
   "version": "3.8.10"
  },
  "orig_nbformat": 4,
  "vscode": {
   "interpreter": {
    "hash": "3da3ecdfb75935c1c2871feb27ae926d94b18f0209906bda27b4f85f43705836"
   }
  }
 },
 "nbformat": 4,
 "nbformat_minor": 2
}
