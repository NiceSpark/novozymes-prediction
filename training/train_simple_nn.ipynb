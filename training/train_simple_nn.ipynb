{
 "cells": [
  {
   "cell_type": "code",
   "execution_count": 1,
   "metadata": {},
   "outputs": [
    {
     "name": "stderr",
     "output_type": "stream",
     "text": [
      "/home/ml/.local/lib/python3.8/site-packages/tqdm/auto.py:22: TqdmWarning: IProgress not found. Please update jupyter and ipywidgets. See https://ipywidgets.readthedocs.io/en/stable/user_install.html\n",
      "  from .autonotebook import tqdm as notebook_tqdm\n"
     ]
    }
   ],
   "source": [
    "import torch.nn.functional as F\n",
    "import torch.nn as nn\n",
    "import torch\n",
    "import matplotlib.pyplot as plt\n",
    "import numpy as np\n",
    "import pandas as pd\n",
    "import random\n",
    "\n",
    "from sklearn.preprocessing import StandardScaler\n",
    "from sklearn.model_selection import KFold\n",
    "\n",
    "from utils.file_utils import open_json, write_json, save_submission\n",
    "from utils.model_utils import *\n",
    "\n"
   ]
  },
  {
   "cell_type": "code",
   "execution_count": 2,
   "metadata": {},
   "outputs": [],
   "source": [
    "DIR_PATH = \"./dataset\"\n",
    "config = open_json(f\"{DIR_PATH}/config.json\")\n",
    "features_dict = open_json(f\"{DIR_PATH}/features.json\")\n",
    "features = compute_feature_list(config, features_dict)\n"
   ]
  },
  {
   "cell_type": "code",
   "execution_count": 3,
   "metadata": {},
   "outputs": [],
   "source": [
    "def train_model(model:Novozymes_Model, optimizer, loss_function, trainloader):\n",
    "    loss_over_time = []\n",
    "    # Run the training loop\n",
    "    for epoch in range(config[\"num_epochs\"]):\n",
    "        # Set current loss value\n",
    "        current_loss = 0.0\n",
    "        # Iterate over the DataLoader for training data\n",
    "        for i, data in enumerate(trainloader, 0):\n",
    "            # Get and prepare inputs\n",
    "            inputs, targets = data\n",
    "            inputs, targets = inputs.float(), targets.float()\n",
    "            targets = targets.reshape((targets.shape[0], 1))\n",
    "            # Zero the gradients\n",
    "            optimizer.zero_grad()\n",
    "            # Perform forward pass\n",
    "            outputs = model(inputs)\n",
    "            # Compute loss\n",
    "            loss = loss_function(outputs, targets)\n",
    "            # Perform backward pass\n",
    "            loss.backward()\n",
    "            # Perform optimization\n",
    "            optimizer.step()\n",
    "\n",
    "            current_loss += loss.item()\n",
    "        loss_over_time.append(current_loss/(i+1))\n",
    "    return model, loss_over_time\n"
   ]
  },
  {
   "cell_type": "code",
   "execution_count": 4,
   "metadata": {},
   "outputs": [],
   "source": [
    "def k_fold_training(df, ksplit, config, features, training_results):\n",
    "    for k in range(config[\"k-fold\"]):\n",
    "        train, test = next(ksplit)\n",
    "        df_train = df[df[\"protein_index\"].isin(train)]\n",
    "        df_test = df[df[\"protein_index\"].isin(test)]\n",
    "        dataset_train = prepare_train_data(df_train, config, features)\n",
    "        X_test, y_test = prepare_test_data(df_test, config, features,\n",
    "                                           dataset_train.scaler)\n",
    "        trainloader = torch.utils.data.DataLoader(dataset_train,\n",
    "                                                  batch_size=config[\"batch_size\"],\n",
    "                                                  shuffle=False,\n",
    "                                                  num_workers=config[\"num_workers\"])\n",
    "\n",
    "        # Initialize a new Novozymes_Model\n",
    "        model = Novozymes_Model(len(features))\n",
    "\n",
    "        # Define the loss function and optimizer\n",
    "        loss_function = nn.L1Loss()\n",
    "        optimizer = torch.optim.Adam(model.parameters(), lr=1e-4)\n",
    "\n",
    "        # Train model:\n",
    "        model, loss_over_time = train_model(\n",
    "            model, optimizer, loss_function, trainloader)\n",
    "\n",
    "        # Evaluate this model:\n",
    "        mse = evaluate_model(X_test, y_test, model)\n",
    "        # print(f\"MSE obtained for k-fold {k}: {mse}\")\n",
    "        results = {\"loss_over_time\": loss_over_time,\n",
    "                    \"mse\": mse}\n",
    "        training_results.append(results)\n",
    "\n",
    "    # Process is complete.\n",
    "    avg_mse = sum(x['mse'] for x in training_results)/config['k-fold']\n",
    "    print(f\"avg mse: {avg_mse}\")\n",
    "    return avg_mse\n"
   ]
  },
  {
   "cell_type": "code",
   "execution_count": 5,
   "metadata": {},
   "outputs": [],
   "source": [
    "# loss_list = [x[\"loss_over_time\"] for x in training_results]\n",
    "# for loss in loss_list:\n",
    "#     plt.plot(loss)\n",
    "# plt.show()"
   ]
  },
  {
   "cell_type": "code",
   "execution_count": 6,
   "metadata": {},
   "outputs": [
    {
     "name": "stdout",
     "output_type": "stream",
     "text": [
      "avg mse: 7.299323117107688\n",
      "avg mse: 5.367676394216533\n",
      "avg mse: 4.371882718217059\n"
     ]
    }
   ],
   "source": [
    "# plot the learning curve of the model\n",
    "# ie. the avg mse when df has 10, 100, 1000 elements\n",
    "# len(df) = 5k\n",
    "df = pd.read_csv(f\"{DIR_PATH}/{config['dataset_name']}.csv\")\n",
    "\n",
    "num_rows = [100, 1000, 2000, 3000, 4000, len(df)]\n",
    "avg_mse = [] \n",
    "\n",
    "for n in num_rows:\n",
    "    df_n_rows = df.sample(n)\n",
    "    # add protein_index to the dataset and get ksplit:\n",
    "    training_results = []\n",
    "    df_n_rows, ksplit = split_dataset(df_n_rows, config)\n",
    "    avg_mse_n_rows = k_fold_training(\n",
    "        df_n_rows, ksplit, config, features, training_results)\n",
    "    avg_mse.append(avg_mse_n_rows)\n",
    "\n"
   ]
  },
  {
   "cell_type": "code",
   "execution_count": 9,
   "metadata": {},
   "outputs": [
    {
     "data": {
      "text/plain": [
       "[<matplotlib.lines.Line2D at 0x7f4e054508b0>]"
      ]
     },
     "execution_count": 9,
     "metadata": {},
     "output_type": "execute_result"
    },
    {
     "data": {
      "image/png": "[encoded data removed]",
      "text/plain": [
       "<Figure size 640x480 with 1 Axes>"
      ]
     },
     "metadata": {},
     "output_type": "display_data"
    }
   ],
   "source": [
    "# plot\n",
    "plt.plot(num_rows, avg_mse)\n",
    "# print(num_rows, avg_mse)\n"
   ]
  },
  {
   "cell_type": "markdown",
   "metadata": {},
   "source": [
    "# Predicting on submission"
   ]
  },
  {
   "cell_type": "code",
   "execution_count": 8,
   "metadata": {},
   "outputs": [
    {
     "ename": "NameError",
     "evalue": "name 'X_test' is not defined",
     "output_type": "error",
     "traceback": [
      "\u001b[0;31m---------------------------------------------------------------------------\u001b[0m",
      "\u001b[0;31mNameError\u001b[0m                                 Traceback (most recent call last)",
      "Cell \u001b[0;32mIn [8], line 1\u001b[0m\n\u001b[0;32m----> 1\u001b[0m X_test \u001b[39m=\u001b[39m torch\u001b[39m.\u001b[39mfrom_numpy(X_test)\u001b[39m.\u001b[39mfloat()\n\u001b[1;32m      2\u001b[0m X_test[\u001b[39m1\u001b[39m, :\u001b[39m3\u001b[39m]\n",
      "\u001b[0;31mNameError\u001b[0m: name 'X_test' is not defined"
     ]
    }
   ],
   "source": [
    "X_test = torch.from_numpy(X_test).float()\n",
    "X_test[1, :3]"
   ]
  },
  {
   "cell_type": "code",
   "execution_count": null,
   "metadata": {},
   "outputs": [],
   "source": [
    "results = net(X_test)\n",
    "results[:10]"
   ]
  },
  {
   "cell_type": "code",
   "execution_count": null,
   "metadata": {},
   "outputs": [],
   "source": [
    "submission = pd.DataFrame(columns=[\"seq_id\", \"tm\"])\n",
    "submission[\"seq_id\"] = df[\"seq_id\"]\n",
    "submission[\"tm\"] = results.detach().numpy() * -1\n",
    "submission.head()"
   ]
  },
  {
   "cell_type": "code",
   "execution_count": null,
   "metadata": {},
   "outputs": [],
   "source": [
    "save_submission(submission)"
   ]
  }
 ],
 "metadata": {
  "kernelspec": {
   "display_name": "Python 3.8.10 64-bit",
   "language": "python",
   "name": "python3"
  },
  "language_info": {
   "codemirror_mode": {
    "name": "ipython",
    "version": 3
   },
   "file_extension": ".py",
   "mimetype": "text/x-python",
   "name": "python",
   "nbconvert_exporter": "python",
   "pygments_lexer": "ipython3",
   "version": "3.8.10"
  },
  "orig_nbformat": 4,
  "vscode": {
   "interpreter": {
    "hash": "31f2aee4e71d21fbe5cf8b01ff0e069b9275f58929596ceb00d14d90e3e16cd6"
   }
  }
 },
 "nbformat": 4,
 "nbformat_minor": 2
}
