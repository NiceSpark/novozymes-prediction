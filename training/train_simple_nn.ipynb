{
 "cells": [
  {
   "cell_type": "code",
   "execution_count": 29,
   "metadata": {},
   "outputs": [],
   "source": [
    "import copy\n",
    "import torch.nn.functional as F\n",
    "import torch.nn as nn\n",
    "import torch\n",
    "import matplotlib.pyplot as plt\n",
    "import numpy as np\n",
    "import pandas as pd\n",
    "import random\n",
    "import time\n",
    "\n",
    "from sklearn.preprocessing import StandardScaler\n",
    "from sklearn.model_selection import KFold\n",
    "\n",
    "from utils.file_utils import open_json, write_json, log_training\n",
    "from utils.model import SimpleNN\n",
    "from utils.model_utils import *\n",
    "\n"
   ]
  },
  {
   "cell_type": "code",
   "execution_count": 30,
   "metadata": {},
   "outputs": [],
   "source": [
    "DIR_PATH = \"./dataset\"\n",
    "config = open_json(f\"{DIR_PATH}/config.json\")\n",
    "features_dict = open_json(f\"{DIR_PATH}/features.json\")\n",
    "features = compute_feature_list(config, features_dict)\n",
    "\n",
    "LOG_NAME = \"SimpleNN\"\n",
    "COMPUTE_LEARNING_CURVE = True\n",
    "COMPUTE_FEATURE_IMPORTANCE = True"
   ]
  },
  {
   "cell_type": "code",
   "execution_count": 31,
   "metadata": {},
   "outputs": [
    {
     "name": "stdout",
     "output_type": "stream",
     "text": [
      "cpu\n"
     ]
    }
   ],
   "source": [
    "if torch.cuda.is_available() and config[\"use_cuda\"]:\n",
    "    device = torch.device(\"cuda\")\n",
    "else:\n",
    "    device = torch.device(\"cpu\")\n",
    "\n",
    "print(device)"
   ]
  },
  {
   "cell_type": "code",
   "execution_count": 32,
   "metadata": {},
   "outputs": [],
   "source": [
    "def train_model(model: SimpleNN, optimizer, loss_function, trainloader, device):\n",
    "    loss_over_time = []\n",
    "    # Run the training loop\n",
    "    for epoch in range(config[\"num_epochs\"]):\n",
    "        # Set current loss value\n",
    "        current_loss = 0.0\n",
    "        # Iterate over the DataLoader for training data\n",
    "        for i, data in enumerate(trainloader, 0):\n",
    "            # Get and prepare inputs\n",
    "            inputs, targets = data\n",
    "            # inputs, targets = inputs.float(), targets.float()\n",
    "            targets = targets.reshape((targets.shape[0], 1))\n",
    "            # Move to cuda device\n",
    "            inputs, targets = inputs.to(device), targets.to(device)\n",
    "            # Zero the gradients\n",
    "            optimizer.zero_grad()\n",
    "            # Perform forward pass\n",
    "            outputs = model(inputs)\n",
    "            # Compute loss\n",
    "            loss = loss_function(outputs, targets)\n",
    "            # Perform backward pass\n",
    "            loss.backward()\n",
    "            # Perform optimization\n",
    "            optimizer.step()\n",
    "\n",
    "            current_loss += loss.item()\n",
    "        loss_over_time.append(current_loss/(i+1))\n",
    "    return model, loss_over_time\n"
   ]
  },
  {
   "cell_type": "code",
   "execution_count": 33,
   "metadata": {},
   "outputs": [],
   "source": [
    "def k_fold_training(df, ksplit, config, features, device, keep_models=False):\n",
    "    training_results = []\n",
    "    model_list = [None]*config[\"k-fold\"]\n",
    "    scaler_list = [None]*config[\"k-fold\"]\n",
    "\n",
    "    for k in range(config[\"k-fold\"]):\n",
    "        train, test = next(ksplit)\n",
    "        df_train = df[df[\"protein_index\"].isin(train)]\n",
    "        df_test = df[df[\"protein_index\"].isin(test)]\n",
    "\n",
    "        # we load the data for training\n",
    "        dataset_train = prepare_train_data(df_train, config, features)\n",
    "        trainloader = torch.utils.data.DataLoader(dataset_train,\n",
    "                                                  batch_size=config[\"batch_size\"],\n",
    "                                                  shuffle=False,\n",
    "                                                  num_workers=config[\"num_workers\"])\n",
    "\n",
    "        # we load the data for evaluation\n",
    "        X_train, y_train = prepare_eval_data(\n",
    "            df_train, config, features, dataset_train.scaler)\n",
    "        X_test, y_test = prepare_eval_data(\n",
    "            df_test, config, features, dataset_train.scaler)\n",
    "\n",
    "        # Initialize a new Novozymes Model\n",
    "        model = SimpleNN(len(features))\n",
    "        model.to(torch.double)\n",
    "        model.to(device)\n",
    "\n",
    "        # Define the loss function and optimizer\n",
    "        loss_function = nn.L1Loss()\n",
    "        optimizer = torch.optim.Adam(model.parameters(), lr=1e-4)\n",
    "\n",
    "        # Train model:\n",
    "        t0 = time.time()\n",
    "        model, loss_over_time = train_model(\n",
    "            model, optimizer, loss_function, trainloader, device)\n",
    "        t1 = time.time()-t0\n",
    "\n",
    "        # Evaluate this model:\n",
    "        model.eval()\n",
    "        with torch.set_grad_enabled(False):\n",
    "            train_mse = evaluate_model(X_train, y_train, model, device)\n",
    "            test_mse = evaluate_model(X_test, y_test, model, device)\n",
    "            # print(f\"MSE obtained for k-fold {k}: {mse}\")\n",
    "            results = {\"loss_over_time\": loss_over_time,\n",
    "                    \"train_mse\": train_mse,\n",
    "                    \"test_mse\": test_mse,\n",
    "                    \"time\": t1}\n",
    "            training_results.append(results)\n",
    "        \n",
    "        # end of process for k, freeing memory\n",
    "        # del model\n",
    "\n",
    "        if keep_models:\n",
    "            model_list[k] = copy.deepcopy(model)\n",
    "            scaler_list[k] = copy.deepcopy(dataset_train.scaler)\n",
    "\n",
    "    # Process is complete.\n",
    "\n",
    "    return training_results, model_list, scaler_list\n"
   ]
  },
  {
   "cell_type": "markdown",
   "metadata": {},
   "source": [
    "## Learning Curve"
   ]
  },
  {
   "cell_type": "code",
   "execution_count": 34,
   "metadata": {},
   "outputs": [
    {
     "name": "stdout",
     "output_type": "stream",
     "text": [
      "training on 100 rows from the dataset\n"
     ]
    },
    {
     "ename": "KeyboardInterrupt",
     "evalue": "",
     "output_type": "error",
     "traceback": [
      "\u001b[0;31m---------------------------------------------------------------------------\u001b[0m",
      "\u001b[0;31mKeyboardInterrupt\u001b[0m                         Traceback (most recent call last)",
      "Cell \u001b[0;32mIn [34], line 22\u001b[0m\n\u001b[1;32m     20\u001b[0m \u001b[39m# add protein_index to the dataset and get ksplit:\u001b[39;00m\n\u001b[1;32m     21\u001b[0m df_n_rows, ksplit \u001b[39m=\u001b[39m split_dataset(df_n_rows, config)\n\u001b[0;32m---> 22\u001b[0m training_results, _, _ \u001b[39m=\u001b[39m k_fold_training(\n\u001b[1;32m     23\u001b[0m     df_n_rows, ksplit, config, features, device)\n\u001b[1;32m     25\u001b[0m \u001b[39m# add training results to all the other ones\u001b[39;00m\n\u001b[1;32m     26\u001b[0m all_training_results[\u001b[39m\"\u001b[39m\u001b[39mtraining_by_num_rows\u001b[39m\u001b[39m\"\u001b[39m]\u001b[39m.\u001b[39mappend(training_results)\n",
      "Cell \u001b[0;32mIn [33], line 35\u001b[0m, in \u001b[0;36mk_fold_training\u001b[0;34m(df, ksplit, config, features, device, keep_models)\u001b[0m\n\u001b[1;32m     33\u001b[0m \u001b[39m# Train model:\u001b[39;00m\n\u001b[1;32m     34\u001b[0m t0 \u001b[39m=\u001b[39m time\u001b[39m.\u001b[39mtime()\n\u001b[0;32m---> 35\u001b[0m model, loss_over_time \u001b[39m=\u001b[39m train_model(\n\u001b[1;32m     36\u001b[0m     model, optimizer, loss_function, trainloader, device)\n\u001b[1;32m     37\u001b[0m t1 \u001b[39m=\u001b[39m time\u001b[39m.\u001b[39mtime()\u001b[39m-\u001b[39mt0\n\u001b[1;32m     39\u001b[0m \u001b[39m# Evaluate this model:\u001b[39;00m\n",
      "Cell \u001b[0;32mIn [32], line 8\u001b[0m, in \u001b[0;36mtrain_model\u001b[0;34m(model, optimizer, loss_function, trainloader, device)\u001b[0m\n\u001b[1;32m      6\u001b[0m current_loss \u001b[39m=\u001b[39m \u001b[39m0.0\u001b[39m\n\u001b[1;32m      7\u001b[0m \u001b[39m# Iterate over the DataLoader for training data\u001b[39;00m\n\u001b[0;32m----> 8\u001b[0m \u001b[39mfor\u001b[39;00m i, data \u001b[39min\u001b[39;00m \u001b[39menumerate\u001b[39;49m(trainloader, \u001b[39m0\u001b[39;49m):\n\u001b[1;32m      9\u001b[0m     \u001b[39m# Get and prepare inputs\u001b[39;00m\n\u001b[1;32m     10\u001b[0m     inputs, targets \u001b[39m=\u001b[39m data\n\u001b[1;32m     11\u001b[0m     \u001b[39m# inputs, targets = inputs.float(), targets.float()\u001b[39;00m\n",
      "File \u001b[0;32m~/.local/lib/python3.8/site-packages/torch/utils/data/dataloader.py:444\u001b[0m, in \u001b[0;36mDataLoader.__iter__\u001b[0;34m(self)\u001b[0m\n\u001b[1;32m    442\u001b[0m     \u001b[39mreturn\u001b[39;00m \u001b[39mself\u001b[39m\u001b[39m.\u001b[39m_iterator\n\u001b[1;32m    443\u001b[0m \u001b[39melse\u001b[39;00m:\n\u001b[0;32m--> 444\u001b[0m     \u001b[39mreturn\u001b[39;00m \u001b[39mself\u001b[39;49m\u001b[39m.\u001b[39;49m_get_iterator()\n",
      "File \u001b[0;32m~/.local/lib/python3.8/site-packages/torch/utils/data/dataloader.py:390\u001b[0m, in \u001b[0;36mDataLoader._get_iterator\u001b[0;34m(self)\u001b[0m\n\u001b[1;32m    388\u001b[0m \u001b[39melse\u001b[39;00m:\n\u001b[1;32m    389\u001b[0m     \u001b[39mself\u001b[39m\u001b[39m.\u001b[39mcheck_worker_number_rationality()\n\u001b[0;32m--> 390\u001b[0m     \u001b[39mreturn\u001b[39;00m _MultiProcessingDataLoaderIter(\u001b[39mself\u001b[39;49m)\n",
      "File \u001b[0;32m~/.local/lib/python3.8/site-packages/torch/utils/data/dataloader.py:1077\u001b[0m, in \u001b[0;36m_MultiProcessingDataLoaderIter.__init__\u001b[0;34m(self, loader)\u001b[0m\n\u001b[1;32m   1070\u001b[0m w\u001b[39m.\u001b[39mdaemon \u001b[39m=\u001b[39m \u001b[39mTrue\u001b[39;00m\n\u001b[1;32m   1071\u001b[0m \u001b[39m# NB: Process.start() actually take some time as it needs to\u001b[39;00m\n\u001b[1;32m   1072\u001b[0m \u001b[39m#     start a process and pass the arguments over via a pipe.\u001b[39;00m\n\u001b[1;32m   1073\u001b[0m \u001b[39m#     Therefore, we only add a worker to self._workers list after\u001b[39;00m\n\u001b[1;32m   1074\u001b[0m \u001b[39m#     it started, so that we do not call .join() if program dies\u001b[39;00m\n\u001b[1;32m   1075\u001b[0m \u001b[39m#     before it starts, and __del__ tries to join but will get:\u001b[39;00m\n\u001b[1;32m   1076\u001b[0m \u001b[39m#     AssertionError: can only join a started process.\u001b[39;00m\n\u001b[0;32m-> 1077\u001b[0m w\u001b[39m.\u001b[39;49mstart()\n\u001b[1;32m   1078\u001b[0m \u001b[39mself\u001b[39m\u001b[39m.\u001b[39m_index_queues\u001b[39m.\u001b[39mappend(index_queue)\n\u001b[1;32m   1079\u001b[0m \u001b[39mself\u001b[39m\u001b[39m.\u001b[39m_workers\u001b[39m.\u001b[39mappend(w)\n",
      "File \u001b[0;32m/usr/lib/python3.8/multiprocessing/process.py:121\u001b[0m, in \u001b[0;36mBaseProcess.start\u001b[0;34m(self)\u001b[0m\n\u001b[1;32m    118\u001b[0m \u001b[39massert\u001b[39;00m \u001b[39mnot\u001b[39;00m _current_process\u001b[39m.\u001b[39m_config\u001b[39m.\u001b[39mget(\u001b[39m'\u001b[39m\u001b[39mdaemon\u001b[39m\u001b[39m'\u001b[39m), \\\n\u001b[1;32m    119\u001b[0m        \u001b[39m'\u001b[39m\u001b[39mdaemonic processes are not allowed to have children\u001b[39m\u001b[39m'\u001b[39m\n\u001b[1;32m    120\u001b[0m _cleanup()\n\u001b[0;32m--> 121\u001b[0m \u001b[39mself\u001b[39m\u001b[39m.\u001b[39m_popen \u001b[39m=\u001b[39m \u001b[39mself\u001b[39;49m\u001b[39m.\u001b[39;49m_Popen(\u001b[39mself\u001b[39;49m)\n\u001b[1;32m    122\u001b[0m \u001b[39mself\u001b[39m\u001b[39m.\u001b[39m_sentinel \u001b[39m=\u001b[39m \u001b[39mself\u001b[39m\u001b[39m.\u001b[39m_popen\u001b[39m.\u001b[39msentinel\n\u001b[1;32m    123\u001b[0m \u001b[39m# Avoid a refcycle if the target function holds an indirect\u001b[39;00m\n\u001b[1;32m    124\u001b[0m \u001b[39m# reference to the process object (see bpo-30775)\u001b[39;00m\n",
      "File \u001b[0;32m/usr/lib/python3.8/multiprocessing/context.py:224\u001b[0m, in \u001b[0;36mProcess._Popen\u001b[0;34m(process_obj)\u001b[0m\n\u001b[1;32m    222\u001b[0m \u001b[39m@staticmethod\u001b[39m\n\u001b[1;32m    223\u001b[0m \u001b[39mdef\u001b[39;00m \u001b[39m_Popen\u001b[39m(process_obj):\n\u001b[0;32m--> 224\u001b[0m     \u001b[39mreturn\u001b[39;00m _default_context\u001b[39m.\u001b[39;49mget_context()\u001b[39m.\u001b[39;49mProcess\u001b[39m.\u001b[39;49m_Popen(process_obj)\n",
      "File \u001b[0;32m/usr/lib/python3.8/multiprocessing/context.py:277\u001b[0m, in \u001b[0;36mForkProcess._Popen\u001b[0;34m(process_obj)\u001b[0m\n\u001b[1;32m    274\u001b[0m \u001b[39m@staticmethod\u001b[39m\n\u001b[1;32m    275\u001b[0m \u001b[39mdef\u001b[39;00m \u001b[39m_Popen\u001b[39m(process_obj):\n\u001b[1;32m    276\u001b[0m     \u001b[39mfrom\u001b[39;00m \u001b[39m.\u001b[39;00m\u001b[39mpopen_fork\u001b[39;00m \u001b[39mimport\u001b[39;00m Popen\n\u001b[0;32m--> 277\u001b[0m     \u001b[39mreturn\u001b[39;00m Popen(process_obj)\n",
      "File \u001b[0;32m/usr/lib/python3.8/multiprocessing/popen_fork.py:16\u001b[0m, in \u001b[0;36mPopen.__init__\u001b[0;34m(self, process_obj)\u001b[0m\n\u001b[1;32m     15\u001b[0m \u001b[39mdef\u001b[39;00m \u001b[39m__init__\u001b[39m(\u001b[39mself\u001b[39m, process_obj):\n\u001b[0;32m---> 16\u001b[0m     util\u001b[39m.\u001b[39;49m_flush_std_streams()\n\u001b[1;32m     17\u001b[0m     \u001b[39mself\u001b[39m\u001b[39m.\u001b[39mreturncode \u001b[39m=\u001b[39m \u001b[39mNone\u001b[39;00m\n\u001b[1;32m     18\u001b[0m     \u001b[39mself\u001b[39m\u001b[39m.\u001b[39mfinalizer \u001b[39m=\u001b[39m \u001b[39mNone\u001b[39;00m\n",
      "File \u001b[0;32m/usr/lib/python3.8/multiprocessing/util.py:435\u001b[0m, in \u001b[0;36m_flush_std_streams\u001b[0;34m()\u001b[0m\n\u001b[1;32m    433\u001b[0m \u001b[39mdef\u001b[39;00m \u001b[39m_flush_std_streams\u001b[39m():\n\u001b[1;32m    434\u001b[0m     \u001b[39mtry\u001b[39;00m:\n\u001b[0;32m--> 435\u001b[0m         sys\u001b[39m.\u001b[39;49mstdout\u001b[39m.\u001b[39;49mflush()\n\u001b[1;32m    436\u001b[0m     \u001b[39mexcept\u001b[39;00m (\u001b[39mAttributeError\u001b[39;00m, \u001b[39mValueError\u001b[39;00m):\n\u001b[1;32m    437\u001b[0m         \u001b[39mpass\u001b[39;00m\n",
      "File \u001b[0;32m~/.local/lib/python3.8/site-packages/ipykernel/iostream.py:483\u001b[0m, in \u001b[0;36mOutStream.flush\u001b[0;34m(self)\u001b[0m\n\u001b[1;32m    472\u001b[0m \u001b[39m\"\"\"trigger actual zmq send\u001b[39;00m\n\u001b[1;32m    473\u001b[0m \n\u001b[1;32m    474\u001b[0m \u001b[39msend will happen in the background thread\u001b[39;00m\n\u001b[1;32m    475\u001b[0m \u001b[39m\"\"\"\u001b[39;00m\n\u001b[1;32m    476\u001b[0m \u001b[39mif\u001b[39;00m (\n\u001b[1;32m    477\u001b[0m     \u001b[39mself\u001b[39m\u001b[39m.\u001b[39mpub_thread\n\u001b[1;32m    478\u001b[0m     \u001b[39mand\u001b[39;00m \u001b[39mself\u001b[39m\u001b[39m.\u001b[39mpub_thread\u001b[39m.\u001b[39mthread \u001b[39mis\u001b[39;00m \u001b[39mnot\u001b[39;00m \u001b[39mNone\u001b[39;00m\n\u001b[0;32m   (...)\u001b[0m\n\u001b[1;32m    481\u001b[0m ):\n\u001b[1;32m    482\u001b[0m     \u001b[39m# request flush on the background thread\u001b[39;00m\n\u001b[0;32m--> 483\u001b[0m     \u001b[39mself\u001b[39;49m\u001b[39m.\u001b[39;49mpub_thread\u001b[39m.\u001b[39;49mschedule(\u001b[39mself\u001b[39;49m\u001b[39m.\u001b[39;49m_flush)\n\u001b[1;32m    484\u001b[0m     \u001b[39m# wait for flush to actually get through, if we can.\u001b[39;00m\n\u001b[1;32m    485\u001b[0m     evt \u001b[39m=\u001b[39m threading\u001b[39m.\u001b[39mEvent()\n",
      "File \u001b[0;32m~/.local/lib/python3.8/site-packages/ipykernel/iostream.py:210\u001b[0m, in \u001b[0;36mIOPubThread.schedule\u001b[0;34m(self, f)\u001b[0m\n\u001b[1;32m    208\u001b[0m     \u001b[39mself\u001b[39m\u001b[39m.\u001b[39m_events\u001b[39m.\u001b[39mappend(f)\n\u001b[1;32m    209\u001b[0m     \u001b[39m# wake event thread (message content is ignored)\u001b[39;00m\n\u001b[0;32m--> 210\u001b[0m     \u001b[39mself\u001b[39;49m\u001b[39m.\u001b[39;49m_event_pipe\u001b[39m.\u001b[39;49msend(\u001b[39mb\u001b[39;49m\u001b[39m\"\u001b[39;49m\u001b[39m\"\u001b[39;49m)\n\u001b[1;32m    211\u001b[0m \u001b[39melse\u001b[39;00m:\n\u001b[1;32m    212\u001b[0m     f()\n",
      "File \u001b[0;32m~/.local/lib/python3.8/site-packages/zmq/sugar/socket.py:620\u001b[0m, in \u001b[0;36mSocket.send\u001b[0;34m(self, data, flags, copy, track, routing_id, group)\u001b[0m\n\u001b[1;32m    613\u001b[0m         data \u001b[39m=\u001b[39m zmq\u001b[39m.\u001b[39mFrame(\n\u001b[1;32m    614\u001b[0m             data,\n\u001b[1;32m    615\u001b[0m             track\u001b[39m=\u001b[39mtrack,\n\u001b[1;32m    616\u001b[0m             copy\u001b[39m=\u001b[39mcopy \u001b[39mor\u001b[39;00m \u001b[39mNone\u001b[39;00m,\n\u001b[1;32m    617\u001b[0m             copy_threshold\u001b[39m=\u001b[39m\u001b[39mself\u001b[39m\u001b[39m.\u001b[39mcopy_threshold,\n\u001b[1;32m    618\u001b[0m         )\n\u001b[1;32m    619\u001b[0m     data\u001b[39m.\u001b[39mgroup \u001b[39m=\u001b[39m group\n\u001b[0;32m--> 620\u001b[0m \u001b[39mreturn\u001b[39;00m \u001b[39msuper\u001b[39;49m()\u001b[39m.\u001b[39;49msend(data, flags\u001b[39m=\u001b[39;49mflags, copy\u001b[39m=\u001b[39;49mcopy, track\u001b[39m=\u001b[39;49mtrack)\n",
      "File \u001b[0;32mzmq/backend/cython/socket.pyx:746\u001b[0m, in \u001b[0;36mzmq.backend.cython.socket.Socket.send\u001b[0;34m()\u001b[0m\n",
      "File \u001b[0;32mzmq/backend/cython/socket.pyx:793\u001b[0m, in \u001b[0;36mzmq.backend.cython.socket.Socket.send\u001b[0;34m()\u001b[0m\n",
      "File \u001b[0;32mzmq/backend/cython/socket.pyx:250\u001b[0m, in \u001b[0;36mzmq.backend.cython.socket._send_copy\u001b[0;34m()\u001b[0m\n",
      "File \u001b[0;32m~/.local/lib/python3.8/site-packages/zmq/backend/cython/checkrc.pxd:13\u001b[0m, in \u001b[0;36mzmq.backend.cython.checkrc._check_rc\u001b[0;34m()\u001b[0m\n",
      "\u001b[0;31mKeyboardInterrupt\u001b[0m: "
     ]
    }
   ],
   "source": [
    "if COMPUTE_LEARNING_CURVE:\n",
    "    df = pd.read_csv(f\"{DIR_PATH}/{config['dataset_name']}.csv\")\n",
    "\n",
    "    # plot the learning curve of the model\n",
    "    # ie. the avg mse when df has 10, 100, 1000 elements\n",
    "    # len(df) = 5k\n",
    "    num_rows = [100, 1000, 3000, len(df)]\n",
    "    all_training_results = {\"training_by_num_rows\": [],\n",
    "                            \"learning_curve\": {\"num_rows\": num_rows,\n",
    "                                            \"train_mse\": [],\n",
    "                                            \"test_mse\": []\n",
    "                                            },\n",
    "                            \"total_training_time\": 0\n",
    "                            }\n",
    "\n",
    "    t0 = time.time()\n",
    "    for n in num_rows:\n",
    "        print(f\"training on {n} rows from the dataset\")\n",
    "        df_n_rows = df.sample(n)\n",
    "        # add protein_index to the dataset and get ksplit:\n",
    "        df_n_rows, ksplit = split_dataset(df_n_rows, config)\n",
    "        training_results, _, _ = k_fold_training(\n",
    "            df_n_rows, ksplit, config, features, device)\n",
    "\n",
    "        # add training results to all the other ones\n",
    "        all_training_results[\"training_by_num_rows\"].append(training_results)\n",
    "        # compute avg_mse and time\n",
    "        train_mse = sum(x['train_mse']\n",
    "                            for x in training_results)/config['k-fold']\n",
    "        test_mse = sum(x['test_mse']\n",
    "                        for x in training_results)/config['k-fold']\n",
    "        training_time = sum(x['time'] for x in training_results)\n",
    "\n",
    "        # update result variables\n",
    "        all_training_results[\"total_training_time\"] += training_time\n",
    "        all_training_results[\"learning_curve\"][\"train_mse\"].append(train_mse)\n",
    "        all_training_results[\"learning_curve\"][\"test_mse\"].append(test_mse)\n",
    "\n",
    "\n",
    "    total_time = time.time()-t0\n",
    "    print(f\"total_training_time= {all_training_results['total_training_time']:.2f}, {total_time= :.2f}, \\\n",
    "        training_time: {(all_training_results['total_training_time']/total_time)*100:.2f}% of total time\")\n"
   ]
  },
  {
   "cell_type": "code",
   "execution_count": null,
   "metadata": {},
   "outputs": [],
   "source": [
    "if COMPUTE_LEARNING_CURVE:\n",
    "    # save results to output\n",
    "    model = SimpleNN(len(features))\n",
    "    model_structure = str(model).replace('(', '').replace(')', '').split('\\n')\n",
    "    dir_path = log_training(LOG_NAME, all_training_results, config, features, model_structure)\n",
    "    print(f\"logged training in {dir_path}\")"
   ]
  },
  {
   "cell_type": "markdown",
   "metadata": {},
   "source": [
    "## Feature Importance"
   ]
  },
  {
   "cell_type": "code",
   "execution_count": null,
   "metadata": {},
   "outputs": [],
   "source": [
    "if COMPUTE_FEATURE_IMPORTANCE:\n",
    "    # all_training_results[feature1]: result obtained when df[feature1] = random\n",
    "    all_training_results = {}\n",
    "    \n",
    "    df = pd.read_csv(f\"{DIR_PATH}/{config['dataset_name']}.csv\")\n",
    "\n",
    "    # 1. we train k-fold models using all features:\n",
    "    df, ksplit = split_dataset(df, config)\n",
    "    ksplit_list = list(ksplit)\n",
    "    training_results, model_list, scaler_list = k_fold_training(\n",
    "        df, iter(ksplit_list), config, features, device, keep_models=True)\n",
    "\n",
    "    # compute mse (with no feature randomized)\n",
    "    none_random_train_mse = sum(x['train_mse']\n",
    "                                for x in training_results)/config['k-fold']\n",
    "    none_random_test_mse = sum(x['test_mse']\n",
    "                                for x in training_results)/config['k-fold']\n",
    "    all_training_results[\"none_randomized\"] = {\n",
    "        \"train_mse\": none_random_train_mse, \"test_mse\": none_random_test_mse}\n",
    "    \n",
    "    # 2. for each feature we take the df, randomize the feature column, then compute the new mse score with each model\n",
    "    for feature in features:\n",
    "        # create a copy of the dataset with the feature column being random\n",
    "        df_random = copy.deepcopy(df)\n",
    "        df_random[feature] = np.random.randint(-1000, 1000, df_random.shape[0])\n",
    "        training_results = []\n",
    "\n",
    "        # evaluate all model on this new dataset\n",
    "        ksplit = iter(ksplit_list)\n",
    "        for k in range(config[\"k-fold\"]):\n",
    "            # get the same ksplit as during training\n",
    "            train, test = next(ksplit)\n",
    "            model = model_list[k] # model result from the training\n",
    "            dataset_train_scaler = scaler_list[k] # scaler from training\n",
    "\n",
    "            # we load the data for evaluation\n",
    "            df_train = df_random[df_random[\"protein_index\"].isin(train)]\n",
    "            df_test = df_random[df_random[\"protein_index\"].isin(test)]\n",
    "            X_train, y_train = prepare_eval_data(\n",
    "                df_train, config, features, dataset_train_scaler)\n",
    "            X_test, y_test = prepare_eval_data(\n",
    "                df_test, config, features, dataset_train_scaler)\n",
    "\n",
    "            # Evaluate this model:\n",
    "            model.eval()\n",
    "            with torch.set_grad_enabled(False):\n",
    "                train_mse = evaluate_model(X_train, y_train, model, device)\n",
    "                test_mse = evaluate_model(X_test, y_test, model, device)\n",
    "                # print(f\"MSE obtained for k-fold {k}: {mse}\")\n",
    "                results = {\n",
    "                        \"train_mse\": train_mse,\n",
    "                        \"test_mse\": test_mse\n",
    "                        }\n",
    "                training_results.append(results)\n",
    "                \n",
    "        # compute avg_mse\n",
    "        train_mse = sum(x['train_mse']\n",
    "                        for x in training_results)/config['k-fold']\n",
    "        test_mse = sum(x['test_mse']\n",
    "                    for x in training_results)/config['k-fold']\n",
    "        # add training results to all the other ones\n",
    "        all_training_results[feature] = {\n",
    "            \"train_mse\": train_mse, \"test_mse\": test_mse, \n",
    "            \"delta_train_mse\": train_mse-none_random_train_mse,\n",
    "            \"delta_test_mse\": test_mse-none_random_test_mse,\n",
    "            }\n",
    "\n",
    "    # rank results\n",
    "    ranked_delta_test_mse = [[x, all_training_results[x].get(\n",
    "        \"delta_test_mse\", 0)] for x in all_training_results.keys()]\n",
    "    ranked_delta_test_mse.sort(key=lambda x: x[1], reverse=True)\n",
    "    write_json(f\"./outputs/{LOG_NAME}_feature_importance.json\",\n",
    "               {\"ranked_delta_test_mse\": ranked_delta_test_mse,\n",
    "                \"all_training_results\": all_training_results})\n"
   ]
  },
  {
   "cell_type": "code",
   "execution_count": null,
   "metadata": {},
   "outputs": [
    {
     "data": {
      "image/png": "[encoded data removed]",
      "text/plain": [
       "<Figure size 640x480 with 1 Axes>"
      ]
     },
     "metadata": {},
     "output_type": "display_data"
    }
   ],
   "source": [
    "if COMPUTE_FEATURE_IMPORTANCE:\n",
    "    # plot the difference with the mse with no random columns for each feature\n",
    "    delta_train_mse = [all_training_results[x].get(\n",
    "        \"delta_train_mse\", 0) for x in all_training_results.keys()]\n",
    "    delta_test_mse = [all_training_results[x].get(\n",
    "        \"delta_test_mse\", 0) for x in all_training_results.keys()]\n",
    "\n",
    "    plt.plot(delta_train_mse, \"or\", label=\"delta_train_mse\")\n",
    "    plt.plot(delta_test_mse, \"og\", label=\"delta_test_mse\")\n",
    "    plt.legend()\n",
    "    plt.title(\n",
    "        \"difference btw mse with or without feature column randomized\")\n",
    "    plt.savefig(f\"{LOG_NAME}_feature_importance.jpg\")\n"
   ]
  },
  {
   "cell_type": "markdown",
   "metadata": {},
   "source": [
    "# Predicting on submission"
   ]
  },
  {
   "cell_type": "code",
   "execution_count": null,
   "metadata": {},
   "outputs": [],
   "source": [
    "# results = model(X_test)\n",
    "# results[:10]"
   ]
  },
  {
   "cell_type": "code",
   "execution_count": null,
   "metadata": {},
   "outputs": [],
   "source": [
    "# submission = pd.DataFrame(columns=[\"seq_id\", \"tm\"])\n",
    "# submission[\"seq_id\"] = df[\"seq_id\"]\n",
    "# submission[\"tm\"] = results.detach().numpy() * -1\n",
    "# submission.head()"
   ]
  },
  {
   "cell_type": "code",
   "execution_count": null,
   "metadata": {},
   "outputs": [],
   "source": [
    "# save_submission(submission)"
   ]
  }
 ],
 "metadata": {
  "kernelspec": {
   "display_name": "Python 3.8.10 64-bit",
   "language": "python",
   "name": "python3"
  },
  "language_info": {
   "codemirror_mode": {
    "name": "ipython",
    "version": 3
   },
   "file_extension": ".py",
   "mimetype": "text/x-python",
   "name": "python",
   "nbconvert_exporter": "python",
   "pygments_lexer": "ipython3",
   "version": "3.8.10"
  },
  "orig_nbformat": 4,
  "vscode": {
   "interpreter": {
    "hash": "31f2aee4e71d21fbe5cf8b01ff0e069b9275f58929596ceb00d14d90e3e16cd6"
   }
  }
 },
 "nbformat": 4,
 "nbformat_minor": 2
}
