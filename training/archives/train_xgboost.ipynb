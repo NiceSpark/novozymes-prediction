{
 "cells": [
  {
   "cell_type": "code",
   "execution_count": 1,
   "metadata": {},
   "outputs": [
    {
     "name": "stderr",
     "output_type": "stream",
     "text": [
      "/home/ml/.local/lib/python3.8/site-packages/tqdm/auto.py:22: TqdmWarning: IProgress not found. Please update jupyter and ipywidgets. See https://ipywidgets.readthedocs.io/en/stable/user_install.html\n",
      "  from .autonotebook import tqdm as notebook_tqdm\n"
     ]
    }
   ],
   "source": [
    "import copy\n",
    "import torch.nn.functional as F\n",
    "import torch.nn as nn\n",
    "import torch\n",
    "import matplotlib.pyplot as plt\n",
    "import numpy as np\n",
    "import pandas as pd\n",
    "import random\n",
    "import time\n",
    "import xgboost as xg\n",
    "\n",
    "from sklearn.preprocessing import StandardScaler, PolynomialFeatures\n",
    "from sklearn.model_selection import KFold\n",
    "from sklearn.metrics import mean_squared_error\n",
    "\n",
    "from utils.file_utils import (open_json, write_json, save_submission,\n",
    "                              log_whole_dataset_training, log_kfold_training)\n",
    "from utils.models import SimpleNN\n",
    "from utils.model_utils import *\n",
    "\n"
   ]
  },
  {
   "cell_type": "code",
   "execution_count": 2,
   "metadata": {},
   "outputs": [],
   "source": [
    "DIR_PATH = \"./dataset\"\n",
    "config = open_json(f\"{DIR_PATH}/config.json\")\n",
    "features_dict = open_json(f\"{DIR_PATH}/features.json\")\n",
    "features = compute_feature_list(config, features_dict)\n",
    "\n",
    "LOG_NAME = \"XGBoost\"\n",
    "COMPUTE_LEARNING_CURVE = True\n",
    "COMPUTE_FEATURE_IMPORTANCE = True\n",
    "TRAIN_WHOLE_DATASET = False\n",
    "COMPUTE_SUBMISSION = False\n"
   ]
  },
  {
   "cell_type": "code",
   "execution_count": 3,
   "metadata": {},
   "outputs": [
    {
     "name": "stdout",
     "output_type": "stream",
     "text": [
      "cpu\n"
     ]
    }
   ],
   "source": [
    "if torch.cuda.is_available() and config[\"use_cuda\"]:\n",
    "    device = torch.device(\"cuda\")\n",
    "else:\n",
    "    device = torch.device(\"cpu\")\n",
    "\n",
    "print(device)"
   ]
  },
  {
   "cell_type": "code",
   "execution_count": 4,
   "metadata": {},
   "outputs": [],
   "source": [
    "def k_fold_training(df, ksplit, config, features, device, keep_models=False):\n",
    "    training_results = []\n",
    "    model_list = [None]*config[\"k-fold\"]\n",
    "    scaler_list = [None]*config[\"k-fold\"]\n",
    "\n",
    "    for k in range(config[\"k-fold\"]):\n",
    "        train, test = next(ksplit)\n",
    "        df_train = df[df[\"protein_index\"].isin(train)]\n",
    "        df_test = df[df[\"protein_index\"].isin(test)]\n",
    "\n",
    "        # we load the data for training\n",
    "        scaler = StandardScaler()\n",
    "\n",
    "        # we load the data\n",
    "        X_train, y_train = prepare_xgboost(\n",
    "            df_train, config, features, scaler, fit_scaler=True)\n",
    "        X_test, y_test = prepare_xgboost(\n",
    "            df_test, config, features, scaler, fit_scaler=False)\n",
    "\n",
    "        # Initialize a new Novozymes Model\n",
    "        model = xg.XGBRegressor(objective='reg:squarederror',\n",
    "                                n_estimators=config[\"n_estimators\"], seed=123)\n",
    "\n",
    "        # Fitting the model\n",
    "        model.fit(X_train, y_train)\n",
    "\n",
    "        # Evaluate this model:\n",
    "        y_train_predicted = model.predict(X_train)\n",
    "        y_test_predicted = model.predict(X_test)\n",
    "        train_mse = mean_squared_error(y_train, y_train_predicted)\n",
    "        test_mse = mean_squared_error(y_test, y_test_predicted)\n",
    "\n",
    "        results = {\n",
    "            \"train_mse\": train_mse,\n",
    "            \"test_mse\": test_mse\n",
    "        }\n",
    "        training_results.append(results)\n",
    "\n",
    "        if keep_models:\n",
    "            model_list[k] = copy.deepcopy(model)\n",
    "            scaler_list[k] = copy.deepcopy(scaler)\n",
    "\n",
    "    # Process is complete.\n",
    "\n",
    "    return training_results, model_list, scaler_list\n"
   ]
  },
  {
   "cell_type": "markdown",
   "metadata": {},
   "source": [
    "## Learning Curve"
   ]
  },
  {
   "cell_type": "code",
   "execution_count": 5,
   "metadata": {},
   "outputs": [
    {
     "name": "stdout",
     "output_type": "stream",
     "text": [
      "training on 100 rows from the dataset\n",
      "training on 1000 rows from the dataset\n",
      "training on 3000 rows from the dataset\n",
      "training on 5487 rows from the dataset\n"
     ]
    }
   ],
   "source": [
    "if COMPUTE_LEARNING_CURVE:\n",
    "    df = pd.read_csv(f\"{DIR_PATH}/{config['dataset_name']}.csv\")\n",
    "\n",
    "    # plot the learning curve of the model\n",
    "    # ie. the avg mse when df has 10, 100, 1000 elements\n",
    "    # len(df) = 5k\n",
    "    num_rows = [100, 1000, 3000, len(df)]\n",
    "    all_training_results = {\"training_by_num_rows\": [],\n",
    "                            \"learning_curve\": {\"num_rows\": num_rows,\n",
    "                                            \"train_mse\": [],\n",
    "                                            \"test_mse\": []\n",
    "                                            },\n",
    "                            \"total_training_time\": 0\n",
    "                            }\n",
    "\n",
    "    for n in num_rows:\n",
    "        print(f\"training on {n} rows from the dataset\")\n",
    "        df_n_rows = df.sample(n)\n",
    "        # add protein_index to the dataset and get ksplit:\n",
    "        df_n_rows, ksplit = split_dataset(df_n_rows, config)\n",
    "        training_results, _, _ = k_fold_training(\n",
    "            df_n_rows, ksplit, config, features, device)\n",
    "\n",
    "        # add training results to all the other ones\n",
    "        all_training_results[\"training_by_num_rows\"].append(training_results)\n",
    "        # compute avg_mse and time\n",
    "        train_mse = sum(x['train_mse']\n",
    "                            for x in training_results)/config['k-fold']\n",
    "        test_mse = sum(x['test_mse']\n",
    "                        for x in training_results)/config['k-fold']\n",
    "\n",
    "        # update result variables\n",
    "        all_training_results[\"learning_curve\"][\"train_mse\"].append(train_mse)\n",
    "        all_training_results[\"learning_curve\"][\"test_mse\"].append(test_mse)\n",
    "\n",
    "\n"
   ]
  },
  {
   "cell_type": "code",
   "execution_count": 6,
   "metadata": {},
   "outputs": [
    {
     "name": "stdout",
     "output_type": "stream",
     "text": [
      "logged training in ./outputs/XGBoost_3\n"
     ]
    },
    {
     "data": {
      "image/png": "[encoded data removed]",
      "text/plain": [
       "<Figure size 640x480 with 1 Axes>"
      ]
     },
     "metadata": {},
     "output_type": "display_data"
    }
   ],
   "source": [
    "if COMPUTE_LEARNING_CURVE:\n",
    "    # save results to output\n",
    "    model = SimpleNN(len(features))\n",
    "    model_structure = str(model).replace('(', '').replace(')', '').split('\\n')\n",
    "    dir_path = log_kfold_training(\n",
    "        LOG_NAME, all_training_results, config, features, model_structure)\n",
    "    print(f\"logged training in {dir_path}\")"
   ]
  },
  {
   "cell_type": "markdown",
   "metadata": {},
   "source": [
    "## Feature Importance"
   ]
  },
  {
   "cell_type": "code",
   "execution_count": 7,
   "metadata": {},
   "outputs": [],
   "source": [
    "if COMPUTE_FEATURE_IMPORTANCE and False:\n",
    "    # all_training_results[feature1]: result obtained when df[feature1] = random\n",
    "    all_training_results = {}\n",
    "    \n",
    "    df = pd.read_csv(f\"{DIR_PATH}/{config['dataset_name']}.csv\")\n",
    "\n",
    "    # 1. we train k-fold models using all features:\n",
    "    df, ksplit = split_dataset(df, config)\n",
    "    ksplit_list = list(ksplit)\n",
    "    training_results, model_list, scaler_list = k_fold_training(\n",
    "        df, iter(ksplit_list), config, features, device, keep_models=True)\n",
    "\n",
    "    # compute mse (with no feature randomized)\n",
    "    none_random_train_mse = sum(x['train_mse']\n",
    "                                for x in training_results)/config['k-fold']\n",
    "    none_random_test_mse = sum(x['test_mse']\n",
    "                                for x in training_results)/config['k-fold']\n",
    "    all_training_results[\"none_randomized\"] = {\n",
    "        \"train_mse\": none_random_train_mse, \"test_mse\": none_random_test_mse}\n",
    "    \n",
    "    # 2. for each feature we take the df, randomize the feature column, then compute the new mse score with each model\n",
    "    for feature in features:\n",
    "        # create a copy of the dataset with the feature column being random\n",
    "        df_random = copy.deepcopy(df)\n",
    "        df_random[feature] = np.random.randint(-1000, 1000, df_random.shape[0])\n",
    "        training_results = []\n",
    "\n",
    "        # evaluate all model on this new dataset\n",
    "        ksplit = iter(ksplit_list)\n",
    "        for k in range(config[\"k-fold\"]):\n",
    "            # get the same ksplit as during training\n",
    "            train, test = next(ksplit)\n",
    "            model = model_list[k] # model result from the training\n",
    "            scaler = scaler_list[k] # scaler from training\n",
    "\n",
    "            # we load the data for evaluation\n",
    "            df_train = df_random[df_random[\"protein_index\"].isin(train)]\n",
    "            df_test = df_random[df_random[\"protein_index\"].isin(test)]\n",
    "            # we load the data\n",
    "            X_train, y_train = prepare_xgboost(\n",
    "                df_train, config, features, scaler, fit_scaler=True)\n",
    "            X_test, y_test = prepare_xgboost(\n",
    "                df_test, config, features, scaler, fit_scaler=False)\n",
    "\n",
    "            # Evaluate this model:\n",
    "            y_train_predicted = model.predict(X_train)\n",
    "            y_test_predicted = model.predict(X_test)\n",
    "            train_mse = mean_squared_error(y_train, y_train_predicted)\n",
    "            test_mse = mean_squared_error(y_test, y_test_predicted)\n",
    "\n",
    "            results = {\n",
    "                \"train_mse\": train_mse,\n",
    "                \"test_mse\": test_mse\n",
    "            }\n",
    "            training_results.append(results)\n",
    "                \n",
    "        # compute avg_mse\n",
    "        train_mse = sum(x['train_mse']\n",
    "                        for x in training_results)/config['k-fold']\n",
    "        test_mse = sum(x['test_mse']\n",
    "                    for x in training_results)/config['k-fold']\n",
    "        # add training results to all the other ones\n",
    "        all_training_results[feature] = {\n",
    "            \"train_mse\": train_mse, \"test_mse\": test_mse, \n",
    "            \"delta_train_mse\": train_mse-none_random_train_mse,\n",
    "            \"delta_test_mse\": test_mse-none_random_test_mse,\n",
    "            }\n",
    "\n",
    "    # rank results\n",
    "    ranked_delta_test_mse = [[x, all_training_results[x].get(\n",
    "        \"delta_test_mse\", 0)] for x in all_training_results.keys()]\n",
    "    ranked_delta_test_mse.sort(key=lambda x: x[1], reverse=True)\n",
    "    ranked_delta_test_mse = {x[0]: x[1] for x in ranked_delta_test_mse}\n",
    "    write_json(f\"./outputs/{LOG_NAME}_feature_importance.json\",\n",
    "               {\"ranked_delta_test_mse\": ranked_delta_test_mse,\n",
    "                \"all_training_results\": all_training_results})\n"
   ]
  },
  {
   "cell_type": "markdown",
   "metadata": {},
   "source": [
    "# Predicting on submission"
   ]
  },
  {
   "cell_type": "code",
   "execution_count": 8,
   "metadata": {},
   "outputs": [],
   "source": [
    "def whole_dataset_training(df, config, features, device):\n",
    "    \"\"\"\n",
    "    This function is to be sure to use all available data for submission\n",
    "    This end up seeing the test dataset from kaggle as the test set, without a cv split\n",
    "    This is not best practice for generalisation, \n",
    "    but we are trying to get the highest LB score afterall...\n",
    "    \"\"\"\n",
    "\n",
    "    training_results = []\n",
    "\n",
    "    # we load the data for training\n",
    "    dataset_train = prepare_train_data(df, config, features)\n",
    "    trainloader = torch.utils.data.DataLoader(dataset_train,\n",
    "                                                batch_size=config[\"batch_size\"],\n",
    "                                                shuffle=False,\n",
    "                                                num_workers=config[\"num_workers\"])\n",
    "\n",
    "    # we load the data for evaluation\n",
    "    X_train, y_train = prepare_eval_data(\n",
    "        df, config, features, dataset_train.scaler)\n",
    "    \n",
    "    # Initialize a new Novozymes Model\n",
    "    model = SimpleNN(len(features))\n",
    "    model.to(torch.double)\n",
    "    model.to(device)\n",
    "\n",
    "    # Define the loss function and optimizer\n",
    "    loss_function = nn.L1Loss()\n",
    "    optimizer = torch.optim.Adam(model.parameters(), lr=1e-4)\n",
    "\n",
    "    # Train model:\n",
    "    model, loss_over_time, mse_over_time, _ = train_model(\n",
    "        model, config, optimizer, loss_function, trainloader, device)\n",
    "\n",
    "    # Evaluate this model:\n",
    "    model.eval()\n",
    "    with torch.set_grad_enabled(False):\n",
    "        train_mse = evaluate_model(X_train, y_train, model, device)\n",
    "        # print(f\"MSE obtained for k-fold {k}: {mse}\")\n",
    "        results = {\n",
    "            \"loss_over_time\": loss_over_time,\n",
    "            \"mse_over_time\": mse_over_time,\n",
    "            \"train_mse\": train_mse\n",
    "        }\n",
    "    \n",
    "    # Process is complete.\n",
    "\n",
    "    return model, results, dataset_train.scaler\n"
   ]
  },
  {
   "cell_type": "code",
   "execution_count": 9,
   "metadata": {},
   "outputs": [],
   "source": [
    "if TRAIN_WHOLE_DATASET:\n",
    "    df = pd.read_csv(f\"{DIR_PATH}/{config['dataset_name']}.csv\")\n",
    "    model, results, train_scaler = whole_dataset_training(\n",
    "        df, config, features, device)\n",
    "\n",
    "    # save results to output\n",
    "    model_structure = str(model).replace('(', '').replace(')', '').split('\\n')\n",
    "    dir_path = log_whole_dataset_training(LOG_NAME+\"_whole_dataset\", results,\n",
    "                            config, features, model_structure)\n",
    "    print(f\"logged training in {dir_path}\")\n"
   ]
  },
  {
   "cell_type": "code",
   "execution_count": 10,
   "metadata": {},
   "outputs": [],
   "source": [
    "if TRAIN_WHOLE_DATASET and COMPUTE_SUBMISSION:\n",
    "    df_test = pd.read_csv(f\"{DIR_PATH}/processed_test.csv\")\n",
    "    X_test = df_test[features]\n",
    "    X_test = train_scaler.transform(X_test)\n",
    "    X_test = torch.from_numpy(X_test)\n",
    "    X_test = X_test.to(device)\n",
    "    y_test = model(X_test)\n",
    "    submission = pd.DataFrame(columns=[\"seq_id\", \"tm\"])\n",
    "    submission[\"seq_id\"] = df_test[\"seq_id\"]\n",
    "    submission[\"tm\"] = y_test.detach().numpy() * -1\n",
    "    print(submission.head())\n",
    "    save_path = save_submission(submission, LOG_NAME)\n",
    "    print(f\"{save_path=}\")\n"
   ]
  }
 ],
 "metadata": {
  "kernelspec": {
   "display_name": "Python 3.8.10 64-bit",
   "language": "python",
   "name": "python3"
  },
  "language_info": {
   "codemirror_mode": {
    "name": "ipython",
    "version": 3
   },
   "file_extension": ".py",
   "mimetype": "text/x-python",
   "name": "python",
   "nbconvert_exporter": "python",
   "pygments_lexer": "ipython3",
   "version": "3.8.10"
  },
  "orig_nbformat": 4,
  "vscode": {
   "interpreter": {
    "hash": "31f2aee4e71d21fbe5cf8b01ff0e069b9275f58929596ceb00d14d90e3e16cd6"
   }
  }
 },
 "nbformat": 4,
 "nbformat_minor": 2
}
