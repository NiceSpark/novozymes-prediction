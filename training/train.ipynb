{
    "cells": [
        {
            "cell_type": "markdown",
            "metadata": {},
            "source": [
                "# Training of Neural Network for Novozyme Prediction\n",
                "This NB allows you to test a NN model and get training infos\n",
                "The different parts are:\n",
                "- Simple train: train a NN based on the parameters in the config file\n",
                "- Compute learning curve: mse for a dataset of 100/1000/3000/all rows\n",
                "- Compute feature importance: use saved models and scalers to compute the avg mse with each features being randomized one at a time\n",
                "- Compute submission: use saved models and scalers to compute the avg mse for each row of the submission dataset\n",
                "\n",
                "Note: for hyper parameters optimization see the wandb_training.py script, in which we use wandb to sweep through a list of posssible hyper parameters"
            ]
        },
        {
            "cell_type": "code",
            "execution_count": 1,
            "metadata": {},
            "outputs": [],
            "source": [
                "import torch\n",
                "import numpy as np\n",
                "import pandas as pd\n",
                "import time\n",
                "\n",
                "from training_utils.file_utils import open_json, write_json \n",
                "from training_utils.save_results import (save_submission, log_kfold_training, log_learning_curve, \n",
                "                                        move_models_and_scalers, load_models_and_scalers)\n",
                "from training_utils.models import HybridNN\n",
                "from training_utils.model_utils import *\n",
                "from training_utils.training_nn import k_fold_training_nn\n",
                "from training_utils.training_xgboost import k_fold_training_xgboost\n"
            ]
        },
        {
            "attachments": {},
            "cell_type": "markdown",
            "metadata": {},
            "source": [
                "## Config"
            ]
        },
        {
            "cell_type": "code",
            "execution_count": 2,
            "metadata": {},
            "outputs": [
                {
                    "name": "stdout",
                    "output_type": "stream",
                    "text": [
                        "using 289 features\n"
                    ]
                }
            ],
            "source": [
                "# Use the hybrid Neural Network\n",
                "HYBRID_NN = False\n",
                "# Use XGBOOST (only if HYBRID_NN = False)\n",
                "XGBOOST = True\n",
                "# Train the model on the whole dataset\n",
                "TRAIN = True\n",
                "# whether or not to save the models\n",
                "# (in order to be able to compute the submission)\n",
                "KEEP_MODELS = True\n",
                "# Compute the learning curve\n",
                "COMPUTE_LEARNING_CURVE = False\n",
                "# Compute submission for kaggle leaderboard\n",
                "COMPUTE_SUBMISSION = True\n",
                "# The kind of voxel representation to use\n",
                "# must be true from 0.08 to 0.42 for cnn only !\n",
                "USE_PDB_CHAIN_VOXEL_FOR_SUBMISSION = True\n",
                "# Training directory: what model to use for submission\n",
                "TRAINING_DIR = \"outputs/xgboost_8\"\n",
                "\n",
                "\n",
                "# Load the config file\n",
                "if HYBRID_NN:\n",
                "    config = open_json(\"config_hybrid_nn.json\")\n",
                "    device = get_device(config)\n",
                "    # if there is only one target replace \"dTm_loss_coef\" with either 1 (dTm in targets) or 0 (ddG in targets)\n",
                "    if config[\"targets\"] == [\"ddG\"]:\n",
                "        config[\"dTm_loss_coef\"] = 0\n",
                "    elif config[\"targets\"] == [\"dTm\"]:\n",
                "        config[\"dTm_loss_coef\"] = 1\n",
                "elif XGBOOST:\n",
                "    config = open_json(\"config_xgboost.json\")\n",
                "else:\n",
                "    raise ValueError(\"You must choose a model type\")\n",
                "\n",
                "features_dict = open_json(\n",
                "    f\"{config['dataset_dir']}/{config['features_name']}.json\")\n",
                "features, features_infos = compute_feature_list(config, features_dict)\n",
                "log_name = config[\"model_type\"]\n",
                "\n",
                "print(f\"using {len(features_infos['direct_features'])} features\")\n"
            ]
        },
        {
            "attachments": {},
            "cell_type": "markdown",
            "metadata": {},
            "source": [
                "## Train model\n"
            ]
        },
        {
            "cell_type": "code",
            "execution_count": 3,
            "metadata": {},
            "outputs": [
                {
                    "name": "stdout",
                    "output_type": "stream",
                    "text": [
                        "loaded 6196 data\n",
                        "no valid ksplit path given, doing ksplit without groups\n",
                        "training with xgboost\n"
                    ]
                },
                {
                    "name": "stderr",
                    "output_type": "stream",
                    "text": [
                        "100%|██████████| 100/100 [03:36<00:00,  2.17s/it]\n"
                    ]
                },
                {
                    "name": "stdout",
                    "output_type": "stream",
                    "text": [
                        "logged training in ./outputs/xgboost_8\n"
                    ]
                },
                {
                    "data": {
                        "image/png": "[encoded data removed]",
                        "text/plain": [
                            "<Figure size 1000x400 with 2 Axes>"
                        ]
                    },
                    "metadata": {},
                    "output_type": "display_data"
                }
            ],
            "source": [
                "if TRAIN:\n",
                "    df = load_dataset(config, features, rm_nan=True)\n",
                "\n",
                "    # add kfold group to the dataset and get ksplit:\n",
                "    df = split_dataset(df, config)\n",
                "    \n",
                "    # training\n",
                "    if HYBRID_NN:\n",
                "        print(\"training with hybrid nn\")\n",
                "        training_results = k_fold_training_nn(\n",
                "            df, config, features, features_infos, device, keep_models=KEEP_MODELS)\n",
                "        # save results to output\n",
                "        model = HybridNN(config)\n",
                "        model_structure = str(model).replace(\n",
                "            '(', '').replace(')', '').split('\\n')\n",
                "    elif XGBOOST:\n",
                "        print(\"training with xgboost\")\n",
                "        training_results = k_fold_training_xgboost(\n",
                "            df, config, features, features_infos, keep_models=KEEP_MODELS)\n",
                "        model_structure = []\n",
                "    else:\n",
                "        raise ValueError(\"You must choose a model type\")\n",
                "\n",
                "    # save results to output\n",
                "    dir_path = log_kfold_training(\n",
                "        log_name, training_results, config, features, model_structure=model_structure)\n",
                "\n",
                "    # move models and scalers to output\n",
                "    if KEEP_MODELS:\n",
                "        move_models_and_scalers(dir_path)\n",
                "\n",
                "    print(f\"logged training in {dir_path}\")\n"
            ]
        },
        {
            "cell_type": "markdown",
            "metadata": {},
            "source": [
                "## Learning Curve\n"
            ]
        },
        {
            "cell_type": "code",
            "execution_count": 4,
            "metadata": {},
            "outputs": [],
            "source": [
                "if COMPUTE_LEARNING_CURVE:\n",
                "    df = load_dataset(config, features, rm_nan=True)\n",
                "\n",
                "    # plot the learning curve of the model\n",
                "    # ie. the avg mse when df has 10, 100, 1000 elements\n",
                "    # len(df) = 5k\n",
                "    num_rows = [100, 1000, 3000, len(df)]\n",
                "    all_training_results = {\"training_by_num_rows\": [],\n",
                "                            \"learning_curve\": {\"num_rows\": num_rows,\n",
                "                                               \"train_mse\": [],\n",
                "                                               \"test_mse\": []\n",
                "                                               },\n",
                "                            \"total_training_time\": 0\n",
                "                            }\n",
                "\n",
                "    for n in num_rows:\n",
                "        print(f\"training on {n} rows from the dataset\")\n",
                "        df_n_rows = df.sample(n)\n",
                "        # add kfold group to the dataset and get ksplit:\n",
                "        df_n_rows = split_dataset(df_n_rows, config)\n",
                "        if XGBOOST:\n",
                "            print(\"training with xgboost\")\n",
                "            training_results = k_fold_training_xgboost(\n",
                "                df_n_rows, config, features, features_infos)\n",
                "        elif HYBRID_NN:\n",
                "            print(\"training with hybrid nn\")\n",
                "            training_results = k_fold_training_nn(\n",
                "                df_n_rows, config, features, features_infos, device)\n",
                "\n",
                "        # add training results to all the other ones\n",
                "        all_training_results[\"training_by_num_rows\"].append(training_results)\n",
                "        # compute avg_mse and time\n",
                "        train_mse = sum(x[\"train_mse\"]\n",
                "                        for x in training_results)/config[\"kfold\"]\n",
                "        test_mse = sum(x[\"test_mse\"]\n",
                "                       for x in training_results)/config[\"kfold\"]\n",
                "\n",
                "        # update result variables\n",
                "        all_training_results[\"learning_curve\"][\"train_mse\"].append(train_mse)\n",
                "        all_training_results[\"learning_curve\"][\"test_mse\"].append(test_mse)\n",
                "\n"
            ]
        },
        {
            "cell_type": "code",
            "execution_count": 5,
            "metadata": {},
            "outputs": [],
            "source": [
                "if COMPUTE_LEARNING_CURVE:\n",
                "    # save results to output\n",
                "    dir_path = log_learning_curve(\n",
                "        log_name, all_training_results, config, features)\n",
                "    print(f\"logged training in {dir_path}\")\n"
            ]
        },
        {
            "cell_type": "markdown",
            "metadata": {},
            "source": [
                "# Predicting on submission\n"
            ]
        },
        {
            "attachments": {},
            "cell_type": "markdown",
            "metadata": {},
            "source": [
                "### With Hybrid NN"
            ]
        },
        {
            "cell_type": "code",
            "execution_count": 6,
            "metadata": {},
            "outputs": [],
            "source": [
                "if COMPUTE_SUBMISSION and (\"xgboost\" not in TRAINING_DIR):\n",
                "    dir_path = TRAINING_DIR\n",
                "    submission_df = pd.read_csv(\n",
                "        f\"{config['dataset_dir']}/submission_6_12.csv\")\n",
                "\n",
                "    if USE_PDB_CHAIN_VOXEL_FOR_SUBMISSION:\n",
                "        submission_df[\"direct_voxel_features\"] = submission_df[\"kaggle_voxel_path\"].apply(\n",
                "            np.load)\n",
                "    else:\n",
                "        # load voxel directly in df\n",
                "        submission_df[\"direct_voxel_features\"] = submission_df[\"direct_voxel_path\"].apply(\n",
                "            np.load)\n",
                "    ddG_results = []\n",
                "    dTm_results = []\n",
                "    y_test_ddG = None\n",
                "    y_test_dTm = None\n",
                "\n",
                "    model_list, all_scalers, all_pca_directs = load_models_and_scalers(dir_path)\n",
                "\n",
                "    for k in range(len(model_list)):\n",
                "        model = model_list[k]  # model result from the training\n",
                "        \n",
                "        model.to(device)\n",
                "        dataset_train_scaler = all_scalers[\"X\"][k]  # scaler from training\n",
                "        ddG_scaler = all_scalers[\"ddG\"][k]\n",
                "        dTm_scaler = all_scalers[\"dTm\"][k]\n",
                "        pca_direct = all_pca_directs[k]\n",
                "\n",
                "        X_voxel_features, X_features, _, _ = prepare_eval_data(submission_df, config,\n",
                "                                                            features, features_infos,\n",
                "                                                            dataset_train_scaler,\n",
                "                                                            pca_direct, submission=True)\n",
                "\n",
                "        # Predict on submission with this model:\n",
                "        model.eval()\n",
                "        with torch.set_grad_enabled(False):\n",
                "            X_voxel_features = X_voxel_features.to(device)\n",
                "            X_features = X_features.to(device)\n",
                "            y_test_ddG, y_test_dTm = model(X_voxel_features, X_features)\n",
                "            if y_test_ddG is not None:\n",
                "                y_test_ddG = y_test_ddG.cpu().detach().numpy()\n",
                "                # we scale back the result to get to actual dTm and ddG values\n",
                "                y_test_ddG = ddG_scaler.inverse_transform(y_test_ddG)\n",
                "                # we append to the list of results\n",
                "                ddG_results.append(y_test_ddG)\n",
                "            if y_test_dTm is not None:\n",
                "                y_test_dTm = y_test_dTm.cpu().detach().numpy()\n",
                "                # we scale back the result to get to actual dTm and ddG values\n",
                "                y_test_dTm = dTm_scaler.inverse_transform(y_test_dTm)\n",
                "                # we append to the list of results\n",
                "                dTm_results.append(y_test_dTm)\n",
                "\n",
                "    submission = pd.DataFrame(columns=[\"seq_id\", \"tm\"])\n",
                "    submission[\"seq_id\"] = submission_df[\"seq_id\"]\n",
                "    if y_test_dTm is not None:\n",
                "        print(\"using dTm outputs of the model\")\n",
                "        submission[\"tm\"] = np.mean(np.array(dTm_results), axis=0)\n",
                "    else:\n",
                "        print(\"using ddG outputs of the model\")\n",
                "        submission[\"tm\"] = np.mean(np.array(ddG_results), axis=0)\n",
                "    print(submission.head())\n",
                "    save_path = save_submission(submission, TRAINING_DIR)\n",
                "    print(f\"{save_path=}\")\n"
            ]
        },
        {
            "attachments": {},
            "cell_type": "markdown",
            "metadata": {},
            "source": [
                "### With XGBoost"
            ]
        },
        {
            "cell_type": "code",
            "execution_count": 7,
            "metadata": {},
            "outputs": [
                {
                    "name": "stdout",
                    "output_type": "stream",
                    "text": [
                        "using ddG outputs of the model\n",
                        "   seq_id        tm\n",
                        "0   31390 -1.613593\n",
                        "1   31391 -0.968483\n",
                        "2   31392 -2.168096\n",
                        "3   31393 -0.733740\n",
                        "4   31394 -0.667377\n",
                        "save_path='./submissions/xgboost_2022-12-21_12-36-52/xgboost_2022-12-21_12-36-52.csv'\n"
                    ]
                }
            ],
            "source": [
                "if COMPUTE_SUBMISSION and (\"xgboost\" in TRAINING_DIR):\n",
                "    dir_path = TRAINING_DIR\n",
                "    submission_df = pd.read_csv(\n",
                "        f\"{config['dataset_dir']}/submission_6_12.csv\")\n",
                "\n",
                "    ddG_results = []\n",
                "    dTm_results = []\n",
                "    y_test_ddG = None\n",
                "    y_test_dTm = None\n",
                "\n",
                "    model_list, all_scalers, all_pca_directs = load_models_and_scalers(\n",
                "        dir_path)\n",
                "\n",
                "    for k in range(len(model_list)):\n",
                "        model = model_list[k]  # model result from the training\n",
                "\n",
                "        X_scaler = all_scalers[\"X\"][k]  # scaler from training\n",
                "        # pca_direct = all_pca_directs[k]\n",
                "\n",
                "        X = submission_df[features]\n",
                "        X = X_scaler.transform(X)\n",
                "        X = X[:, features_infos[\"direct_features\"]]\n",
                "\n",
                "        # Predict on submission with this xgboost model\n",
                "        y_test_ddG = model.predict(X)\n",
                "        ddG_results.append(y_test_ddG)\n",
                "\n",
                "        \n",
                "\n",
                "    submission = pd.DataFrame(columns=[\"seq_id\", \"tm\"])\n",
                "    submission[\"seq_id\"] = submission_df[\"seq_id\"]\n",
                "    if y_test_dTm is not None:\n",
                "        print(\"using dTm outputs of the model\")\n",
                "        submission[\"tm\"] = np.mean(np.array(dTm_results), axis=0)\n",
                "    else:\n",
                "        print(\"using ddG outputs of the model\")\n",
                "        submission[\"tm\"] = np.mean(np.array(ddG_results), axis=0)\n",
                "    print(submission.head())\n",
                "    save_path = save_submission(submission, TRAINING_DIR)\n",
                "    print(f\"{save_path=}\")\n"
            ]
        }
    ],
    "metadata": {
        "kernelspec": {
            "display_name": "Python 3.8.10 64-bit",
            "language": "python",
            "name": "python3"
        },
        "language_info": {
            "codemirror_mode": {
                "name": "ipython",
                "version": 3
            },
            "file_extension": ".py",
            "mimetype": "text/x-python",
            "name": "python",
            "nbconvert_exporter": "python",
            "pygments_lexer": "ipython3",
            "version": "3.8.10"
        },
        "orig_nbformat": 4,
        "vscode": {
            "interpreter": {
                "hash": "31f2aee4e71d21fbe5cf8b01ff0e069b9275f58929596ceb00d14d90e3e16cd6"
            }
        }
    },
    "nbformat": 4,
    "nbformat_minor": 2
}
