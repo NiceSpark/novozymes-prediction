{
 "cells": [
  {
   "cell_type": "code",
   "execution_count": 9,
   "metadata": {},
   "outputs": [
    {
     "name": "stdout",
     "output_type": "stream",
     "text": [
      "['uniprot', 'PDB_wild', 'dataset_source', 'alphafold_path']\n",
      "there are 0 na occurences in the X dataset\n",
      "there are 0 na occurences in the y dataset\n"
     ]
    },
    {
     "data": {
      "text/plain": [
       "wild_aa                                                                     M\n",
       "mutation_position                                                           0\n",
       "mutated_aa                                                                  D\n",
       "mutated_chain                                                               A\n",
       "length                                                                  448.0\n",
       "chain_start                                                              34.0\n",
       "chain_end                                                               417.0\n",
       "pH                                                                        6.5\n",
       "sequence                    MEKEKKVKYFLRKSAFGLASVSAAFLVGSTVFAVDSPIEDTPIIRN...\n",
       "blosum62                                                                 -3.0\n",
       "blosum80                                                                 -4.0\n",
       "blosum90                                                                 -4.0\n",
       "demask_entropy                                                         0.0015\n",
       "demask_log2f_var                                                     -17.8728\n",
       "demask_matrix                                                           -0.41\n",
       "demask_score                                                          -0.4907\n",
       "aromaticity                                                          0.060268\n",
       "charge_at_pH                                                       -18.539732\n",
       "flexibility                                                          0.991398\n",
       "gravy                                                               -0.392857\n",
       "helix_fraction                                                       0.238839\n",
       "isoelectric_point                                                    4.797575\n",
       "instability_index                                                    20.96183\n",
       "molWeight                                                             47567.0\n",
       "molar_extinction_1                                                      34380\n",
       "molar_extinction_2                                                      34380\n",
       "sheet_fraction                                                       0.337054\n",
       "turn_fraction                                                        0.176339\n",
       "delta_aromaticity                                                         0.0\n",
       "delta_charge_at_pH                                                    0.84712\n",
       "delta_flexibility                                                   -0.005524\n",
       "delta_gravy                                                          0.012054\n",
       "delta_helix_fraction                                                      0.0\n",
       "delta_isoelectric_point                                              0.026771\n",
       "delta_instability_index                                                   0.0\n",
       "delta_molecular_weight                                                16.1086\n",
       "delta_molar_extinction_1                                                    0\n",
       "delta_molar_extinction_2                                                    0\n",
       "delta_sheet_fraction                                                 0.002232\n",
       "delta_turn_fraction                                                       0.0\n",
       "bfactor                                                                  34.8\n",
       "sasa                                                               240.291661\n",
       "residue_depth                                                        1.829535\n",
       "c_alpha_depth                                                         1.99943\n",
       "Secondary structure                                                         7\n",
       "Relative ASA                                                              1.0\n",
       "Psi                                                                      87.0\n",
       "Phi                                                                     360.0\n",
       "NH->O_1_energy                                                            0.0\n",
       "NH->O_1_relidx                                                            0.0\n",
       "O->NH_1_energy                                                           -0.2\n",
       "O->NH_1_relidx                                                            2.0\n",
       "O->NH_2_energy                                                            0.0\n",
       "O->NH_2_relidx                                                            0.0\n",
       "NH->O_2_energy                                                            0.0\n",
       "NH->O_2_relidx                                                            0.0\n",
       "Name: 1, dtype: object"
      ]
     },
     "execution_count": 9,
     "metadata": {},
     "output_type": "execute_result"
    }
   ],
   "source": [
    "import matplotlib.pyplot as plt\n",
    "import numpy as np\n",
    "import pandas as pd\n",
    "from sklearn.preprocessing import StandardScaler\n",
    "from sklearn.svm import SVR\n",
    "\n",
    "from utils.file_utils import open_json\n",
    "\n",
    "#2 Importing the dataset\n",
    "dataset = pd.read_csv(\"./dataset/main_dataset.csv\")\n",
    "features = open_json(\"./dataset/features.json\")\n",
    "\n",
    "print(features[\"identification\"])\n",
    "# clean dataset:\n",
    "dataset = dataset.drop(columns=features[\"identification\"], axis=1)\n",
    "\n",
    "use_features = {\"identification\": False, \"basics\": True, \"blosum\": True,\n",
    "                \"demask\": True, \"protein_analysis\": True, \n",
    "                \"deltas_protein_analysis\": True, \n",
    "                \"3D_structure_analysis\": True, \"dssp_3D_analysis\": True,\n",
    "                \"target\": False}\n",
    "\n",
    "feature_columns = [features[key] for key in features if use_features[key]]\n",
    "feature_columns = sum(feature_columns, []) # flatten the list of columns\n",
    "\n",
    "X = dataset[feature_columns]\n",
    "y = dataset[[\"ddG\"]].values.astype(float)\n",
    "print(f\"there are {X.isna().sum().sum()} na occurences in the X dataset\")\n",
    "print(f\"there are {np.isnan(y).sum()} na occurences in the y dataset\")\n",
    "\n",
    "# y\n",
    "X.iloc[1,:]"
   ]
  },
  {
   "cell_type": "code",
   "execution_count": 33,
   "metadata": {},
   "outputs": [
    {
     "data": {
      "text/plain": [
       "(array([ 0.70609333,  2.25084438, -1.15629942, -1.14457718, -1.1151844 ,\n",
       "         4.45735191,  1.89228619, -0.24973849, -0.68930367, -0.43698546,\n",
       "        -0.49240732,  0.08063938, -1.56536563, -1.13105589, -0.86942131,\n",
       "        -0.70522285, -0.62500208, -0.13064924, -1.44020166, -1.06436614,\n",
       "         0.16078851, -0.39754485]),\n",
       " 22)"
      ]
     },
     "execution_count": 33,
     "metadata": {},
     "output_type": "execute_result"
    }
   ],
   "source": [
    "#3 Feature Scaling\n",
    "sc_X = StandardScaler()\n",
    "sc_y = StandardScaler()\n",
    "X = sc_X.fit_transform(X)\n",
    "y = sc_y.fit_transform(y)\n",
    "\n",
    "X[1,:], len(X[1,:])"
   ]
  },
  {
   "cell_type": "code",
   "execution_count": 36,
   "metadata": {},
   "outputs": [
    {
     "name": "stderr",
     "output_type": "stream",
     "text": [
      "/home/tom/.local/share/virtualenvs/novozymes-prediction-Gl9CRTFV/lib/python3.8/site-packages/sklearn/utils/validation.py:1111: DataConversionWarning: A column-vector y was passed when a 1d array was expected. Please change the shape of y to (n_samples, ), for example using ravel().\n",
      "  y = column_or_1d(y, warn=True)\n"
     ]
    },
    {
     "data": {
      "text/html": [
       "<style>#sk-container-id-2 {color: black;background-color: white;}#sk-container-id-2 pre{padding: 0;}#sk-container-id-2 div.sk-toggleable {background-color: white;}#sk-container-id-2 label.sk-toggleable__label {cursor: pointer;display: block;width: 100%;margin-bottom: 0;padding: 0.3em;box-sizing: border-box;text-align: center;}#sk-container-id-2 label.sk-toggleable__label-arrow:before {content: \"▸\";float: left;margin-right: 0.25em;color: #696969;}#sk-container-id-2 label.sk-toggleable__label-arrow:hover:before {color: black;}#sk-container-id-2 div.sk-estimator:hover label.sk-toggleable__label-arrow:before {color: black;}#sk-container-id-2 div.sk-toggleable__content {max-height: 0;max-width: 0;overflow: hidden;text-align: left;background-color: #f0f8ff;}#sk-container-id-2 div.sk-toggleable__content pre {margin: 0.2em;color: black;border-radius: 0.25em;background-color: #f0f8ff;}#sk-container-id-2 input.sk-toggleable__control:checked~div.sk-toggleable__content {max-height: 200px;max-width: 100%;overflow: auto;}#sk-container-id-2 input.sk-toggleable__control:checked~label.sk-toggleable__label-arrow:before {content: \"▾\";}#sk-container-id-2 div.sk-estimator input.sk-toggleable__control:checked~label.sk-toggleable__label {background-color: #d4ebff;}#sk-container-id-2 div.sk-label input.sk-toggleable__control:checked~label.sk-toggleable__label {background-color: #d4ebff;}#sk-container-id-2 input.sk-hidden--visually {border: 0;clip: rect(1px 1px 1px 1px);clip: rect(1px, 1px, 1px, 1px);height: 1px;margin: -1px;overflow: hidden;padding: 0;position: absolute;width: 1px;}#sk-container-id-2 div.sk-estimator {font-family: monospace;background-color: #f0f8ff;border: 1px dotted black;border-radius: 0.25em;box-sizing: border-box;margin-bottom: 0.5em;}#sk-container-id-2 div.sk-estimator:hover {background-color: #d4ebff;}#sk-container-id-2 div.sk-parallel-item::after {content: \"\";width: 100%;border-bottom: 1px solid gray;flex-grow: 1;}#sk-container-id-2 div.sk-label:hover label.sk-toggleable__label {background-color: #d4ebff;}#sk-container-id-2 div.sk-serial::before {content: \"\";position: absolute;border-left: 1px solid gray;box-sizing: border-box;top: 0;bottom: 0;left: 50%;z-index: 0;}#sk-container-id-2 div.sk-serial {display: flex;flex-direction: column;align-items: center;background-color: white;padding-right: 0.2em;padding-left: 0.2em;position: relative;}#sk-container-id-2 div.sk-item {position: relative;z-index: 1;}#sk-container-id-2 div.sk-parallel {display: flex;align-items: stretch;justify-content: center;background-color: white;position: relative;}#sk-container-id-2 div.sk-item::before, #sk-container-id-2 div.sk-parallel-item::before {content: \"\";position: absolute;border-left: 1px solid gray;box-sizing: border-box;top: 0;bottom: 0;left: 50%;z-index: -1;}#sk-container-id-2 div.sk-parallel-item {display: flex;flex-direction: column;z-index: 1;position: relative;background-color: white;}#sk-container-id-2 div.sk-parallel-item:first-child::after {align-self: flex-end;width: 50%;}#sk-container-id-2 div.sk-parallel-item:last-child::after {align-self: flex-start;width: 50%;}#sk-container-id-2 div.sk-parallel-item:only-child::after {width: 0;}#sk-container-id-2 div.sk-dashed-wrapped {border: 1px dashed gray;margin: 0 0.4em 0.5em 0.4em;box-sizing: border-box;padding-bottom: 0.4em;background-color: white;}#sk-container-id-2 div.sk-label label {font-family: monospace;font-weight: bold;display: inline-block;line-height: 1.2em;}#sk-container-id-2 div.sk-label-container {text-align: center;}#sk-container-id-2 div.sk-container {/* jupyter's `normalize.less` sets `[hidden] { display: none; }` but bootstrap.min.css set `[hidden] { display: none !important; }` so we also need the `!important` here to be able to override the default hidden behavior on the sphinx rendered scikit-learn.org. See: https://github.com/scikit-learn/scikit-learn/issues/21755 */display: inline-block !important;position: relative;}#sk-container-id-2 div.sk-text-repr-fallback {display: none;}</style><div id=\"sk-container-id-2\" class=\"sk-top-container\"><div class=\"sk-text-repr-fallback\"><pre>SVR()</pre><b>In a Jupyter environment, please rerun this cell to show the HTML representation or trust the notebook. <br />On GitHub, the HTML representation is unable to render, please try loading this page with nbviewer.org.</b></div><div class=\"sk-container\" hidden><div class=\"sk-item\"><div class=\"sk-estimator sk-toggleable\"><input class=\"sk-toggleable__control sk-hidden--visually\" id=\"sk-estimator-id-2\" type=\"checkbox\" checked><label for=\"sk-estimator-id-2\" class=\"sk-toggleable__label sk-toggleable__label-arrow\">SVR</label><div class=\"sk-toggleable__content\"><pre>SVR()</pre></div></div></div></div></div>"
      ],
      "text/plain": [
       "SVR()"
      ]
     },
     "execution_count": 36,
     "metadata": {},
     "output_type": "execute_result"
    }
   ],
   "source": [
    "\n",
    "#4 Fitting the Support Vector Regression Model to the dataset\n",
    "# Create your support vector regressor here\n",
    "# most important SVR parameter is Kernel type. It can be \n",
    "# linear,polynomial or gaussian SVR. We have a non-linear condition \n",
    "# so we can select polynomial or gaussian but here we select \n",
    "# RBF(a gaussian type) kernel.\n",
    "regressor = SVR(kernel='rbf')\n",
    "regressor.fit(X,y)"
   ]
  },
  {
   "cell_type": "code",
   "execution_count": null,
   "metadata": {},
   "outputs": [],
   "source": []
  }
 ],
 "metadata": {
  "kernelspec": {
   "display_name": "Python 3.8.10 ('novozymes-prediction-mCqEfypB')",
   "language": "python",
   "name": "python3"
  },
  "language_info": {
   "codemirror_mode": {
    "name": "ipython",
    "version": 3
   },
   "file_extension": ".py",
   "mimetype": "text/x-python",
   "name": "python",
   "nbconvert_exporter": "python",
   "pygments_lexer": "ipython3",
   "version": "3.8.10"
  },
  "orig_nbformat": 4,
  "vscode": {
   "interpreter": {
    "hash": "3da3ecdfb75935c1c2871feb27ae926d94b18f0209906bda27b4f85f43705836"
   }
  }
 },
 "nbformat": 4,
 "nbformat_minor": 2
}
