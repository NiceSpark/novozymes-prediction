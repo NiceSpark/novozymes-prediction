{
 "cells": [
  {
   "cell_type": "code",
   "execution_count": 8,
   "metadata": {},
   "outputs": [],
   "source": [
    "import random\n",
    "from training_utils.file_utils import open_json, write_json\n",
    "from training_utils.model_utils import load_dataset, compute_feature_list\n",
    "from sklearn.model_selection import KFold"
   ]
  },
  {
   "cell_type": "code",
   "execution_count": 2,
   "metadata": {},
   "outputs": [
    {
     "name": "stdout",
     "output_type": "stream",
     "text": [
      "training on 6012 data\n"
     ]
    }
   ],
   "source": [
    "config = open_json(\"simple_nn_config.json\")\n",
    "DIR_PATH = config[\"dataset_dir\"]\n",
    "features_dict = open_json(f\"{DIR_PATH}/features.json\")\n",
    "features, features_infos = compute_feature_list(config, features_dict)\n",
    "\n",
    "df = load_dataset(config, features)"
   ]
  },
  {
   "cell_type": "code",
   "execution_count": 9,
   "metadata": {},
   "outputs": [
    {
     "name": "stdout",
     "output_type": "stream",
     "text": [
      "{'c': 7, 'd': 1, 'f': 8, 'b': 5, 'a': 2, 'e': 3, 'g': 4}\n",
      "total weight = 30\n",
      "['d', 'a', 'e', 'g']\n",
      "[1, 2, 3, 4]\n",
      "['b', 'c']\n",
      "[5, 7]\n",
      "['f']\n",
      "[8]\n"
     ]
    }
   ],
   "source": [
    "# Python program to find number of folds required using\n",
    "\n",
    "def shuffle_dict(d: dict):\n",
    "    keys = list(d.keys())\n",
    "    random.shuffle(keys)\n",
    "    return {key: d[key] for key in keys}\n",
    "\n",
    "\n",
    "\n",
    "def GroupFit(weight: dict, max_weight: int, ksplit: int):\n",
    "    # First Fit Decreasing algorithm.\n",
    "    # Returns number of folds required using first fit\n",
    "    # This is an \"online\" algorithm, but if we give it a sorted list it is optimal\n",
    "\n",
    "    # Initialize result (Count of folds)\n",
    "    res = 0\n",
    "    folds = [[] for k in range(ksplit)]\n",
    "    weight_values = list(weight.values())\n",
    "    weight_keys = list(weight.keys())\n",
    "\n",
    "    # Create an array to store remaining space in folds\n",
    "    # there can be at most len(weight) folds\n",
    "    groups_remaining_space = [0]*ksplit\n",
    "\n",
    "    # Place items one by one\n",
    "    for i in range(len(weight)):\n",
    "        # Find the first fold that can accommodate\n",
    "        # weight[i]\n",
    "        j = 0\n",
    "        while (j < res):\n",
    "            if (groups_remaining_space[j] >= weight_values[i]):\n",
    "                groups_remaining_space[j] = groups_remaining_space[j] - \\\n",
    "                    weight_values[i]\n",
    "                folds[j].append(weight_keys[i])\n",
    "                break\n",
    "            j += 1\n",
    "\n",
    "        # If no fold could accommodate weight[i]\n",
    "        if (j == res):\n",
    "            groups_remaining_space[res] = max_weight - weight_values[i]\n",
    "            folds[res].append(weight_keys[i])\n",
    "            res = res+1\n",
    "    return folds\n",
    "\n",
    "\n",
    "# Test program\n",
    "weight = {\n",
    "    \"a\": 2,\n",
    "    \"b\": 5,\n",
    "    \"c\": 7,\n",
    "    \"d\": 1,\n",
    "    \"e\": 3,\n",
    "    \"f\": 8,\n",
    "    \"g\": 4,\n",
    "}\n",
    "print(shuffle_dict(weight))\n",
    "print(f\"total weight = {sum(weight.values())}\")\n",
    "# we want 3 folds of 10, so we put max_weight to 11 (some tolerance)\n",
    "ksplit = 3\n",
    "max_weight = 12\n",
    "weight = {k: v for k, v in sorted(\n",
    "    weight.items(), key=lambda item: item[1], reverse=False)}\n",
    "folds = GroupFit(weight, max_weight, ksplit)\n",
    "for fold in folds:\n",
    "    print(fold)\n",
    "    print([weight[i] for i in fold])\n"
   ]
  },
  {
   "cell_type": "code",
   "execution_count": 6,
   "metadata": {},
   "outputs": [
    {
     "name": "stdout",
     "output_type": "stream",
     "text": [
      "total weight = 6012\n"
     ]
    }
   ],
   "source": [
    "# apply the former algorithm to our case: here we sort the weights so it is optimal\n",
    "\n",
    "weight = df.alphafold_path.value_counts(sort=True).to_dict()\n",
    "\n",
    "print(f\"total weight = {sum(weight.values())}\")\n",
    "# we want 5 folds of 6012/5, so we put max_weight to 1203 (exact would be 1202.5)\n",
    "ksplit = 5\n",
    "max_weight = 1203\n",
    "folds = GroupFit(weight, max_weight, ksplit)\n",
    "sorted_fixed_ksplit = {}\n",
    "for k, fold in enumerate(folds):\n",
    "    sorted_fixed_ksplit.update({v: k for v in fold})\n",
    "\n",
    "write_json(\"./ksplit/sorted_fixed_ksplit.json\", sorted_fixed_ksplit)\n"
   ]
  },
  {
   "cell_type": "code",
   "execution_count": 13,
   "metadata": {},
   "outputs": [
    {
     "name": "stdout",
     "output_type": "stream",
     "text": [
      "0\n",
      "total weight = 6012\n",
      "1\n",
      "total weight = 6012\n",
      "2\n",
      "total weight = 6012\n",
      "2\n",
      "total weight = 6012\n",
      "3\n",
      "total weight = 6012\n",
      "4\n",
      "total weight = 6012\n",
      "5\n",
      "total weight = 6012\n",
      "6\n",
      "total weight = 6012\n",
      "7\n",
      "total weight = 6012\n",
      "8\n",
      "total weight = 6012\n",
      "9\n",
      "total weight = 6012\n"
     ]
    }
   ],
   "source": [
    "# apply the former algorithm to our case: less optimal here (unsorted)\n",
    "x = 0\n",
    "while x< 10:\n",
    "    print(x)\n",
    "    weight = df.alphafold_path.value_counts(sort=False).to_dict()\n",
    "    weight = shuffle_dict(weight)\n",
    "    print(f\"total weight = {sum(weight.values())}\")\n",
    "    # we want 5 folds of 6012/5, so we put max_weight to 1205 (exact would be 1202.5)\n",
    "    ksplit = 5\n",
    "    max_weight = 1205\n",
    "    try:\n",
    "        folds = GroupFit(weight, max_weight, ksplit)\n",
    "    except:\n",
    "        # could not do a split for this distribution\n",
    "        continue\n",
    "    unsorted_fixed_ksplit = {}\n",
    "    for k, fold in enumerate(folds):\n",
    "        unsorted_fixed_ksplit.update({v: k for v in fold})\n",
    "\n",
    "    write_json(f\"./ksplit/shuffled_{x}_fixed_ksplit.json\", unsorted_fixed_ksplit)\n",
    "    x += 1\n"
   ]
  },
  {
   "cell_type": "code",
   "execution_count": 11,
   "metadata": {},
   "outputs": [
    {
     "name": "stdout",
     "output_type": "stream",
     "text": [
      "training on 6012 data\n",
      "1203\n",
      "1203\n",
      "1203\n",
      "1203\n",
      "1200\n"
     ]
    }
   ],
   "source": [
    "fixed_ksplit = open_json(\"./ksplit/shuffled_fixed_ksplit.json\")\n",
    "df = load_dataset(config, features)\n",
    "df[\"kfold\"] = df[\"alphafold_path\"].apply(\n",
    "    lambda x: fixed_ksplit[x])\n",
    "for k in range(5):\n",
    "    print(sum(df[df.kfold.eq(k)].alphafold_path.value_counts().tolist()))\n"
   ]
  }
 ],
 "metadata": {
  "kernelspec": {
   "display_name": "Python 3.8.10 64-bit",
   "language": "python",
   "name": "python3"
  },
  "language_info": {
   "codemirror_mode": {
    "name": "ipython",
    "version": 3
   },
   "file_extension": ".py",
   "mimetype": "text/x-python",
   "name": "python",
   "nbconvert_exporter": "python",
   "pygments_lexer": "ipython3",
   "version": "3.8.10"
  },
  "orig_nbformat": 4,
  "vscode": {
   "interpreter": {
    "hash": "31f2aee4e71d21fbe5cf8b01ff0e069b9275f58929596ceb00d14d90e3e16cd6"
   }
  }
 },
 "nbformat": 4,
 "nbformat_minor": 2
}
