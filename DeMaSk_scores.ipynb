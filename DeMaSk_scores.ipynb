{
 "cells": [
  {
   "cell_type": "code",
   "execution_count": 2,
   "metadata": {},
   "outputs": [],
   "source": [
    "import pandas as pd\n",
    "import glob\n",
    "import tqdm\n",
    "import os"
   ]
  },
  {
   "cell_type": "code",
   "execution_count": 3,
   "metadata": {},
   "outputs": [
    {
     "data": {
      "text/html": [
       "<div>\n",
       "<style scoped>\n",
       "    .dataframe tbody tr th:only-of-type {\n",
       "        vertical-align: middle;\n",
       "    }\n",
       "\n",
       "    .dataframe tbody tr th {\n",
       "        vertical-align: top;\n",
       "    }\n",
       "\n",
       "    .dataframe thead th {\n",
       "        text-align: right;\n",
       "    }\n",
       "</style>\n",
       "<table border=\"1\" class=\"dataframe\">\n",
       "  <thead>\n",
       "    <tr style=\"text-align: right;\">\n",
       "      <th></th>\n",
       "      <th>uniprot</th>\n",
       "      <th>PDB_wild</th>\n",
       "      <th>ddG</th>\n",
       "      <th>wild_aa</th>\n",
       "      <th>mutation_position</th>\n",
       "      <th>mutated_aa</th>\n",
       "      <th>mutated_chain</th>\n",
       "      <th>length</th>\n",
       "      <th>chain_start</th>\n",
       "      <th>chain_end</th>\n",
       "      <th>pH</th>\n",
       "      <th>sasa</th>\n",
       "      <th>residue_depth</th>\n",
       "      <th>c_alpha_depth</th>\n",
       "      <th>molWeight</th>\n",
       "      <th>dataset_source</th>\n",
       "      <th>alphafold_path</th>\n",
       "      <th>sequence</th>\n",
       "      <th>Texp</th>\n",
       "    </tr>\n",
       "  </thead>\n",
       "  <tbody>\n",
       "    <tr>\n",
       "      <th>0</th>\n",
       "      <td>P06654</td>\n",
       "      <td>1EM7|2GB1|1PGA</td>\n",
       "      <td>-0.14</td>\n",
       "      <td>M</td>\n",
       "      <td>0</td>\n",
       "      <td>A</td>\n",
       "      <td>A</td>\n",
       "      <td>448.0</td>\n",
       "      <td>34.0</td>\n",
       "      <td>417.0</td>\n",
       "      <td>6.5</td>\n",
       "      <td>240.291661</td>\n",
       "      <td>1.829535</td>\n",
       "      <td>1.99943</td>\n",
       "      <td>47567.0</td>\n",
       "      <td>FireProtDB</td>\n",
       "      <td>./data/main_dataset/3D_structures/alphafold/P0...</td>\n",
       "      <td>MEKEKKVKYFLRKSAFGLASVSAAFLVGSTVFAVDSPIEDTPIIRN...</td>\n",
       "      <td>NaN</td>\n",
       "    </tr>\n",
       "    <tr>\n",
       "      <th>1</th>\n",
       "      <td>P06654</td>\n",
       "      <td>1EM7|2GB1|1PGA</td>\n",
       "      <td>-0.38</td>\n",
       "      <td>M</td>\n",
       "      <td>0</td>\n",
       "      <td>D</td>\n",
       "      <td>A</td>\n",
       "      <td>448.0</td>\n",
       "      <td>34.0</td>\n",
       "      <td>417.0</td>\n",
       "      <td>6.5</td>\n",
       "      <td>240.291661</td>\n",
       "      <td>1.829535</td>\n",
       "      <td>1.99943</td>\n",
       "      <td>47567.0</td>\n",
       "      <td>FireProtDB</td>\n",
       "      <td>./data/main_dataset/3D_structures/alphafold/P0...</td>\n",
       "      <td>MEKEKKVKYFLRKSAFGLASVSAAFLVGSTVFAVDSPIEDTPIIRN...</td>\n",
       "      <td>NaN</td>\n",
       "    </tr>\n",
       "  </tbody>\n",
       "</table>\n",
       "</div>"
      ],
      "text/plain": [
       "  uniprot        PDB_wild   ddG wild_aa  mutation_position mutated_aa  \\\n",
       "0  P06654  1EM7|2GB1|1PGA -0.14       M                  0          A   \n",
       "1  P06654  1EM7|2GB1|1PGA -0.38       M                  0          D   \n",
       "\n",
       "  mutated_chain  length  chain_start  chain_end   pH        sasa  \\\n",
       "0             A   448.0         34.0      417.0  6.5  240.291661   \n",
       "1             A   448.0         34.0      417.0  6.5  240.291661   \n",
       "\n",
       "   residue_depth  c_alpha_depth  molWeight dataset_source  \\\n",
       "0       1.829535        1.99943    47567.0     FireProtDB   \n",
       "1       1.829535        1.99943    47567.0     FireProtDB   \n",
       "\n",
       "                                      alphafold_path  \\\n",
       "0  ./data/main_dataset/3D_structures/alphafold/P0...   \n",
       "1  ./data/main_dataset/3D_structures/alphafold/P0...   \n",
       "\n",
       "                                            sequence  Texp  \n",
       "0  MEKEKKVKYFLRKSAFGLASVSAAFLVGSTVFAVDSPIEDTPIIRN...   NaN  \n",
       "1  MEKEKKVKYFLRKSAFGLASVSAAFLVGSTVFAVDSPIEDTPIIRN...   NaN  "
      ]
     },
     "execution_count": 3,
     "metadata": {},
     "output_type": "execute_result"
    }
   ],
   "source": [
    "df = pd.read_csv(\"./data/main_dataset.csv\")\n",
    "df.head(2)"
   ]
  },
  {
   "cell_type": "code",
   "execution_count": 4,
   "metadata": {},
   "outputs": [],
   "source": [
    "unique_df = df[[\"uniprot\", \"sequence\"]].drop_duplicates()\n",
    "\n",
    "fasta_dir = \"./data/main_dataset/DeMaSk_scores/fasta\"\n",
    "homologs_dir = \"./data/main_dataset/DeMaSk_scores/homologs\"\n",
    "\n",
    "def fasta_format(row):\n",
    "    fasta_file = f\"> {row['uniprot']}\\n\"+row[\"sequence\"]\n",
    "    with open(f\"{fasta_dir}/{row['uniprot']}.fa\", \"w+\") as fp:\n",
    "        fp.write(fasta_file)\n",
    "\n",
    "none_df = unique_df.apply(fasta_format, axis=1)\n"
   ]
  },
  {
   "cell_type": "code",
   "execution_count": 5,
   "metadata": {},
   "outputs": [
    {
     "name": "stdout",
     "output_type": "stream",
     "text": [
      "created 257 fasta files\n"
     ]
    }
   ],
   "source": [
    "fasta_files = glob.glob(fasta_dir+\"/*.fa\")\n",
    "print(f\"created {len(fasta_files)} fasta files\")"
   ]
  },
  {
   "cell_type": "code",
   "execution_count": 6,
   "metadata": {},
   "outputs": [
    {
     "name": "stdout",
     "output_type": "stream",
     "text": [
      "python3 -m demask.homologs -s /home/tom/Documents/Kaggle/novozymes-prediction/data/main_dataset/DeMaSk_scores/fasta/E0WVU4.fa -o ./data/main_dataset/DeMaSk_scores/homologs//home/tom/Documents/Kaggle/novozymes-prediction/data/main_dataset/DeMaSk_scores/fasta/E0WVU4.a2m\n"
     ]
    }
   ],
   "source": [
    "fasta_path = \"/home/tom/Documents/Kaggle/novozymes-prediction/data/main_dataset/DeMaSk_scores/fasta/E0WVU4.fa\"\n",
    "uniprot, _ = os.path.splitext(fasta_path)\n",
    "homologs_path = f\"{homologs_dir}/{uniprot}.a2m\"\n",
    "cmd = f\"python3 -m demask.homologs -s {fasta_path} -o {homologs_path}\"\n",
    "print(cmd)"
   ]
  },
  {
   "cell_type": "code",
   "execution_count": 7,
   "metadata": {},
   "outputs": [],
   "source": [
    "# # create homologs files\n",
    "# for fasta_path in tqdm.tqdm(fasta_files):\n",
    "#     uniprot,_ = os.path.splitext(fasta_path) \n",
    "#     homologs_path = f\"{homologs_dir}/{uniprot}.a2m\"\n",
    "#     cmd = f\"python3 -m demask.homologs -s {fasta_path} -o {homologs_path}\"\n",
    "#     os.system(cmd)\n"
   ]
  }
 ],
 "metadata": {
  "kernelspec": {
   "display_name": "Python 3.8.10 ('novozymes-prediction-Gl9CRTFV')",
   "language": "python",
   "name": "python3"
  },
  "language_info": {
   "codemirror_mode": {
    "name": "ipython",
    "version": 3
   },
   "file_extension": ".py",
   "mimetype": "text/x-python",
   "name": "python",
   "nbconvert_exporter": "python",
   "pygments_lexer": "ipython3",
   "version": "3.8.10"
  },
  "orig_nbformat": 4,
  "vscode": {
   "interpreter": {
    "hash": "27b13dc4add9efa918e6bb920c50afa2240557655d90455391ab57f21c65447b"
   }
  }
 },
 "nbformat": 4,
 "nbformat_minor": 2
}
