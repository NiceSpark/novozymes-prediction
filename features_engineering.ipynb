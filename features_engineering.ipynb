{
 "cells": [
  {
   "cell_type": "code",
   "execution_count": 1,
   "metadata": {},
   "outputs": [
    {
     "name": "stderr",
     "output_type": "stream",
     "text": [
      "/home/ml/.local/lib/python3.8/site-packages/blosum/_blosum.py:111: UserWarning: Blosum matrix may not cover all amino-acids\n",
      "  warn(UserWarning(\"Blosum matrix may not cover all amino-acids\"))\n"
     ]
    }
   ],
   "source": [
    "import pandas as pd\n",
    "\n",
    "from utils.features_biopython import add_structure_infos, add_protein_analysis\n",
    "from utils.demask_features import add_demask_predictions\n",
    "from utils.file_utils import open_json\n",
    "from utils.infos_translation import aa_char2int\n",
    "from utils.esm_features import add_esm_features\n",
    "\n",
    "ADD_STRUCTURE_INFOS = True\n",
    "ADD_DEMASK_PREDICTIONS = False\n",
    "ADD_PROTEIN_ANALYSIS = False\n",
    "ADD_ESM_FEATURES = False\n",
    "ONLY_DDG = True\n",
    "SAVE_NEW_CSV = False\n",
    "CONVERT_MUTATION_TO_INT = False\n",
    "CLEAN_DF = True\n",
    "START_FRESH = False\n",
    "DROP_COLUMNS = False\n",
    "\n",
    "NAME = \"all_v3\"\n",
    "DATASET_DIR = f\"./data/main_dataset_creation/outputs/{NAME}/\"\n",
    "DATASET_INPUT_PATH = DATASET_DIR+\"dataset_with_3D_paths.csv\"\n",
    "DATASET_OUTPUT_PATH = DATASET_DIR+\"dataset_with_features.csv\"\n"
   ]
  },
  {
   "cell_type": "code",
   "execution_count": 2,
   "metadata": {},
   "outputs": [],
   "source": [
    "if START_FRESH:\n",
    "    df = pd.read_csv(DATASET_INPUT_PATH)\n",
    "else:\n",
    "    df = pd.read_csv(DATASET_OUTPUT_PATH)\n",
    "\n",
    "# df.head(2)"
   ]
  },
  {
   "cell_type": "code",
   "execution_count": 3,
   "metadata": {},
   "outputs": [
    {
     "name": "stdout",
     "output_type": "stream",
     "text": [
      "6587\n",
      "6587\n"
     ]
    }
   ],
   "source": [
    "if CLEAN_DF:\n",
    "    print(len(df))\n",
    "    if ONLY_DDG:\n",
    "        # we drop rows without ddG\n",
    "        df = df[~(df.ddG.isna())]\n",
    "    # we drop rows without essential values\n",
    "    for k in [\"wild_aa\", \"mutation_position\", \"mutated_aa\", \"sequence\", \"alphafold_path\", \"relaxed_wild_3D_path\", \"relaxed_mutated_3D_path\"]:\n",
    "        df = df[~(df[k].isna())]\n",
    "    print(len(df))\n",
    "    # print(df.isna().sum().to_dict())\n",
    "\n",
    "# df"
   ]
  },
  {
   "cell_type": "code",
   "execution_count": 4,
   "metadata": {},
   "outputs": [],
   "source": [
    "if CONVERT_MUTATION_TO_INT:\n",
    "    df[\"wild_aa_int\"] = df[\"wild_aa\"].apply(lambda x: aa_char2int[x])\n",
    "    df[\"mutated_aa_int\"] = df[\"mutated_aa\"].apply(lambda x: aa_char2int[x])\n"
   ]
  },
  {
   "cell_type": "code",
   "execution_count": 5,
   "metadata": {},
   "outputs": [
    {
     "name": "stderr",
     "output_type": "stream",
     "text": [
      "  7%|▋         | 20/288 [03:01<40:32,  9.08s/it] \n"
     ]
    },
    {
     "ename": "KeyboardInterrupt",
     "evalue": "",
     "output_type": "error",
     "traceback": [
      "\u001b[0;31m---------------------------------------------------------------------------\u001b[0m",
      "\u001b[0;31mKeyboardInterrupt\u001b[0m                         Traceback (most recent call last)",
      "Cell \u001b[0;32mIn [5], line 4\u001b[0m\n\u001b[1;32m      1\u001b[0m \u001b[39m# add residue depth, sasa and c_alpha depth computed from alphafold pdb file => compute_sasa = True, compute_depth = True\u001b[39;00m\n\u001b[1;32m      2\u001b[0m \u001b[39m# add residue dssp infos (rsa etc.) => compute_dssp = True\u001b[39;00m\n\u001b[1;32m      3\u001b[0m \u001b[39mif\u001b[39;00m ADD_STRUCTURE_INFOS:\n\u001b[0;32m----> 4\u001b[0m     df \u001b[39m=\u001b[39m add_structure_infos(df, compute_sasa\u001b[39m=\u001b[39;49m\u001b[39mTrue\u001b[39;49;00m,\n\u001b[1;32m      5\u001b[0m                              compute_depth\u001b[39m=\u001b[39;49m\u001b[39mTrue\u001b[39;49;00m, compute_dssp\u001b[39m=\u001b[39;49m\u001b[39mTrue\u001b[39;49;00m, compute_bfactor\u001b[39m=\u001b[39;49m\u001b[39mTrue\u001b[39;49;00m)\n",
      "File \u001b[0;32m~/novozymes-prediction/utils/features_biopython.py:246\u001b[0m, in \u001b[0;36madd_structure_infos\u001b[0;34m(df, compute_sasa, compute_depth, compute_dssp, compute_bfactor)\u001b[0m\n\u001b[1;32m    243\u001b[0m     wild_relaxed_path \u001b[39m=\u001b[39m \u001b[39mf\u001b[39m\u001b[39m\"\u001b[39m\u001b[39m./compute_mutated_structures/relaxed_pdb/\u001b[39m\u001b[39m{\u001b[39;00mname\u001b[39m}\u001b[39;00m\u001b[39m_relaxed/\u001b[39m\u001b[39m{\u001b[39;00mname\u001b[39m}\u001b[39;00m\u001b[39m_relaxed.pdb\u001b[39m\u001b[39m\"\u001b[39m\n\u001b[1;32m    244\u001b[0m     df \u001b[39m=\u001b[39m add_structure_infos_by_protein(df, alphafold_path, \u001b[39m\"\u001b[39m\u001b[39malphafold\u001b[39m\u001b[39m\"\u001b[39m,\n\u001b[1;32m    245\u001b[0m                                         compute_sasa, compute_depth, compute_dssp, compute_bfactor)\n\u001b[0;32m--> 246\u001b[0m     df \u001b[39m=\u001b[39m add_structure_infos_by_protein(df, wild_relaxed_path, \u001b[39m\"\u001b[39;49m\u001b[39mwild_relaxed\u001b[39;49m\u001b[39m\"\u001b[39;49m,\n\u001b[1;32m    247\u001b[0m                                         compute_sasa, compute_depth, compute_dssp, compute_bfactor)\n\u001b[1;32m    249\u001b[0m unique_mutations_df \u001b[39m=\u001b[39m df\u001b[39m.\u001b[39mcopy()\n\u001b[1;32m    250\u001b[0m unique_mutations_df\u001b[39m.\u001b[39mdrop_duplicates(\n\u001b[1;32m    251\u001b[0m     subset\u001b[39m=\u001b[39mSUBSET_DUPLICATES_NO_PH, inplace\u001b[39m=\u001b[39m\u001b[39mTrue\u001b[39;00m)\n",
      "File \u001b[0;32m~/novozymes-prediction/utils/features_biopython.py:129\u001b[0m, in \u001b[0;36madd_structure_infos_by_protein\u001b[0;34m(df, structure_path, prefix, compute_sasa, compute_depth, compute_dssp, compute_bfactor)\u001b[0m\n\u001b[1;32m    127\u001b[0m name, _ \u001b[39m=\u001b[39m os\u001b[39m.\u001b[39mpath\u001b[39m.\u001b[39msplitext(structure_path\u001b[39m.\u001b[39msplit(\u001b[39m\"\u001b[39m\u001b[39m/\u001b[39m\u001b[39m\"\u001b[39m)[\u001b[39m-\u001b[39m\u001b[39m1\u001b[39m])\n\u001b[1;32m    128\u001b[0m name \u001b[39m=\u001b[39m name\u001b[39m.\u001b[39mreplace(\u001b[39m\"\u001b[39m\u001b[39m_relaxed\u001b[39m\u001b[39m\"\u001b[39m, \u001b[39m'\u001b[39m\u001b[39m'\u001b[39m)\n\u001b[0;32m--> 129\u001b[0m infos \u001b[39m=\u001b[39m get_structure_infos(\n\u001b[1;32m    130\u001b[0m     structure_path, compute_sasa, compute_depth, compute_dssp, compute_bfactor)\n\u001b[1;32m    131\u001b[0m [pos_to_sasa, pos_to_residue_depth, pos_to_c_alpha_depth,\n\u001b[1;32m    132\u001b[0m     pos_to_dssp, pos_to_bfactor] \u001b[39m=\u001b[39m infos\n\u001b[1;32m    134\u001b[0m \u001b[39mdef\u001b[39;00m \u001b[39madd_infos_to_row\u001b[39m(row, prefix, name, pos_to_sasa,\n\u001b[1;32m    135\u001b[0m                      pos_to_residue_depth, pos_to_c_alpha_depth,\n\u001b[1;32m    136\u001b[0m                      pos_to_dssp, pos_to_bfactor):\n\u001b[1;32m    137\u001b[0m     \u001b[39m# we only add infos to the row with the right alphafold_path\u001b[39;00m\n",
      "File \u001b[0;32m~/novozymes-prediction/utils/features_biopython.py:97\u001b[0m, in \u001b[0;36mget_structure_infos\u001b[0;34m(structure_path, compute_sasa, compute_depth, compute_dssp, compute_bfactor)\u001b[0m\n\u001b[1;32m     94\u001b[0m pos_to_bfactor \u001b[39m=\u001b[39m {}\n\u001b[1;32m     96\u001b[0m \u001b[39mif\u001b[39;00m compute_sasa:\n\u001b[0;32m---> 97\u001b[0m     sasa_list \u001b[39m=\u001b[39m get_sasa(structure)\n\u001b[1;32m     98\u001b[0m     pos_to_sasa \u001b[39m=\u001b[39m {i: _sasa \u001b[39mfor\u001b[39;00m i, _sasa \u001b[39min\u001b[39;00m \u001b[39menumerate\u001b[39m(sasa_list)}\n\u001b[1;32m     99\u001b[0m \u001b[39mif\u001b[39;00m compute_depth:\n",
      "File \u001b[0;32m~/novozymes-prediction/utils/features_biopython.py:69\u001b[0m, in \u001b[0;36mget_sasa\u001b[0;34m(structure, sr_n_points)\u001b[0m\n\u001b[1;32m     63\u001b[0m \u001b[39m\"\"\"\u001b[39;00m\n\u001b[1;32m     64\u001b[0m \u001b[39mget residues Solvent Accessible Surface Areas (sasa)\u001b[39;00m\n\u001b[1;32m     65\u001b[0m \u001b[39mCalculates SASAs using the Shrake-Rupley algorithm.\u001b[39;00m\n\u001b[1;32m     66\u001b[0m \u001b[39m\"\"\"\u001b[39;00m\n\u001b[1;32m     68\u001b[0m sr \u001b[39m=\u001b[39m ShrakeRupley(n_points\u001b[39m=\u001b[39msr_n_points)\n\u001b[0;32m---> 69\u001b[0m sr\u001b[39m.\u001b[39;49mcompute(structure, level\u001b[39m=\u001b[39;49m\u001b[39m\"\u001b[39;49m\u001b[39mR\u001b[39;49m\u001b[39m\"\u001b[39;49m)\n\u001b[1;32m     70\u001b[0m \u001b[39mreturn\u001b[39;00m [x\u001b[39m.\u001b[39msasa \u001b[39mfor\u001b[39;00m x \u001b[39min\u001b[39;00m structure\u001b[39m.\u001b[39mget_residues()]\n",
      "File \u001b[0;32m~/.local/lib/python3.8/site-packages/Bio/PDB/SASA.py:217\u001b[0m, in \u001b[0;36mShrakeRupley.compute\u001b[0;34m(self, entity, level)\u001b[0m\n\u001b[1;32m    214\u001b[0m available_set \u001b[39m=\u001b[39m ptset\u001b[39m.\u001b[39mcopy()\n\u001b[1;32m    216\u001b[0m \u001b[39m# KDtree for sphere points\u001b[39;00m\n\u001b[0;32m--> 217\u001b[0m kdt_sphere \u001b[39m=\u001b[39m KDTree(s_on_i, \u001b[39m10\u001b[39;49m)\n\u001b[1;32m    219\u001b[0m \u001b[39m# Iterate over neighbors of atom i\u001b[39;00m\n\u001b[1;32m    220\u001b[0m \u001b[39mfor\u001b[39;00m jj \u001b[39min\u001b[39;00m kdt\u001b[39m.\u001b[39msearch(coords[i], twice_maxradii):\n",
      "\u001b[0;31mKeyboardInterrupt\u001b[0m: "
     ]
    }
   ],
   "source": [
    "# add residue depth, sasa and c_alpha depth computed from alphafold pdb file => compute_sasa = True, compute_depth = True\n",
    "# add residue dssp infos (rsa etc.) => compute_dssp = True\n",
    "if ADD_STRUCTURE_INFOS:\n",
    "    df = add_structure_infos(df, compute_sasa=True,\n",
    "                             compute_depth=True, compute_dssp=True, compute_bfactor=True)\n",
    "\n",
    "#sasa 2 s/it\n",
    "#depth 20+ s/it\n",
    "#dssp 1.15 it/s\n",
    "#bfactor 1.3 it/s\n",
    "#all 22.5s/it"
   ]
  },
  {
   "cell_type": "code",
   "execution_count": null,
   "metadata": {},
   "outputs": [],
   "source": [
    "if ADD_PROTEIN_ANALYSIS:\n",
    "    df = add_protein_analysis(df)\n"
   ]
  },
  {
   "cell_type": "code",
   "execution_count": null,
   "metadata": {},
   "outputs": [],
   "source": [
    "if ADD_DEMASK_PREDICTIONS:\n",
    "    df = add_demask_predictions(df)\n",
    "    "
   ]
  },
  {
   "cell_type": "code",
   "execution_count": null,
   "metadata": {},
   "outputs": [],
   "source": [
    "if ADD_ESM_FEATURES:\n",
    "    # TODO: extract embeddings from all available proteins, not just the ones with ddg\n",
    "    df = add_esm_features(df, use_saved_embeddings=False)"
   ]
  },
  {
   "cell_type": "code",
   "execution_count": null,
   "metadata": {},
   "outputs": [
    {
     "name": "stdout",
     "output_type": "stream",
     "text": [
      "{'uniprot': 0, 'wild_aa': 0, 'mutated_chain': 0, 'mutation_position': 0, 'mutated_aa': 0, 'pH': 0, 'sequence': 0, 'length': 0, 'chain_start': 0, 'chain_end': 0, 'AlphaFoldDB': 569, 'Tm': 5627, 'ddG': 0, 'dTm': 6243, 'dataset_source': 0, 'infos_found': 0, 'alphafold_path': 0, 'relaxed_wild_3D_path': 0, 'relaxed_mutated_3D_path': 0, 'esm_pca_pool_0': 27, 'esm_pca_pool_1': 27, 'esm_pca_pool_2': 27, 'esm_pca_pool_3': 27, 'esm_pca_pool_4': 27, 'esm_pca_pool_5': 27, 'esm_pca_pool_6': 27, 'esm_pca_pool_7': 27, 'esm_pca_pool_8': 27, 'esm_pca_pool_9': 27, 'esm_pca_pool_10': 27, 'esm_pca_pool_11': 27, 'esm_pca_pool_12': 27, 'esm_pca_pool_13': 27, 'esm_pca_pool_14': 27, 'esm_pca_pool_15': 27, 'esm_pca_pool_16': 27, 'esm_pca_pool_17': 27, 'esm_pca_pool_18': 27, 'esm_pca_pool_19': 27, 'esm_pca_pool_20': 27, 'esm_pca_pool_21': 27, 'esm_pca_pool_22': 27, 'esm_pca_pool_23': 27, 'esm_pca_pool_24': 27, 'esm_pca_pool_25': 27, 'esm_pca_pool_26': 27, 'esm_pca_pool_27': 27, 'esm_pca_pool_28': 27, 'esm_pca_pool_29': 27, 'esm_pca_pool_30': 27, 'esm_pca_pool_31': 27, 'esm_pca_wild_0': 27, 'esm_pca_wild_1': 27, 'esm_pca_wild_2': 27, 'esm_pca_wild_3': 27, 'esm_pca_wild_4': 27, 'esm_pca_wild_5': 27, 'esm_pca_wild_6': 27, 'esm_pca_wild_7': 27, 'esm_pca_wild_8': 27, 'esm_pca_wild_9': 27, 'esm_pca_wild_10': 27, 'esm_pca_wild_11': 27, 'esm_pca_wild_12': 27, 'esm_pca_wild_13': 27, 'esm_pca_wild_14': 27, 'esm_pca_wild_15': 27, 'esm_pca_mutant_0': 27, 'esm_pca_mutant_1': 27, 'esm_pca_mutant_2': 27, 'esm_pca_mutant_3': 27, 'esm_pca_mutant_4': 27, 'esm_pca_mutant_5': 27, 'esm_pca_mutant_6': 27, 'esm_pca_mutant_7': 27, 'esm_pca_mutant_8': 27, 'esm_pca_mutant_9': 27, 'esm_pca_mutant_10': 27, 'esm_pca_mutant_11': 27, 'esm_pca_mutant_12': 27, 'esm_pca_mutant_13': 27, 'esm_pca_mutant_14': 27, 'esm_pca_mutant_15': 27, 'esm_pca_local_0': 27, 'esm_pca_local_1': 27, 'esm_pca_local_2': 27, 'esm_pca_local_3': 27, 'esm_pca_local_4': 27, 'esm_pca_local_5': 27, 'esm_pca_local_6': 27, 'esm_pca_local_7': 27, 'esm_pca_local_8': 27, 'esm_pca_local_9': 27, 'esm_pca_local_10': 27, 'esm_pca_local_11': 27, 'esm_pca_local_12': 27, 'esm_pca_local_13': 27, 'esm_pca_local_14': 27, 'esm_pca_local_15': 27, 'esm_mutation_probability': 27, 'esm_mutation_entropy': 27, 'molecular_weight': 0, 'instability_index': 0, 'aromaticity': 0, 'isoelectric_point': 0, 'helix_fraction': 0, 'turn_fraction': 0, 'sheet_fraction': 0, 'molar_extinction_1': 0, 'molar_extinction_2': 0, 'gravy': 0, 'flexibility': 0, 'charge_at_pH': 0, 'mutation_molecular_weight': 0, 'mutation_aromaticity': 0, 'mutation_isoelectric_point': 0, 'mutation_helix_fraction': 0, 'mutation_turn_fraction': 0, 'mutation_sheet_fraction': 0, 'mutation_molar_extinction_1': 0, 'mutation_molar_extinction_2': 0, 'mutation_gravy': 0, 'blosum62': 6587, 'blosum80': 6587, 'blosum90': 6587, 'mutation_instability_index': 0, 'mutation_flexibility': 0, 'mutation_charge_at_pH': 0, 'direct_blosum62': 0, 'direct_blosum80': 0, 'direct_blosum90': 0, 'direct_blosum100': 0, 'indirect_blosum62': 0, 'indirect_blosum80': 0, 'indirect_blosum90': 0, 'indirect_blosum100': 0}\n"
     ]
    }
   ],
   "source": [
    "print(df.isna().sum().to_dict())\n",
    "\n",
    "if SAVE_NEW_CSV:\n",
    "    if DROP_COLUMNS:\n",
    "        df.drop(columns=[\"mutation_code\", \"AlphaFoldDB\"], inplace=True)\n",
    "    # if ONLY_DDG:\n",
    "    #     df.drop(columns=[\"dTm\", \"Tm\"], inplace=True)\n",
    "\n",
    "    ordered_columns = open_json(\"./data/features.json\")\n",
    "    ordered_columns = sum([ordered_columns[k] for k in ordered_columns], [])\n",
    "\n",
    "    # for col in ordered_columns:\n",
    "    #     if col not in df.columns.to_list():\n",
    "    #         df[col] = \"\"\n",
    "\n",
    "    # df = df[ordered_columns]\n",
    "\n",
    "    df.to_csv(DATASET_OUTPUT_PATH, index=False)\n",
    "    features_columns = ordered_columns[4:-4]\n",
    "    print(df.isna().sum())\n",
    "    df.head()\n"
   ]
  }
 ],
 "metadata": {
  "kernelspec": {
   "display_name": "Python 3.8.10 64-bit",
   "language": "python",
   "name": "python3"
  },
  "language_info": {
   "codemirror_mode": {
    "name": "ipython",
    "version": 3
   },
   "file_extension": ".py",
   "mimetype": "text/x-python",
   "name": "python",
   "nbconvert_exporter": "python",
   "pygments_lexer": "ipython3",
   "version": "3.8.10"
  },
  "orig_nbformat": 4,
  "vscode": {
   "interpreter": {
    "hash": "31f2aee4e71d21fbe5cf8b01ff0e069b9275f58929596ceb00d14d90e3e16cd6"
   }
  }
 },
 "nbformat": 4,
 "nbformat_minor": 2
}
