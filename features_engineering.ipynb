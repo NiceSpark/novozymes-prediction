{
 "cells": [
  {
   "cell_type": "code",
   "execution_count": null,
   "metadata": {},
   "outputs": [],
   "source": [
    "import pandas as pd\n",
    "\n",
    "from utils.features_biopython import add_struct_infos\n",
    "\n",
    "DECONSTRUCT_MUTATION_CODE = True\n",
    "CLEAN_DF = True\n",
    "DROP_COLUMNS = False\n"
   ]
  },
  {
   "cell_type": "code",
   "execution_count": null,
   "metadata": {},
   "outputs": [],
   "source": [
    "df = pd.read_csv(\"./data/main_dataset/main.csv\")\n",
    "df.head(2)\n"
   ]
  },
  {
   "cell_type": "code",
   "execution_count": null,
   "metadata": {},
   "outputs": [],
   "source": [
    "if DECONSTRUCT_MUTATION_CODE:\n",
    "    df[\"wild_aa\"] = \"\"\n",
    "    df[\"mutated_aa\"] = \"\"\n",
    "    df[\"mutation_position\"] = 0\n",
    "\n",
    "    def deconstruct_mutation_code(row):\n",
    "        s = row[\"mutation_code\"]\n",
    "        row[\"wild_aa\"] = s[0]\n",
    "        row[\"mutation_position\"] = s[1:-1]\n",
    "        row[\"mutated_aa\"] = s[-1]\n",
    "\n",
    "        return row\n",
    "\n",
    "    df = df.apply(deconstruct_mutation_code, axis=1)\n",
    "\n",
    "\n",
    "if CLEAN_DF:\n",
    "    # we drop rows without ddG\n",
    "    df = df[~pd.isna(df.ddG)]\n",
    "    # we drop rows without alphafold_path\n",
    "    df = df[~pd.isna(df.alphafold_path)]\n",
    "\n",
    "if DROP_COLUMNS:\n",
    "    df.drop(columns=[\"mutation_code\", \"countByFeatureType\", \"dTm\", \"Tm\"], inplace=True)\n",
    "\n",
    "df\n"
   ]
  },
  {
   "cell_type": "code",
   "execution_count": null,
   "metadata": {},
   "outputs": [],
   "source": [
    "len(df[pd.isna(df.alphafold_path)])\n"
   ]
  },
  {
   "cell_type": "code",
   "execution_count": null,
   "metadata": {},
   "outputs": [],
   "source": [
    "# from utils.features_biopython import add_struct_infos_by_pdb\n",
    "# path = \"./data/main_dataset/3D_structures/alphafold/P01584.pdb\"\n",
    "# # 1st we get the corresponding pdb_id\n",
    "# # for now we just take the corresponding pdb id in the 1st row with that path\n",
    "# print(path)\n",
    "# pdb_id = df.loc[df.alphafold_path.eq(path)].iloc[0, :][\"PDB_wild\"]\n",
    "# uniprot_id = df.loc[df.alphafold_path.eq(path)].iloc[0, :][\"uniprot\"]\n",
    "# print(pdb_id)\n",
    "# # 2nd we add the struct infos for this alphafold path & pdb:\n",
    "# df = add_struct_infos_by_pdb(df, pdb_id, uniprot_id, path)\n",
    "# df.loc[df.alphafold_path.eq(path)].iloc[0, :]\n"
   ]
  },
  {
   "cell_type": "code",
   "execution_count": null,
   "metadata": {},
   "outputs": [],
   "source": []
  },
  {
   "cell_type": "code",
   "execution_count": null,
   "metadata": {},
   "outputs": [],
   "source": [
    "df = add_struct_infos(df)\n",
    "df.head(2)\n"
   ]
  },
  {
   "cell_type": "code",
   "execution_count": null,
   "metadata": {},
   "outputs": [],
   "source": [
    "df.sasa.to_csv(\"test.csv\")"
   ]
  }
 ],
 "metadata": {
  "kernelspec": {
   "display_name": "Python 3.8.10 ('novozymes-prediction-Gl9CRTFV')",
   "language": "python",
   "name": "python3"
  },
  "language_info": {
   "codemirror_mode": {
    "name": "ipython",
    "version": 3
   },
   "file_extension": ".py",
   "mimetype": "text/x-python",
   "name": "python",
   "nbconvert_exporter": "python",
   "pygments_lexer": "ipython3",
   "version": "3.8.10"
  },
  "orig_nbformat": 4,
  "vscode": {
   "interpreter": {
    "hash": "27b13dc4add9efa918e6bb920c50afa2240557655d90455391ab57f21c65447b"
   }
  }
 },
 "nbformat": 4,
 "nbformat_minor": 2
}
