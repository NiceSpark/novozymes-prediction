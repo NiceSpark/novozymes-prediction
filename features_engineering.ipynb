{
 "cells": [
  {
   "cell_type": "code",
   "execution_count": 7,
   "metadata": {},
   "outputs": [],
   "source": [
    "import pandas as pd\n",
    "from ssbio.protein.structure.properties import freesasa\n",
    "\n",
    "from utils.features_biopython import add_structure_infos, add_protein_analysis, add_demask_predictions\n",
    "from utils.file_utils import open_json\n",
    "from utils.infos_translation import aa_char2int\n",
    "\n",
    "ADD_DEMASK_PREDICTIONS = False\n",
    "ADD_PROTEIN_ANALYSIS = False\n",
    "ADD_STRUCTURE_INFOS = False\n",
    "CONVERT_MUTATION_TO_INT = True\n",
    "CLEAN_DF = False\n",
    "KEEP_ONLY_DDG = True\n",
    "DROP_COLUMNS = False\n",
    "SAVE_NEW_CSV = True\n",
    "START_FRESH = False\n",
    "\n",
    "DATASET_DIR = \"./data/main_dataset_creation/outputs/all/\"\n",
    "DATASET_INPUT_PATH = DATASET_DIR+\"dataset_only_infos.csv\"\n",
    "DATASET_OUTPUT_PATH = DATASET_DIR+\"dataset_with_features.csv\"\n"
   ]
  },
  {
   "cell_type": "code",
   "execution_count": 8,
   "metadata": {},
   "outputs": [],
   "source": [
    "if START_FRESH:\n",
    "    df = pd.read_csv(DATASET_INPUT_PATH)\n",
    "else:\n",
    "    df = pd.read_csv(DATASET_OUTPUT_PATH)\n",
    "\n",
    "# df.head(2)"
   ]
  },
  {
   "cell_type": "code",
   "execution_count": 9,
   "metadata": {},
   "outputs": [],
   "source": [
    "if CLEAN_DF:\n",
    "    print(len(df))\n",
    "    if KEEP_ONLY_DDG:\n",
    "        # we drop rows without ddG\n",
    "        df = df[~pd.isna(df.ddG)]\n",
    "    # we drop rows without alphafold_path\n",
    "    df = df[~pd.isna(df.alphafold_path)]\n",
    "    print(len(df))\n",
    "\n",
    "# df"
   ]
  },
  {
   "cell_type": "code",
   "execution_count": 15,
   "metadata": {},
   "outputs": [],
   "source": [
    "if CONVERT_MUTATION_TO_INT:\n",
    "    df[\"wild_aa_int\"] = df[\"wild_aa\"].apply(lambda x: aa_char2int[x])\n",
    "    df[\"mutated_aa_int\"] = df[\"mutated_aa\"].apply(lambda x: aa_char2int[x])\n"
   ]
  },
  {
   "cell_type": "code",
   "execution_count": null,
   "metadata": {},
   "outputs": [],
   "source": [
    "# add residue depth, sasa and c_alpha depth computed from alphafold pdb file => compute_sasa = True, compute_depth = True\n",
    "# add residue dssp infos (rsa etc.) => compute_dssp = True\n",
    "if ADD_STRUCTURE_INFOS:\n",
    "    df = add_structure_infos(df, compute_sasa=True,\n",
    "                            compute_depth=True, compute_dssp=True, compute_bfactor=True)\n",
    "    df.head(2)"
   ]
  },
  {
   "cell_type": "code",
   "execution_count": null,
   "metadata": {},
   "outputs": [],
   "source": [
    "if ADD_PROTEIN_ANALYSIS:\n",
    "    df = add_protein_analysis(df)"
   ]
  },
  {
   "cell_type": "code",
   "execution_count": null,
   "metadata": {},
   "outputs": [],
   "source": [
    "if ADD_DEMASK_PREDICTIONS:\n",
    "    df = add_demask_predictions(df)"
   ]
  },
  {
   "cell_type": "code",
   "execution_count": null,
   "metadata": {},
   "outputs": [],
   "source": [
    "df.head()"
   ]
  },
  {
   "cell_type": "code",
   "execution_count": 16,
   "metadata": {},
   "outputs": [],
   "source": [
    "if SAVE_NEW_CSV:\n",
    "    if DROP_COLUMNS:\n",
    "        df.drop(columns=[\"mutation_code\", \"AlphaFoldDB\"], inplace=True)\n",
    "    if KEEP_ONLY_DDG:\n",
    "        df.drop(columns=[\"dTm\", \"Tm\"], inplace=True)\n",
    "\n",
    "    ordered_columns = open_json(\"./data/features.json\")\n",
    "    ordered_columns = sum([ordered_columns[k] for k in ordered_columns], [])\n",
    "\n",
    "    for col in ordered_columns:\n",
    "        if col not in df.columns.to_list():\n",
    "            df[col] = \"\"\n",
    "\n",
    "    df = df[ordered_columns]\n",
    "\n",
    "    df.to_csv(DATASET_OUTPUT_PATH, index=False)\n"
   ]
  },
  {
   "cell_type": "code",
   "execution_count": null,
   "metadata": {},
   "outputs": [],
   "source": [
    "features_columns = ordered_columns[4:-4]\n",
    "df[features_columns].isna().sum().sum()\n"
   ]
  },
  {
   "cell_type": "code",
   "execution_count": null,
   "metadata": {},
   "outputs": [],
   "source": [
    "# # test #\n",
    "# from biopandas.pdb import PandasPdb\n",
    "\n",
    "# alphafold_path = \"./data/main_dataset/3D_structures/alphafold/P00509.pdb\"\n",
    "# pdb_df = PandasPdb().read_pdb(alphafold_path)\n",
    "# atom_df = pdb_df.df['ATOM']\n",
    "# b_factor = atom_df.groupby(\"residue_number\")[\n",
    "#     \"b_factor\"].apply(lambda x: x.median())\n",
    "# b_factor.to_list()"
   ]
  },
  {
   "cell_type": "code",
   "execution_count": null,
   "metadata": {},
   "outputs": [],
   "source": [
    "# test\n",
    "# from Bio.PDB.PDBParser import PDBParser\n",
    "# from utils.features_biopython import get_dssp_data\n",
    "\n",
    "# alphafold_path = \"./data/main_dataset/3D_structures/alphafold/P00651.pdb\"\n",
    "# pdb_parser = PDBParser()\n",
    "# structure = pdb_parser.get_structure(\"\", alphafold_path)\n",
    "# dssp = get_dssp_data(alphafold_path, structure)\n",
    "# dssp\n"
   ]
  }
 ],
 "metadata": {
  "kernelspec": {
   "display_name": "Python 3.8.10 ('novozymes-prediction-Gl9CRTFV')",
   "language": "python",
   "name": "python3"
  },
  "language_info": {
   "codemirror_mode": {
    "name": "ipython",
    "version": 3
   },
   "file_extension": ".py",
   "mimetype": "text/x-python",
   "name": "python",
   "nbconvert_exporter": "python",
   "pygments_lexer": "ipython3",
   "version": "3.8.10"
  },
  "orig_nbformat": 4,
  "vscode": {
   "interpreter": {
    "hash": "27b13dc4add9efa918e6bb920c50afa2240557655d90455391ab57f21c65447b"
   }
  }
 },
 "nbformat": 4,
 "nbformat_minor": 2
}
