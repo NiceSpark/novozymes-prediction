{
 "cells": [
  {
   "cell_type": "markdown",
   "metadata": {},
   "source": [
    "# Dataset creation\n",
    "![flowchart](./resources/dataset_creation_flowchart.drawio.png)"
   ]
  },
  {
   "cell_type": "code",
   "execution_count": 1,
   "metadata": {},
   "outputs": [],
   "source": [
    "import json\n",
    "import pandas as pd\n",
    "import numpy as np\n",
    "import urllib.request\n",
    "from utils.file_utils import open_json, write_json\n",
    "from utils.pdb_uniprot import correct_mutation_position\n"
   ]
  },
  {
   "cell_type": "code",
   "execution_count": null,
   "metadata": {},
   "outputs": [],
   "source": [
    "COLUMNS = [\"pdbs\", \"uniprot\", \"wild_aa\", \"mutation_position\",\n",
    "           \"mutated_aa\", \"pH\",\n",
    "           \"sequence\", \"length\", \"chain_start\", \"chain_end\",\n",
    "           \"AlphaFoldDB\", \"Tm\", \"ddG\", \"dTm\"]\n"
   ]
  },
  {
   "cell_type": "code",
   "execution_count": null,
   "metadata": {},
   "outputs": [],
   "source": [
    "def get_uniprot_infos_online(uniprot: str):\n",
    "    try:\n",
    "        with urllib.request.urlopen(f\"https://rest.uniprot.org/uniprotkb/{uniprot}.json\") as url:\n",
    "            data = json.load(url)\n",
    "    except Exception as e:\n",
    "        print(f\"exception raised for {uniprot}: {e}\")\n",
    "        return {}\n",
    "\n",
    "    sequence = data.get(\"sequence\", {}).get(\"value\")\n",
    "    features = data.get(\"features\", [])\n",
    "    chain_location = next(\n",
    "        (x for x in features if x[\"type\"] == \"Chain\"), {}).get(\"location\", {})\n",
    "\n",
    "    databases = data.get(\"uniProtKBCrossReferences\", [])\n",
    "    pdb_ids = \" \".join([x[\"id\"]\n",
    "                        for x in databases if (x[\"database\"] == \"PDB\")])\n",
    "\n",
    "    return {\n",
    "        \"pdbs\": pdb_ids,\n",
    "        \"sequence\": sequence,\n",
    "        \"length\": len(sequence),\n",
    "        \"chain_start\": chain_location.get(\"start\", {}).get(\"value\"),\n",
    "        \"chain_end\": chain_location.get(\"end\", {}).get(\"value\"),\n",
    "        \"AlphaFoldDB\": \" \".join([x[\"id\"] for x in databases if (x[\"database\"] == \"AlphaFoldDB\")]),\n",
    "    }\n",
    "\n",
    "\n",
    "def valid_uniprot(uniprot: str, local_uniprot_infos: dict, wild_aa: str,\n",
    "                  mutation_position: int, dataset_config: dict):\n",
    "    data = local_uniprot_infos.get(uniprot, {})\n",
    "\n",
    "    if data == {}:\n",
    "        data = get_uniprot_infos_online(uniprot)\n",
    "        local_uniprot_infos[uniprot] = data\n",
    "\n",
    "    mutation_position = correct_mutation_position(wild_aa, mutation_position,\n",
    "                                                  data.get(\"sequence\", \"\"),\n",
    "                                                  data.get(\n",
    "                                                      \"chain_start\", 0) if dataset_config[\"positions\"][\"add_chain_start\"] else 0,\n",
    "                                                  dataset_config[\"positions\"][\"position_offset\"])\n",
    "\n",
    "    # validate the data\n",
    "    if \"sequence\" not in data:\n",
    "        return {}, local_uniprot_infos\n",
    "    if mutation_position is None:\n",
    "        return {}, local_uniprot_infos\n",
    "\n",
    "    data[\"mutation_position\"] = mutation_position\n",
    "    return data, local_uniprot_infos\n",
    "\n",
    "\n",
    "def apply_valid_uniprot(row, local_uniprot_infos, dataset_config):\n",
    "    # we get the valid infos\n",
    "    data, local_uniprot_infos = valid_uniprot(row[\"uniprot\"], local_uniprot_infos,\n",
    "                                              row[\"wild_aa\"], row[\"mutation_position\"],\n",
    "                                              dataset_config)\n",
    "    # we add each data values in the row\n",
    "    for k, v in data.items():\n",
    "        row[k]=v\n",
    "    \n",
    "    # NB: if infos are not valid\n",
    "\n",
    "    return row\n",
    "\n",
    "# df = pd.read_csv(\"./data/main_dataset_creation/uniprot_infos.csv\")\n",
    "# df = df.fillna(\"\")\n",
    "# local_uniprot_infos = dict(zip(df[\"uniprot\"],df.to_dict(\"records\")))\n",
    "# dataset_config = open_json(\"./individual_dataset_config.json\")[\"fireprotdb\"]\n",
    "# valid_uniprot_infos(\"P07170\", local_uniprot_infos, \"M\", 1, dataset_config)\n"
   ]
  },
  {
   "cell_type": "code",
   "execution_count": null,
   "metadata": {},
   "outputs": [],
   "source": [
    "def add_missing_column(df):\n",
    "    for name in COLUMNS:\n",
    "        if name not in df.columns.to_list():\n",
    "            df[name] = np.nan\n",
    "\n",
    "    return df\n",
    "\n",
    "\n",
    "def save_df(df, name):\n",
    "    df.to_csv(f\"./data/main_dataset/{name}.csv\", index=False)\n"
   ]
  },
  {
   "cell_type": "code",
   "execution_count": 7,
   "metadata": {},
   "outputs": [
    {
     "name": "stdout",
     "output_type": "stream",
     "text": [
      "MSTKKKPLTQEQLEDARRLKAIYEKKKNELGLSQESVADKMGMGQSGVGALFNGINALNAYNAALLAKILKVSVEEFSPSIAREIYEMYEAVSMQPSLRSEYEYPVFSHVQAGMFSPELRTFTKGDAERWVSTTKKASDSAFWLEVEGNSMTAPTGSKPSFPDGMLILVDPEQAVEPGDFCIARLGGDEFTFKKLIRDSGQVFLQPLNPQYPMIPCNESCSVVGKVIASQWPEETFG\n"
     ]
    },
    {
     "data": {
      "text/plain": [
       "{'sequence': 'MSTKKKPLTQEQLEDARRLKAIYEKKKNELGLSQESVADKMGMGQSGVGALFNGINALNAYNAALLAKILKVSVEEFSPSIAREIYEMYEAVSMQPSLRSEYEYPVFSHVQAGMFSPELRTFTKGDAERWVSTTKKASDSAFWLEVEGNSMTAPTGSKPSFPDGMLILVDPEQAVEPGDFCIARLGGDEFTFKKLIRDSGQVFLQPLNPQYPMIPCNESCSVVGKVIASQWPEETFG',\n",
       " 'mutation_position': 0,\n",
       " 'length': 237,\n",
       " 'chain_start': 2,\n",
       " 'chain_end': 237,\n",
       " 'AlphaFoldDB': '',\n",
       " 'pdbs': '1F39 1KCA 1LLI 1LMB 1LRP 1RIO 3BDN 3KZ3 3WOA 5ZCA 7JVT'}"
      ]
     },
     "execution_count": 7,
     "metadata": {},
     "output_type": "execute_result"
    }
   ],
   "source": [
    "##### FireProtDB #####\n",
    "\n",
    "# load csv\n",
    "df = pd.read_csv(\n",
    "    \"./data/FireProtDB/fireprotdb_has_ddg_or_dtm_is_curated.csv\")\n",
    "# rename columns\n",
    "df.rename(columns={\"pdb_id\": \"pdbs\",\n",
    "                   \"uniprot_id\": \"uniprot\",\n",
    "                   \"wild_type\": \"wild_aa\",\n",
    "                   \"position\": \"mutation_position\",\n",
    "                   \"mutation\": \"mutated_aa\",\n",
    "                   \"tm\": \"Tm\"}, \n",
    "                   inplace=True)\n",
    "# add missing ones\n",
    "df = add_missing_column(df)\n",
    "# keep only COLUMNS\n",
    "df = df[COLUMNS]\n",
    "# drop duplicates\n",
    "df.drop_duplicates(inplace=True)\n"
   ]
  }
 ],
 "metadata": {
  "kernelspec": {
   "display_name": "Python 3.8.10 ('novozymes-prediction-Gl9CRTFV')",
   "language": "python",
   "name": "python3"
  },
  "language_info": {
   "codemirror_mode": {
    "name": "ipython",
    "version": 3
   },
   "file_extension": ".py",
   "mimetype": "text/x-python",
   "name": "python",
   "nbconvert_exporter": "python",
   "pygments_lexer": "ipython3",
   "version": "3.8.10"
  },
  "orig_nbformat": 4,
  "vscode": {
   "interpreter": {
    "hash": "27b13dc4add9efa918e6bb920c50afa2240557655d90455391ab57f21c65447b"
   }
  }
 },
 "nbformat": 4,
 "nbformat_minor": 2
}
