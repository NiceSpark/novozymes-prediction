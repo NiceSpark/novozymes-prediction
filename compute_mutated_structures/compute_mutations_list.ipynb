{
 "cells": [
  {
   "cell_type": "code",
   "execution_count": 11,
   "metadata": {},
   "outputs": [],
   "source": [
    "# format to specify is the one from thermonet\n",
    "# needs to bee: P03958A 263 W F\n",
    "# ie: uniprot+mutated_chain mutation_position wild_aa mutated_aa"
   ]
  },
  {
   "cell_type": "code",
   "execution_count": 12,
   "metadata": {},
   "outputs": [],
   "source": [
    "import pandas as pd\n",
    "import os\n",
    "from glob import glob"
   ]
  },
  {
   "cell_type": "code",
   "execution_count": 13,
   "metadata": {},
   "outputs": [],
   "source": [
    "DATASET_INPUT = \"../data/main_dataset_creation/outputs/all_v2_2/dataset_with_alphafold_paths.csv\"\n",
    "COMPUTE_NEW_MUTATIONS_LISTS = True\n",
    "CLEAN_MUTATIONS = True\n",
    "GET_ALREADY_COMPUTED = False\n",
    "\n",
    "ROSETTA_BIN_DIR_PARIS = \"/home/ml/novozymes-prediction/resources/rosetta/rosetta_bin_linux_2021.16.61629_bundle/main/source/bin/\"\n",
    "ROSETTA_BIN_DIR_SOUTH = \"/home/tom/Documents/Kaggle/novozymes-prediction/resources/rosetta_bin_linux_2021.16.61629_bundle/main/source/bin/\"\n",
    "RELAX_BIN_PARIS = f\"{ROSETTA_BIN_DIR_PARIS}relax.static.linuxgccrelease\"\n",
    "RELAX_BIN_SOUTH = f\"{ROSETTA_BIN_DIR_SOUTH}relax.static.linuxgccrelease\"\n",
    "THREADS_PARIS = 12\n",
    "THREADS_SOUTH = 8\n",
    "PARIS_RATIO = 0.5\n",
    "THREADS = THREADS_PARIS+THREADS_SOUTH\n",
    "\n",
    "SUBSET_DUPLICATES_NO_PH = [\"uniprot\", \"wild_aa\", \"mutation_position\",\n",
    "                           \"mutated_aa\", \"sequence\"]\n"
   ]
  },
  {
   "cell_type": "code",
   "execution_count": 14,
   "metadata": {},
   "outputs": [
    {
     "name": "stdout",
     "output_type": "stream",
     "text": [
      "5704\n"
     ]
    }
   ],
   "source": [
    "df = pd.read_csv(DATASET_INPUT)\n",
    "df = df[~(df.alphafold_path.isna())]\n",
    "df = df[~(df.ddG.isna())]\n",
    "df.drop_duplicates(subset=SUBSET_DUPLICATES_NO_PH, inplace=True)\n",
    "print(len(df))"
   ]
  },
  {
   "cell_type": "code",
   "execution_count": 15,
   "metadata": {},
   "outputs": [
    {
     "name": "stdout",
     "output_type": "stream",
     "text": [
      "297\n",
      "294\n"
     ]
    }
   ],
   "source": [
    "print(len(df.uniprot.unique()))\n",
    "print(len(df.alphafold_path.unique()))"
   ]
  },
  {
   "cell_type": "code",
   "execution_count": 16,
   "metadata": {},
   "outputs": [],
   "source": [
    "if CLEAN_MUTATIONS:\n",
    "    for path in glob(\"./mutations/*\"):\n",
    "        os.remove(path)\n"
   ]
  },
  {
   "cell_type": "code",
   "execution_count": 17,
   "metadata": {},
   "outputs": [
    {
     "name": "stdout",
     "output_type": "stream",
     "text": [
      "17\n",
      "['Q04206_relaxed', 'P0306_relaxed', 'P38398_relaxed', 'P21695_relaxed', 'P61769_relaxed']\n"
     ]
    }
   ],
   "source": [
    "crashed = glob(\"relaxed_pdb/**/*CRASH*\")\n",
    "crashed = [n.split('/')[-2] for n in crashed]\n",
    "print(len(crashed))\n",
    "print(crashed[:5])\n"
   ]
  },
  {
   "cell_type": "code",
   "execution_count": 18,
   "metadata": {},
   "outputs": [
    {
     "name": "stdout",
     "output_type": "stream",
     "text": [
      "1445\n"
     ]
    }
   ],
   "source": [
    "if COMPUTE_NEW_MUTATIONS_LISTS:\n",
    "    already_computed = glob(\"relaxed_pdb/**/*_relaxed*_relaxed.pdb\")\n",
    "    \n",
    "    already_computed = [n.split('/')[-1] for n in already_computed]\n",
    "    total_to_compute = 0\n",
    "\n",
    "    for alphafold_path in df.alphafold_path.unique():\n",
    "        alphafold_name = os.path.splitext(\n",
    "            alphafold_path.split('/')[-1])[0]\n",
    "        if f\"{alphafold_name}_relaxed\" in crashed:\n",
    "            continue\n",
    "\n",
    "        subdf = df[df.alphafold_path.eq(alphafold_path)]\n",
    "        # create the mutation list from the sub df that contains the alphafold_path\n",
    "        for _, row in subdf.iterrows():\n",
    "            # we add 1 to the position as we index starting at 0 and rosetta at 1\n",
    "            output_name = f\"{alphafold_name}_relaxed_{row['wild_aa']}{int(row['mutation_position']+1)}{row['mutated_aa']}_relaxed.pdb\"\n",
    "            if output_name not in already_computed:\n",
    "                with open(f\"mutations/{alphafold_name}.txt\", \"a+\") as f:\n",
    "                    line = f\"{alphafold_name}{row['mutated_chain']} {int(row['mutation_position']+1)} {row['wild_aa']} {row['mutated_aa']}\"\n",
    "                    f.write(line)\n",
    "                    f.write(\"\\n\")\n",
    "                total_to_compute += 1\n",
    "    print(total_to_compute)\n"
   ]
  },
  {
   "cell_type": "code",
   "execution_count": 19,
   "metadata": {},
   "outputs": [
    {
     "name": "stdout",
     "output_type": "stream",
     "text": [
      "26, Paris to: 13\n",
      "False\n",
      "True\n"
     ]
    }
   ],
   "source": [
    "# split mutations lists between CPUs\n",
    "mutations_lists = glob(\"mutations/*.txt\")\n",
    "print(f\"{len(mutations_lists)}, Paris to: {int(len(mutations_lists)*PARIS_RATIO)}\")\n",
    "mutations_PARIS = mutations_lists[:int(len(mutations_lists)*PARIS_RATIO)]\n",
    "mutations_SOUTH = mutations_lists[int(len(mutations_lists)*PARIS_RATIO):]\n",
    "\n",
    "print(\"mutations/P06654.txt\" in mutations_PARIS)\n",
    "print(\"mutations/P06654.txt\" in mutations_SOUTH)\n"
   ]
  },
  {
   "cell_type": "code",
   "execution_count": 20,
   "metadata": {},
   "outputs": [],
   "source": [
    "if GET_ALREADY_COMPUTED:\n",
    "    already_computed = glob(\"relaxed_pdb/**/*_relaxed*_relaxed.pdb\")\n",
    "    print(len(already_computed))\n",
    "    print(already_computed[:5])\n",
    "    total_to_compute = 0\n",
    "    for mutations_list in mutations_PARIS:\n",
    "        name, _ = os.path.splitext(mutations_list.split(\"/\")[-1])\n",
    "        num_lines = sum(1 for line in open(mutations_list))\n",
    "        # computed = glob(f'relaxed_pdb/**/{name}_relaxed*_relaxed.pdb')\n",
    "        # print(f\"for {name} num_lines: {num_lines} computed: {len(computed)}\")\n",
    "        # print(computed)\n",
    "        total_to_compute += num_lines\n",
    "    print(total_to_compute)\n"
   ]
  },
  {
   "cell_type": "code",
   "execution_count": 21,
   "metadata": {},
   "outputs": [],
   "source": [
    "# create bash scripts\n",
    "\n",
    "for i, mutations_list in enumerate(mutations_PARIS):\n",
    "    script_suffix = f\"PARIS_{i % THREADS_PARIS}\"\n",
    "    name, _ = os.path.splitext(mutations_list.split(\"/\")[-1])\n",
    "    with open(f\"mutations_{script_suffix}.sh\", \"a+\") as f:\n",
    "        cmd = f\"python3 rosetta_relax.py --rosetta-bin {RELAX_BIN_PARIS} -l {mutations_list} --base-dir ./relaxed_pdb/ > {name}.log\"\n",
    "        f.write(cmd)\n",
    "        f.write(\"\\n\")\n",
    "\n",
    "for i, mutations_list in enumerate(mutations_SOUTH):\n",
    "    name, _ = os.path.splitext(mutations_list.split(\"/\")[-1])\n",
    "    script_suffix = f\"SOUTH_{i % THREADS_SOUTH}\"\n",
    "    with open(f\"mutations_{script_suffix}.sh\", \"a+\") as f:\n",
    "        cmd = f\"python3 rosetta_relax.py --rosetta-bin {RELAX_BIN_SOUTH} -l {mutations_list} --base-dir ./relaxed_pdb/ > {name}.log\"\n",
    "        f.write(cmd)\n",
    "        f.write(\"\\n\")\n"
   ]
  },
  {
   "cell_type": "code",
   "execution_count": 22,
   "metadata": {},
   "outputs": [],
   "source": [
    "with open(\"main_mutations_PARIS.sh\", \"w+\") as f:\n",
    "    for i in range(THREADS_PARIS):\n",
    "        f.write(f\"bash mutations_PARIS_{i}.sh & \\n\")\n",
    "\n",
    "with open(\"main_mutations_SOUTH.sh\", \"w+\") as f:\n",
    "    for i in range(THREADS_SOUTH):\n",
    "        f.write(f\"bash mutations_SOUTH_{i}.sh & \\n\")\n"
   ]
  },
  {
   "cell_type": "code",
   "execution_count": null,
   "metadata": {},
   "outputs": [],
   "source": []
  }
 ],
 "metadata": {
  "kernelspec": {
   "display_name": "Python 3.8.10 64-bit",
   "language": "python",
   "name": "python3"
  },
  "language_info": {
   "codemirror_mode": {
    "name": "ipython",
    "version": 3
   },
   "file_extension": ".py",
   "mimetype": "text/x-python",
   "name": "python",
   "nbconvert_exporter": "python",
   "pygments_lexer": "ipython3",
   "version": "3.8.10"
  },
  "orig_nbformat": 4,
  "vscode": {
   "interpreter": {
    "hash": "31f2aee4e71d21fbe5cf8b01ff0e069b9275f58929596ceb00d14d90e3e16cd6"
   }
  }
 },
 "nbformat": 4,
 "nbformat_minor": 2
}
