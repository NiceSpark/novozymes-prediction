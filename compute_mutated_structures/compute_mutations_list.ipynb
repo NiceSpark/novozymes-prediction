{
 "cells": [
  {
   "cell_type": "code",
   "execution_count": 1,
   "metadata": {},
   "outputs": [],
   "source": [
    "# format to specify is the one from thermonet\n",
    "# needs to bee: P03958A 263 W F\n",
    "# ie: uniprot+mutated_chain mutation_position wild_aa mutated_aa"
   ]
  },
  {
   "cell_type": "code",
   "execution_count": 2,
   "metadata": {},
   "outputs": [],
   "source": [
    "import pandas as pd\n",
    "import os\n",
    "from glob import glob"
   ]
  },
  {
   "cell_type": "code",
   "execution_count": 3,
   "metadata": {},
   "outputs": [],
   "source": [
    "DATASET_INPUT = \"../data/main_dataset_creation/outputs/all_v2_1/dataset_with_alphafold_paths.csv\"\n",
    "COMPUTE_MUTATIONS_LISTS = False\n",
    "GET_ALREADY_COMPUTED = True\n",
    "\n",
    "ROSETTA_BIN_DIR_PARIS = \"/home/ml/novozymes-prediction/resources/rosetta/rosetta_bin_linux_2021.16.61629_bundle/main/source/bin/\"\n",
    "ROSETTA_BIN_DIR_SOUTH = \"/home/tom/Documents/Kaggle/novozymes-prediction/resources/rosetta_bin_linux_2021.16.61629_bundle/main/source/bin/\"\n",
    "RELAX_BIN_PARIS = f\"{ROSETTA_BIN_DIR_PARIS}relax.static.linuxgccrelease\"\n",
    "RELAX_BIN_SOUTH = f\"{ROSETTA_BIN_DIR_SOUTH}relax.static.linuxgccrelease\"\n",
    "THREADS_PARIS = 7\n",
    "THREADS_SOUTH = 6\n",
    "PARIS_RATIO = 0.75\n",
    "THREADS = THREADS_PARIS+THREADS_SOUTH\n"
   ]
  },
  {
   "cell_type": "code",
   "execution_count": 4,
   "metadata": {},
   "outputs": [
    {
     "name": "stdout",
     "output_type": "stream",
     "text": [
      "found 2275 relaxed pdbs\n"
     ]
    }
   ],
   "source": [
    "df = pd.read_csv(DATASET_INPUT)\n",
    "df = df[~(df.alphafold_path.isna())]\n",
    "relaxed_pdbs = glob(\"relaxed_pdb/**/*_relaxed*_relaxed.pdb\")\n",
    "print(f\"found {len(relaxed_pdbs)} relaxed pdbs\")"
   ]
  },
  {
   "cell_type": "code",
   "execution_count": 5,
   "metadata": {},
   "outputs": [
    {
     "name": "stdout",
     "output_type": "stream",
     "text": [
      "481\n",
      "478\n"
     ]
    }
   ],
   "source": [
    "print(len(df.uniprot.unique()))\n",
    "print(len(df.alphafold_path.unique()))"
   ]
  },
  {
   "cell_type": "code",
   "execution_count": 30,
   "metadata": {},
   "outputs": [],
   "source": [
    "if COMPUTE_MUTATIONS_LISTS:\n",
    "    for relaxed_pdb in relaxed_pdbs:\n",
    "        alphafold_name = os.path.splitext(\n",
    "            relaxed_pdb.split('/')[-1])[0].split('_')[0]\n",
    "        alphafold_path = f\"./data/main_dataset_creation/3D_structures/alphafold/{alphafold_name}.pdb\"\n",
    "        subdf = df[df.alphafold_path.eq(alphafold_path)]\n",
    "\n",
    "        # create the mutation list from the sub df that contains the alphafold_path\n",
    "        with open(f\"mutations/{alphafold_name}.txt\", \"w+\") as f:\n",
    "            for _, row in subdf.iterrows():\n",
    "                # we add 1 to the position as we index starting at 0 and rosetta at 1\n",
    "                line = f\"{alphafold_name}{row['mutated_chain']} {int(row['mutation_position']+1)} {row['wild_aa']} {row['mutated_aa']}\"\n",
    "                f.write(line)\n",
    "                f.write(\"\\n\")\n"
   ]
  },
  {
   "cell_type": "code",
   "execution_count": 6,
   "metadata": {},
   "outputs": [
    {
     "name": "stdout",
     "output_type": "stream",
     "text": [
      "451, Paris to: 338\n"
     ]
    }
   ],
   "source": [
    "# split mutations lists between CPUs\n",
    "mutations_lists = glob(\"mutations/*.txt\")\n",
    "print(f\"{len(mutations_lists)}, Paris to: {int(len(mutations_lists)*PARIS_RATIO)}\")\n",
    "mutations_PARIS = mutations_lists[:int(len(mutations_lists)*PARIS_RATIO)]\n",
    "mutations_SOUTH = mutations_lists[int(len(mutations_lists)*PARIS_RATIO):]\n"
   ]
  },
  {
   "cell_type": "code",
   "execution_count": 10,
   "metadata": {},
   "outputs": [
    {
     "name": "stdout",
     "output_type": "stream",
     "text": [
      "917\n",
      "['relaxed_pdb/P00592_relaxed/P00592_relaxed_N89D_relaxed.pdb', 'relaxed_pdb/P00592_relaxed/P00592_relaxed_H70Q_relaxed.pdb', 'relaxed_pdb/P00592_relaxed/P00592_relaxed_H70N_relaxed.pdb', 'relaxed_pdb/P00592_relaxed/P00592_relaxed_H70K_relaxed.pdb', 'relaxed_pdb/P24297_relaxed/P24297_relaxed_L33V_relaxed.pdb']\n",
      "for P14679 num_lines: 4 computed: 0\n",
      "[]\n",
      "4\n"
     ]
    }
   ],
   "source": [
    "if GET_ALREADY_COMPUTED:\n",
    "    already_computed = glob(\"relaxed_pdb/**/*_relaxed*_relaxed.pdb\")\n",
    "    print(len(already_computed))\n",
    "    print(already_computed[:5])\n",
    "    total_to_compute = 0\n",
    "    for mutations_list in mutations_SOUTH[2:]:\n",
    "        name, _ = os.path.splitext(mutations_list.split(\"/\")[-1])\n",
    "        num_lines = sum(1 for line in open(mutations_list))\n",
    "        computed = glob(f'relaxed_pdb/**/{name}_relaxed*_relaxed.pdb')\n",
    "        print(f\"for {name} num_lines: {num_lines} computed: {len(computed)}\")\n",
    "        print(computed)\n",
    "        total_to_compute += num_lines\n",
    "        break\n",
    "    print(total_to_compute)\n"
   ]
  },
  {
   "cell_type": "code",
   "execution_count": 31,
   "metadata": {},
   "outputs": [
    {
     "name": "stdout",
     "output_type": "stream",
     "text": [
      "451, Paris to: 338\n"
     ]
    }
   ],
   "source": [
    "# create bash scripts\n",
    "for i, mutations_list in enumerate(mutations_PARIS):\n",
    "    script_suffix = f\"PARIS_{i % THREADS_PARIS}\"\n",
    "    name, _ = os.path.splitext(mutations_list.split(\"/\")[-1])\n",
    "    with open(f\"mutations_{script_suffix}.sh\", \"a+\") as f:\n",
    "        cmd = f\"python3 rosetta_relax.py --rosetta-bin {RELAX_BIN_PARIS} -l {mutations_list} --base-dir ./relaxed_pdb/ > {name}.log\"\n",
    "        f.write(cmd)\n",
    "        f.write(\"\\n\")\n",
    "\n",
    "for i, mutations_list in enumerate(mutations_SOUTH):\n",
    "    name, _ = os.path.splitext(mutations_list.split(\"/\")[-1])\n",
    "    script_suffix = f\"SOUTH_{i % THREADS_SOUTH}\"\n",
    "    with open(f\"mutations_{script_suffix}.sh\", \"a+\") as f:\n",
    "        cmd = f\"python3 rosetta_relax.py --rosetta-bin {RELAX_BIN_SOUTH} -l {mutations_list} --base-dir ./relaxed_pdb/ > {name}.log\"\n",
    "        f.write(cmd)\n",
    "        f.write(\"\\n\")\n"
   ]
  },
  {
   "cell_type": "code",
   "execution_count": 32,
   "metadata": {},
   "outputs": [],
   "source": [
    "with open(\"main_mutations_PARIS.sh\", \"w+\") as f:\n",
    "    for i in range(THREADS_PARIS):\n",
    "        f.write(f\"bash mutations_PARIS_{i}.sh & \\n\")\n",
    "\n",
    "with open(\"main_mutations_SOUTH.sh\", \"w+\") as f:\n",
    "    for i in range(THREADS_SOUTH):\n",
    "        f.write(f\"bash mutations_SOUTH_{i}.sh & \\n\")\n"
   ]
  }
 ],
 "metadata": {
  "kernelspec": {
   "display_name": "Python 3.8.10 64-bit",
   "language": "python",
   "name": "python3"
  },
  "language_info": {
   "codemirror_mode": {
    "name": "ipython",
    "version": 3
   },
   "file_extension": ".py",
   "mimetype": "text/x-python",
   "name": "python",
   "nbconvert_exporter": "python",
   "pygments_lexer": "ipython3",
   "version": "3.8.10"
  },
  "orig_nbformat": 4,
  "vscode": {
   "interpreter": {
    "hash": "31f2aee4e71d21fbe5cf8b01ff0e069b9275f58929596ceb00d14d90e3e16cd6"
   }
  }
 },
 "nbformat": 4,
 "nbformat_minor": 2
}
