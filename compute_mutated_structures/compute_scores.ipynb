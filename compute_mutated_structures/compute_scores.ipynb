{
 "cells": [
  {
   "cell_type": "code",
   "execution_count": 1,
   "metadata": {},
   "outputs": [],
   "source": [
    "# format to specify is the one from thermonet\n",
    "# needs to bee: P03958A 263 W F\n",
    "# ie: uniprot+mutated_chain mutation_position wild_aa mutated_aa"
   ]
  },
  {
   "cell_type": "code",
   "execution_count": 2,
   "metadata": {},
   "outputs": [],
   "source": [
    "import pandas as pd\n",
    "import numpy as np\n",
    "import os\n",
    "from glob import glob"
   ]
  },
  {
   "cell_type": "code",
   "execution_count": 3,
   "metadata": {},
   "outputs": [],
   "source": [
    "DATASET_INPUT = \"../data/main_dataset_creation/outputs/all_v2_2/dataset_with_alphafold_paths.csv\"\n",
    "COMPUTE_NEW_SCORES = True\n",
    "CLEAN_MUTATIONS = True\n",
    "START_FRESH = False\n",
    "\n",
    "ROSETTA_BIN_DIR_PARIS = \"/home/ml/novozymes-prediction/resources/rosetta/rosetta_bin_linux_2021.16.61629_bundle/main/source/bin/\"\n",
    "ROSETTA_BIN_DIR_SOUTH = \"/home/tom/Documents/Kaggle/novozymes-prediction/resources/rosetta_bin_linux_2021.16.61629_bundle/main/source/bin/\"\n",
    "SCORE_BIN_PARIS = f\"{ROSETTA_BIN_DIR_PARIS}score_jd2.static.linuxgccrelease\"\n",
    "SCORE_BIN_SOUTH = f\"{ROSETTA_BIN_DIR_SOUTH}score_jd2.static.linuxgccrelease\"\n",
    "THREADS_PARIS = 6\n",
    "THREADS_SOUTH = 0\n",
    "THREADS_GCP = 0\n",
    "PARIS_RATIO = 1\n",
    "GCP_RATIO = 0\n",
    "THREADS = THREADS_PARIS+THREADS_SOUTH\n",
    "\n",
    "SUBSET_DUPLICATES_NO_PH = [\"uniprot\", \"wild_aa\", \"mutation_position\",\n",
    "                           \"mutated_aa\", \"sequence\"]\n",
    "\n",
    "MAX_CONSECUTIVE_TASKS = 40\n"
   ]
  },
  {
   "cell_type": "code",
   "execution_count": 4,
   "metadata": {},
   "outputs": [
    {
     "name": "stdout",
     "output_type": "stream",
     "text": [
      "5704\n"
     ]
    }
   ],
   "source": [
    "df = pd.read_csv(DATASET_INPUT)\n",
    "df = df[~(df.alphafold_path.isna())]\n",
    "df = df[~(df.ddG.isna())]\n",
    "df.drop_duplicates(subset=SUBSET_DUPLICATES_NO_PH, inplace=True)\n",
    "df[\"already_computed\"] = False\n",
    "print(len(df))"
   ]
  },
  {
   "cell_type": "code",
   "execution_count": 5,
   "metadata": {},
   "outputs": [
    {
     "name": "stdout",
     "output_type": "stream",
     "text": [
      "297\n",
      "294\n"
     ]
    }
   ],
   "source": [
    "print(len(df.uniprot.unique()))\n",
    "print(len(df.alphafold_path.unique()))"
   ]
  },
  {
   "cell_type": "code",
   "execution_count": 6,
   "metadata": {},
   "outputs": [
    {
     "name": "stdout",
     "output_type": "stream",
     "text": [
      "9760\n"
     ]
    }
   ],
   "source": [
    "all_3D_structures = glob(\"./relaxed_pdb/**/*.pdb\")\n",
    "all_3D_structures += glob(\"../data/main_dataset_creation/3D_structures/alphafold/*.pdb\")\n",
    "print(len(all_3D_structures))"
   ]
  },
  {
   "cell_type": "code",
   "execution_count": 7,
   "metadata": {},
   "outputs": [
    {
     "name": "stdout",
     "output_type": "stream",
     "text": [
      "9570\n",
      "['./relaxed_pdb/P51677_relaxed/P51677_relaxed.sc', './relaxed_pdb/Q93P54_relaxed/Q93P54_relaxed.sc']\n"
     ]
    }
   ],
   "source": [
    "if START_FRESH:\n",
    "    already_computed = []\n",
    "else:\n",
    "    already_computed = glob(\"./relaxed_pdb/**/*.sc\")\n",
    "    already_computed += glob(\n",
    "        \"../data/main_dataset_creation/3D_structures/alphafold/*.sc\")\n",
    "\n",
    "print(len(already_computed))\n",
    "print(already_computed[:2])"
   ]
  },
  {
   "cell_type": "code",
   "execution_count": 8,
   "metadata": {},
   "outputs": [],
   "source": [
    "crashed = []\n",
    "# crashed = glob(\"relaxed_pdb/**/*CRASH*\")\n",
    "# crashed = [n.split('/')[-2] for n in crashed]\n",
    "# print(len(crashed))\n",
    "# print(crashed[:5])\n"
   ]
  },
  {
   "cell_type": "code",
   "execution_count": 9,
   "metadata": {},
   "outputs": [
    {
     "name": "stdout",
     "output_type": "stream",
     "text": [
      "9760 9760 9760\n"
     ]
    }
   ],
   "source": [
    "# split all_3D_structures between CPUs\n",
    "PARIS_index = int(len(all_3D_structures)*PARIS_RATIO)\n",
    "GCP_index = PARIS_index+int(len(all_3D_structures)*GCP_RATIO)\n",
    "structure_PARIS = all_3D_structures[:PARIS_index]\n",
    "structure_GCP = all_3D_structures[PARIS_index:GCP_index]\n",
    "structure_SOUTH = all_3D_structures[GCP_index:]\n",
    "print(PARIS_index, GCP_index, len(all_3D_structures))\n"
   ]
  },
  {
   "cell_type": "code",
   "execution_count": 10,
   "metadata": {},
   "outputs": [
    {
     "name": "stdout",
     "output_type": "stream",
     "text": [
      "522\n"
     ]
    }
   ],
   "source": [
    "# create bash scripts\n",
    "\n",
    "to_compute = 0\n",
    "for i, structure_path in enumerate(structure_PARIS):\n",
    "    script_suffix = f\"PARIS_{i % THREADS_PARIS}\"\n",
    "    name, _ = os.path.splitext(structure_path.split(\"/\")[-1])\n",
    "    dir_path = '/'.join(structure_path.split(\"/\")[:-1])\n",
    "    # print(f\"{dir_path}/{name}.sc\")\n",
    "    if f\"{dir_path}/{name}.sc\" in already_computed:\n",
    "        continue\n",
    "    if name in crashed:\n",
    "        continue\n",
    "    with open(f\"scores_{script_suffix}.sh\", \"a+\") as f:\n",
    "        cmd = f\"{SCORE_BIN_PARIS} -in:file:s {structure_path} -out:file:score_only -scorefile_format json -out:file:scorefile {dir_path}/{name}.sc > score_logs/{name}.log\"\n",
    "        f.write(cmd)\n",
    "        f.write(\"\\n\")\n",
    "        to_compute += 1\n",
    "\n",
    "print(to_compute)\n"
   ]
  },
  {
   "cell_type": "code",
   "execution_count": 11,
   "metadata": {},
   "outputs": [],
   "source": [
    "with open(\"main_scores_PARIS.sh\", \"w+\") as f:\n",
    "    for i in range(THREADS_PARIS):\n",
    "        f.write(f\"bash scores_PARIS_{i}.sh & \\n\")\n",
    "\n",
    "# with open(\"main_mutations_SOUTH.sh\", \"w+\") as f:\n",
    "#     for i in range(THREADS_SOUTH):\n",
    "#         f.write(f\"bash mutations_SOUTH_{i}.sh & \\n\")\n"
   ]
  },
  {
   "cell_type": "code",
   "execution_count": null,
   "metadata": {},
   "outputs": [],
   "source": []
  }
 ],
 "metadata": {
  "kernelspec": {
   "display_name": "Python 3.8.10 64-bit",
   "language": "python",
   "name": "python3"
  },
  "language_info": {
   "codemirror_mode": {
    "name": "ipython",
    "version": 3
   },
   "file_extension": ".py",
   "mimetype": "text/x-python",
   "name": "python",
   "nbconvert_exporter": "python",
   "pygments_lexer": "ipython3",
   "version": "3.8.10"
  },
  "orig_nbformat": 4,
  "vscode": {
   "interpreter": {
    "hash": "31f2aee4e71d21fbe5cf8b01ff0e069b9275f58929596ceb00d14d90e3e16cd6"
   }
  }
 },
 "nbformat": 4,
 "nbformat_minor": 2
}
