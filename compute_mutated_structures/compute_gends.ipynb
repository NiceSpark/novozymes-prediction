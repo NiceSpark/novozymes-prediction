{
 "cells": [
  {
   "cell_type": "code",
   "execution_count": 1,
   "metadata": {},
   "outputs": [],
   "source": [
    "# format to specify is a custom one (we tweaked gends.py from thermonet a bit)\n",
    "# needs to bee: wt_pdb_path, pos, mt_pdb_path\n",
    "# ie: relaxed_wild_3D_path mutation_position+1 relaxed_mutated_3D_path"
   ]
  },
  {
   "cell_type": "code",
   "execution_count": 2,
   "metadata": {},
   "outputs": [],
   "source": [
    "import pandas as pd\n",
    "import numpy as np\n",
    "import os\n",
    "from glob import glob\n"
   ]
  },
  {
   "cell_type": "code",
   "execution_count": 6,
   "metadata": {},
   "outputs": [],
   "source": [
    "DATASET_INPUT = \"../data/main_dataset_creation/outputs/all_v3/dataset_with_all_features.csv\"\n",
    "SUBMISSION_INPUT = \"../data/main_dataset_creation/outputs/all_v3/submission_all_features_filled_nan.csv\"\n",
    "COMPUTE_NEW_MUTATIONS_LISTS = True\n",
    "\n",
    "THREADS_PARIS = 6\n",
    "\n",
    "SUBSET_DUPLICATES_NO_PH = [\"uniprot\", \"wild_aa\", \"mutation_position\",\n",
    "                           \"mutated_aa\", \"sequence\"]\n",
    "\n",
    "DELETION_ONLY = True                           \n",
    "WRITE_VARIANT = True\n",
    "MAX_SUBDF_SIZE = 100\n"
   ]
  },
  {
   "cell_type": "code",
   "execution_count": 7,
   "metadata": {},
   "outputs": [
    {
     "name": "stdout",
     "output_type": "stream",
     "text": [
      "77\n"
     ]
    }
   ],
   "source": [
    "if not DELETION_ONLY:\n",
    "    df_train = pd.read_csv(DATASET_INPUT)\n",
    "    df_train = df_train[~(df_train.alphafold_path.isna())]\n",
    "    df_train = df_train[~(df_train.ddG.isna())]\n",
    "    df_train.drop_duplicates(subset=SUBSET_DUPLICATES_NO_PH, inplace=True)\n",
    "    df_train[\"already_computed\"] = False\n",
    "    df_train = df_train[SUBSET_DUPLICATES_NO_PH +\n",
    "                        [\"already_computed\", \"alphafold_path\", \"relaxed_wild_3D_path\", \"relaxed_mutated_3D_path\"]]\n",
    "\n",
    "    df_test = pd.read_csv(SUBMISSION_INPUT)\n",
    "    df_test.drop_duplicates(subset=SUBSET_DUPLICATES_NO_PH, inplace=True)\n",
    "    df_test[\"already_computed\"] = False\n",
    "    df_test = df_test[SUBSET_DUPLICATES_NO_PH +\n",
    "                    [\"already_computed\", \"alphafold_path\", \"relaxed_wild_3D_path\", \"relaxed_mutated_3D_path\"]]\n",
    "    # rm deletion\n",
    "    df_test = df_test[~(df_test.mutated_aa.eq('-'))]\n",
    "\n",
    "\n",
    "    df = pd.concat([df_train, df_test])\n",
    "    print(len(df))\n",
    "else:\n",
    "    # we only look at the deletion mutation\n",
    "    # for now they are only in submission dataset\n",
    "    deletion_df = pd.read_csv(SUBMISSION_INPUT)\n",
    "    deletion_df = deletion_df[deletion_df.mutated_aa.eq('-')]\n",
    "    df = deletion_df\n",
    "    print(len(df))\n"
   ]
  },
  {
   "cell_type": "code",
   "execution_count": 8,
   "metadata": {},
   "outputs": [
    {
     "name": "stdout",
     "output_type": "stream",
     "text": [
      "len(all_uniprot_dfs) 1\n",
      "./gends_input/deletion_AF70_0_variants.txt\n",
      "./gends_input/deletion_AF70_0_variants.txt\n",
      "./gends_input/deletion_AF70_0_variants.txt\n",
      "./gends_input/deletion_AF70_0_variants.txt\n",
      "./gends_input/deletion_AF70_0_variants.txt\n",
      "./gends_input/deletion_AF70_0_variants.txt\n",
      "./gends_input/deletion_AF70_0_variants.txt\n",
      "./gends_input/deletion_AF70_0_variants.txt\n",
      "./gends_input/deletion_AF70_0_variants.txt\n",
      "./gends_input/deletion_AF70_0_variants.txt\n",
      "./gends_input/deletion_AF70_0_variants.txt\n",
      "./gends_input/deletion_AF70_0_variants.txt\n",
      "./gends_input/deletion_AF70_0_variants.txt\n",
      "./gends_input/deletion_AF70_0_variants.txt\n",
      "./gends_input/deletion_AF70_0_variants.txt\n",
      "./gends_input/deletion_AF70_0_variants.txt\n",
      "./gends_input/deletion_AF70_0_variants.txt\n",
      "./gends_input/deletion_AF70_0_variants.txt\n",
      "./gends_input/deletion_AF70_0_variants.txt\n",
      "./gends_input/deletion_AF70_0_variants.txt\n",
      "./gends_input/deletion_AF70_0_variants.txt\n",
      "./gends_input/deletion_AF70_0_variants.txt\n",
      "./gends_input/deletion_AF70_0_variants.txt\n",
      "./gends_input/deletion_AF70_0_variants.txt\n",
      "./gends_input/deletion_AF70_0_variants.txt\n",
      "./gends_input/deletion_AF70_0_variants.txt\n",
      "./gends_input/deletion_AF70_0_variants.txt\n",
      "./gends_input/deletion_AF70_0_variants.txt\n",
      "./gends_input/deletion_AF70_0_variants.txt\n",
      "./gends_input/deletion_AF70_0_variants.txt\n",
      "./gends_input/deletion_AF70_0_variants.txt\n",
      "./gends_input/deletion_AF70_0_variants.txt\n",
      "./gends_input/deletion_AF70_0_variants.txt\n",
      "./gends_input/deletion_AF70_0_variants.txt\n",
      "./gends_input/deletion_AF70_0_variants.txt\n",
      "./gends_input/deletion_AF70_0_variants.txt\n",
      "./gends_input/deletion_AF70_0_variants.txt\n",
      "./gends_input/deletion_AF70_0_variants.txt\n",
      "./gends_input/deletion_AF70_0_variants.txt\n",
      "./gends_input/deletion_AF70_0_variants.txt\n",
      "./gends_input/deletion_AF70_0_variants.txt\n",
      "./gends_input/deletion_AF70_0_variants.txt\n",
      "./gends_input/deletion_AF70_0_variants.txt\n",
      "./gends_input/deletion_AF70_0_variants.txt\n",
      "./gends_input/deletion_AF70_0_variants.txt\n",
      "./gends_input/deletion_AF70_0_variants.txt\n",
      "./gends_input/deletion_AF70_0_variants.txt\n",
      "./gends_input/deletion_AF70_0_variants.txt\n",
      "./gends_input/deletion_AF70_0_variants.txt\n",
      "./gends_input/deletion_AF70_0_variants.txt\n",
      "./gends_input/deletion_AF70_0_variants.txt\n",
      "./gends_input/deletion_AF70_0_variants.txt\n",
      "./gends_input/deletion_AF70_0_variants.txt\n",
      "./gends_input/deletion_AF70_0_variants.txt\n",
      "./gends_input/deletion_AF70_0_variants.txt\n",
      "./gends_input/deletion_AF70_0_variants.txt\n",
      "./gends_input/deletion_AF70_0_variants.txt\n",
      "./gends_input/deletion_AF70_0_variants.txt\n",
      "./gends_input/deletion_AF70_0_variants.txt\n",
      "./gends_input/deletion_AF70_0_variants.txt\n",
      "./gends_input/deletion_AF70_0_variants.txt\n",
      "./gends_input/deletion_AF70_0_variants.txt\n",
      "./gends_input/deletion_AF70_0_variants.txt\n",
      "./gends_input/deletion_AF70_0_variants.txt\n",
      "./gends_input/deletion_AF70_0_variants.txt\n",
      "./gends_input/deletion_AF70_0_variants.txt\n",
      "./gends_input/deletion_AF70_0_variants.txt\n",
      "./gends_input/deletion_AF70_0_variants.txt\n",
      "./gends_input/deletion_AF70_0_variants.txt\n",
      "./gends_input/deletion_AF70_0_variants.txt\n",
      "./gends_input/deletion_AF70_0_variants.txt\n",
      "./gends_input/deletion_AF70_0_variants.txt\n",
      "./gends_input/deletion_AF70_0_variants.txt\n",
      "./gends_input/deletion_AF70_0_variants.txt\n",
      "./gends_input/deletion_AF70_0_variants.txt\n",
      "./gends_input/deletion_AF70_0_variants.txt\n",
      "./gends_input/deletion_AF70_0_variants.txt\n",
      "wrote variants\n"
     ]
    }
   ],
   "source": [
    "# create variant list in gends_outputs\n",
    "# Split df by uniprot\n",
    "\n",
    "unique_uniprot = df.uniprot.unique()\n",
    "all_uniprot_dfs = []\n",
    "\n",
    "for uniprot in unique_uniprot:\n",
    "    uniprot_df = df[df.uniprot.eq(uniprot)]\n",
    "    if len(uniprot_df) < MAX_SUBDF_SIZE:\n",
    "        all_uniprot_dfs.append(uniprot_df.copy())\n",
    "    else:\n",
    "        number_splits = min(THREADS_PARIS, len(uniprot_df)//MAX_SUBDF_SIZE)\n",
    "        print(f\"splitting {uniprot} in {number_splits} splits\")\n",
    "        subdf_list = [uniprot_df.iloc[index, :].copy()\n",
    "                    for index in np.array_split(range(len(uniprot_df)), number_splits)]\n",
    "        all_uniprot_dfs += subdf_list\n",
    "\n",
    "print(\"len(all_uniprot_dfs)\", len(all_uniprot_dfs))\n",
    "\n",
    "\n",
    "def append_to_variants(row, k):\n",
    "    if DELETION_ONLY:\n",
    "        output_path = f\"./gends_input/deletion_{row['uniprot']}_{k}_variants.txt\"\n",
    "    else:\n",
    "        output_path = f\"./gends_input/{row['uniprot']}_{k}_variants.txt\"\n",
    "\n",
    "    with open(output_path, \"a+\") as f:\n",
    "        wt_pdb_path = row[\"relaxed_wild_3D_path\"]\n",
    "        pos = int(row[\"mutation_position\"]+1)\n",
    "        mt_pdb_path = row[\"relaxed_mutated_3D_path\"]\n",
    "        f.write(f\"{wt_pdb_path} {pos} {mt_pdb_path}\\n\")\n",
    "    return row\n",
    "\n",
    "\n",
    "if WRITE_VARIANT:\n",
    "    for k, subdf in enumerate(all_uniprot_dfs):\n",
    "        subdf.apply(lambda row: append_to_variants(row, k), axis=1)\n",
    "    print(\"wrote variants\")\n"
   ]
  },
  {
   "cell_type": "markdown",
   "metadata": {},
   "source": [
    "the following scripts needs to be done in the thermonet conda environment:\n",
    "\n",
    "> conda activate thermonet"
   ]
  },
  {
   "cell_type": "code",
   "execution_count": 9,
   "metadata": {},
   "outputs": [
    {
     "data": {
      "text/plain": [
       "True"
      ]
     },
     "execution_count": 9,
     "metadata": {},
     "output_type": "execute_result"
    }
   ],
   "source": [
    "already_computed = glob(\n",
    "    \"./gends_output/*_stacked_16_1*\")\n",
    "uniprot = \"P03050\"\n",
    "i = 29\n",
    "output = f\"./gends_output/{uniprot}_{i}_stacked_16_1_direct.npy\"\n",
    "(output in already_computed)"
   ]
  },
  {
   "cell_type": "code",
   "execution_count": 10,
   "metadata": {},
   "outputs": [],
   "source": [
    "already_computed = glob(\n",
    "    \"./gends_output/*_stacked_16_1*\")\n",
    "\n",
    "cmd_list = []\n",
    "for k, subdf in enumerate(all_uniprot_dfs):\n",
    "    uniprot = subdf.iloc[0,:][\"uniprot\"]\n",
    "    \n",
    "    if DELETION_ONLY:\n",
    "        output_check = f\"./gends_output/deletion_{uniprot}_{k}_stacked_16_1_direct.npy\"\n",
    "        input_arg = f\"-i ./compute_mutated_structures/gends_input/deletion_{uniprot}_{k}_variants.txt\"\n",
    "        output_arg = f\"-o ./compute_mutated_structures/gends_output/deletion_{uniprot}_{k}_stacked_16_1\"\n",
    "    else:\n",
    "        output_check = f\"./gends_output/{uniprot}_{k}_stacked_16_1_direct.npy\"\n",
    "        input_arg = f\"-i ./compute_mutated_structures/gends_input/{uniprot}_{k}_variants.txt\"\n",
    "        output_arg = f\"-o ./compute_mutated_structures/gends_output/{uniprot}_{k}_stacked_16_1\"\n",
    "\n",
    "    if output_check in already_computed:\n",
    "        continue\n",
    "    else:\n",
    "        cmd = \" \".join([\n",
    "            \"/home/ml/novozymes-prediction/resources/ThermoNet/ThermoNet/gends.py\",\n",
    "            input_arg,\n",
    "            output_arg,\n",
    "            \"-p ./ --boxsize 16 --voxelsize 1\",\n",
    "            \"\\n\"\n",
    "            ])\n",
    "        cmd_list.append(cmd)\n",
    "\n",
    "for i, cmd in enumerate(cmd_list):\n",
    "    script_suffix = f\"PARIS_{i % THREADS_PARIS}\"\n",
    "    with open(f\"../gends_{script_suffix}.sh\", \"a+\") as f:\n",
    "        f.write(cmd)\n",
    "\n",
    "with open(\"../main_gends_PARIS.sh\", \"w+\") as f:\n",
    "    for i in range(THREADS_PARIS):\n",
    "        f.write(f\"bash gends_PARIS_{i}.sh & \\n\")\n"
   ]
  },
  {
   "cell_type": "code",
   "execution_count": null,
   "metadata": {},
   "outputs": [],
   "source": [
    "if DELETION_ONLY:\n",
    "    print(\"error with:\")\n",
    "    print(\"D201__unrelaxed_rank_1_model_3_relaxed\")\n",
    "    print(\"for now removed it manually\")\n"
   ]
  },
  {
   "cell_type": "markdown",
   "metadata": {},
   "source": [
    "## Predict ddG using ThermoNet model\n",
    "because of the headaches with the install of htmd in thermonet conda environment we preferred to install tensorflow keras on a distinct conda environment\n",
    "\n",
    "be sure to be in this environment for the next step\n",
    "> conda activate tensorflow"
   ]
  },
  {
   "cell_type": "code",
   "execution_count": 45,
   "metadata": {},
   "outputs": [
    {
     "name": "stdout",
     "output_type": "stream",
     "text": [
      "P02751_70 has no computed features yet\n",
      "O60885_260 has no computed features yet\n"
     ]
    }
   ],
   "source": [
    "already_computed = glob(\n",
    "    \"./gends_output/*_stacked_16_1*\")\n",
    "\n",
    "cmd_list = []\n",
    "for k, subdf in enumerate(all_uniprot_dfs):\n",
    "    uniprot = subdf.iloc[0, :][\"uniprot\"]\n",
    "    output = f\"./gends_output/{uniprot}_{k}_stacked_16_1_direct.npy\"\n",
    "\n",
    "    if not (output in already_computed):\n",
    "        print(f\"{uniprot}_{k} has no computed features yet\")\n",
    "        continue\n",
    "    else:\n",
    "        for j in range(10):\n",
    "            # we do 10 predictions\n",
    "            cmd_direct = \" \".join([\n",
    "                \"/home/ml/novozymes-prediction/resources/ThermoNet/ThermoNet/predict.py\",\n",
    "                f\"-x ./compute_mutated_structures/gends_output/{uniprot}_{k}_stacked_16_1_direct.npy\",\n",
    "                f\"-m /home/ml/novozymes-prediction/resources/ThermoNet/models/ThermoNet_ensemble_member_{j+1}.h5\",\n",
    "                f\"-o ./compute_mutated_structures/thermonet_predictions/{uniprot}_{k}_direct_prediction_{j+1}.txt\",\n",
    "                \"\\n\"\n",
    "            ])\n",
    "            cmd_reversed = \" \".join([\n",
    "                \"/home/ml/novozymes-prediction/resources/ThermoNet/ThermoNet/predict.py\",\n",
    "                f\"-x ./compute_mutated_structures/gends_output/{uniprot}_{k}_stacked_16_1_reversed.npy\",\n",
    "                f\"-m /home/ml/novozymes-prediction/resources/ThermoNet/models/ThermoNet_ensemble_member_{j+1}.h5\",\n",
    "                f\"-o ./compute_mutated_structures/thermonet_predictions/{uniprot}_{k}_reversed_prediction_{j+1}.txt\",\n",
    "                \"\\n\"\n",
    "            ])\n",
    "            cmd_list.append(cmd_direct)\n",
    "            cmd_list.append(cmd_reversed)\n",
    "\n",
    "for i, cmd in enumerate(cmd_list):\n",
    "    with open(f\"../thermonet_all.sh\", \"a+\") as f:\n",
    "        f.write(cmd)\n"
   ]
  }
 ],
 "metadata": {
  "kernelspec": {
   "display_name": "Python 3.8.10 64-bit",
   "language": "python",
   "name": "python3"
  },
  "language_info": {
   "codemirror_mode": {
    "name": "ipython",
    "version": 3
   },
   "file_extension": ".py",
   "mimetype": "text/x-python",
   "name": "python",
   "nbconvert_exporter": "python",
   "pygments_lexer": "ipython3",
   "version": "3.8.10"
  },
  "orig_nbformat": 4,
  "vscode": {
   "interpreter": {
    "hash": "31f2aee4e71d21fbe5cf8b01ff0e069b9275f58929596ceb00d14d90e3e16cd6"
   }
  }
 },
 "nbformat": 4,
 "nbformat_minor": 2
}
