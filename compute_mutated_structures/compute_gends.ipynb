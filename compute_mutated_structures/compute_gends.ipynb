{
 "cells": [
  {
   "attachments": {},
   "cell_type": "markdown",
   "metadata": {},
   "source": [
    "# Compute Gends\n",
    "gends are the input needed for the voxel representation computation"
   ]
  },
  {
   "cell_type": "code",
   "execution_count": 36,
   "metadata": {},
   "outputs": [],
   "source": [
    "# format to specify is a custom one (we tweaked gends.py from thermonet a bit)\n",
    "# needs to bee: wt_pdb_path, pos, mt_pdb_path\n",
    "# ie: relaxed_wild_3D_path mutation_position+1 relaxed_mutated_3D_path"
   ]
  },
  {
   "cell_type": "code",
   "execution_count": 37,
   "metadata": {},
   "outputs": [],
   "source": [
    "import pandas as pd\n",
    "import numpy as np\n",
    "import re\n",
    "import os\n",
    "from glob import glob\n"
   ]
  },
  {
   "attachments": {},
   "cell_type": "markdown",
   "metadata": {},
   "source": [
    "### Config"
   ]
  },
  {
   "cell_type": "code",
   "execution_count": 38,
   "metadata": {},
   "outputs": [],
   "source": [
    "DATASET_INPUT = \"../data/main_dataset_creation/outputs/merged/dataset_with_3D_paths.csv\"\n",
    "SUBMISSION_INPUT = \"../data/main_dataset_creation/outputs/merged/dataset_with_features_path.csv\"\n",
    "COMPUTE_NEW_MUTATIONS_LISTS = True\n",
    "\n",
    "THREADS_PARIS = 6\n",
    "\n",
    "SUBSET_DUPLICATES_NO_PH = [\"uniprot\", \"wild_aa\", \"mutation_position\",\n",
    "                           \"mutated_aa\", \"sequence\"]\n",
    "\n",
    "NEW_RUN = 1\n",
    "REMOVE_NAN_IN_VARIANT = True\n",
    "KEEP_ALREADY_COMPUTED = True\n",
    "DDG_ONLY = False\n",
    "THERMONET_PREDICTION = False\n",
    "DELETION_ONLY = False\n",
    "COMPUTE_DELETION = False                           \n",
    "WRITE_VARIANT = False\n",
    "MAX_SUBDF_SIZE = 100\n"
   ]
  },
  {
   "attachments": {},
   "cell_type": "markdown",
   "metadata": {},
   "source": [
    "### Load Dataset"
   ]
  },
  {
   "cell_type": "code",
   "execution_count": 39,
   "metadata": {},
   "outputs": [
    {
     "name": "stdout",
     "output_type": "stream",
     "text": [
      "8551\n"
     ]
    }
   ],
   "source": [
    "# loading the data that we will use to compute the mutated structures\n",
    "\n",
    "if not DELETION_ONLY:\n",
    "    df_train = pd.read_csv(DATASET_INPUT)\n",
    "    df_train = df_train[~(df_train.alphafold_path.isna())]\n",
    "    if DDG_ONLY:\n",
    "        df_train = df_train[~(df_train.ddG.isna())]\n",
    "    df_train.drop_duplicates(subset=SUBSET_DUPLICATES_NO_PH, inplace=True)\n",
    "    df_train[\"already_computed\"] = False\n",
    "    # we remove files without relaxed_wild_3D_path or relaxed_mutated_3D_path\n",
    "    df_train = df_train[~(df_train[\"relaxed_wild_3D_path\"].isna())]\n",
    "    df_train = df_train[~(df_train[\"relaxed_mutated_3D_path\"].isna())]\n",
    "    # keeping only columns of interest\n",
    "    df_train = df_train[SUBSET_DUPLICATES_NO_PH +\n",
    "                        [\"already_computed\", \"alphafold_path\", \"relaxed_wild_3D_path\", \"relaxed_mutated_3D_path\"]]\n",
    "    if COMPUTE_DELETION:\n",
    "        df_test = pd.read_csv(SUBMISSION_INPUT)\n",
    "        df_test.drop_duplicates(subset=SUBSET_DUPLICATES_NO_PH, inplace=True)\n",
    "        df_test[\"already_computed\"] = False\n",
    "        df_test = df_test[SUBSET_DUPLICATES_NO_PH +\n",
    "                        [\"already_computed\", \"alphafold_path\", \"relaxed_wild_3D_path\", \"relaxed_mutated_3D_path\"]]\n",
    "        # rm deletion\n",
    "        df_test = df_test[~(df_test.mutated_aa.eq('-'))]\n",
    "\n",
    "\n",
    "        df = pd.concat([df_train, df_test])\n",
    "    else:\n",
    "        df = df_train\n",
    "    \n",
    "    print(len(df))\n",
    "else:\n",
    "    # we only look at the deletion mutation\n",
    "    # for now they are only in submission dataset\n",
    "    deletion_df = pd.read_csv(SUBMISSION_INPUT)\n",
    "    deletion_df = deletion_df[deletion_df.mutated_aa.eq('-')]\n",
    "    df = deletion_df\n",
    "    print(len(df))\n"
   ]
  },
  {
   "cell_type": "code",
   "execution_count": 40,
   "metadata": {},
   "outputs": [
    {
     "name": "stdout",
     "output_type": "stream",
     "text": [
      "7994\n",
      "['./compute_mutated_structures/relaxed_pdb/P01593_relaxed/P01593_relaxed.pdb 98 ./compute_mutated_structures/relaxed_pdb/P01593_relaxed/P01593_relaxed_S98T_relaxed.pdb', './compute_mutated_structures/relaxed_pdb/P01593_relaxed/P01593_relaxed.pdb 15 ./compute_mutated_structures/relaxed_pdb/P01593_relaxed/P01593_relaxed_L15P_relaxed.pdb', './compute_mutated_structures/relaxed_pdb/P01593_relaxed/P01593_relaxed.pdb 29 ./compute_mutated_structures/relaxed_pdb/P01593_relaxed/P01593_relaxed_S29N_relaxed.pdb']\n"
     ]
    }
   ],
   "source": [
    "# make sure to not compute twice the same variant\n",
    "\n",
    "already_computed_variants = []\n",
    "if KEEP_ALREADY_COMPUTED:\n",
    "    for variant_path in glob(f\"./gends_input_backup/*_variants.txt\"):\n",
    "        with open(variant_path) as fp:\n",
    "            for line in fp.readlines():\n",
    "                already_computed_variants.append(line.strip())\n",
    "\n",
    "print(len(already_computed_variants))\n",
    "print(already_computed_variants[:3])\n"
   ]
  },
  {
   "cell_type": "code",
   "execution_count": 41,
   "metadata": {},
   "outputs": [
    {
     "name": "stdout",
     "output_type": "stream",
     "text": [
      "splitting P06654 in 6 splits\n",
      "splitting P0ABQ4 in 1 splits\n",
      "splitting P00648 in 1 splits\n",
      "splitting P61626 in 1 splits\n",
      "splitting P00644 in 6 splits\n",
      "splitting P07751 in 1 splits\n",
      "splitting P00720 in 3 splits\n",
      "splitting D4Z2G1 in 1 splits\n",
      "splitting P63096 in 3 splits\n",
      "splitting Q93D82 in 1 splits\n",
      "len(all_uniprot_dfs) 455\n",
      "wrote 0 variants\n"
     ]
    }
   ],
   "source": [
    "# create variant list in gends_outputs\n",
    "# Split df by uniprot (in order to speed up the computation)\n",
    "\n",
    "unique_uniprot = df.uniprot.unique()\n",
    "all_uniprot_dfs = []\n",
    "\n",
    "for uniprot in unique_uniprot:\n",
    "    uniprot_df = df[df.uniprot.eq(uniprot)]\n",
    "    if len(uniprot_df) < MAX_SUBDF_SIZE:\n",
    "        all_uniprot_dfs.append(uniprot_df.copy())\n",
    "    else:\n",
    "        number_splits = min(THREADS_PARIS, len(uniprot_df)//MAX_SUBDF_SIZE)\n",
    "        print(f\"splitting {uniprot} in {number_splits} splits\")\n",
    "        subdf_list = [uniprot_df.iloc[index, :].copy()\n",
    "                    for index in np.array_split(range(len(uniprot_df)), number_splits)]\n",
    "        all_uniprot_dfs += subdf_list\n",
    "\n",
    "print(\"len(all_uniprot_dfs)\", len(all_uniprot_dfs))\n",
    "\n",
    "\n",
    "def append_to_variants(row, uniprot_variant_id, infos):\n",
    "    if DELETION_ONLY:\n",
    "        output_path = f\"./gends_input/deletion_{row['uniprot']}_{uniprot_variant_id}_variants.txt\"\n",
    "    else:\n",
    "        output_path = f\"./gends_input/{row['uniprot']}_{uniprot_variant_id}_variants.txt\"\n",
    "\n",
    "    wt_pdb_path = row[\"relaxed_wild_3D_path\"]\n",
    "    pos = int(row[\"mutation_position\"]+1)\n",
    "    mt_pdb_path = row[\"relaxed_mutated_3D_path\"]\n",
    "    if f\"{wt_pdb_path} {pos} {mt_pdb_path}\" not in already_computed_variants:\n",
    "        if WRITE_VARIANT:\n",
    "            infos[\"count\"] += 1\n",
    "            with open(output_path, \"a+\") as f:\n",
    "                f.write(f\"{wt_pdb_path} {pos} {mt_pdb_path}\\n\")\n",
    "    return row\n",
    "\n",
    "\n",
    "infos = {\"count\": 0}\n",
    "for k, subdf in enumerate(all_uniprot_dfs):\n",
    "    if KEEP_ALREADY_COMPUTED:\n",
    "        uniprot_variant_id = NEW_RUN*1000+k\n",
    "    else:\n",
    "        uniprot_variant_id = k\n",
    "    subdf.apply(lambda row: append_to_variants(\n",
    "        row, uniprot_variant_id, infos), axis=1)\n",
    "print(f\"wrote {infos['count']} variants\")\n"
   ]
  },
  {
   "attachments": {},
   "cell_type": "markdown",
   "metadata": {},
   "source": [
    "the following scripts that will be written needs to be executed in the thermonet conda environment:\n",
    "\n",
    "> conda activate thermonet"
   ]
  },
  {
   "cell_type": "code",
   "execution_count": 44,
   "metadata": {},
   "outputs": [
    {
     "name": "stdout",
     "output_type": "stream",
     "text": [
      "len(already_computed)=1206\n"
     ]
    }
   ],
   "source": [
    "# make sure to not compute twice the same voxel representation\n",
    "already_computed = glob(\n",
    "    \"./gends_output/*_stacked_16_1*\")\n",
    "print(f\"{len(already_computed)=}\")\n",
    "\n",
    "cmd_list = []\n",
    "for variant_path in glob(f\"./gends_input/*_variants.txt\"):\n",
    "    name = re.search('gends_input/(.*)_variants.txt', variant_path)\n",
    "    name = name.group(1)\n",
    "    if DELETION_ONLY:\n",
    "        output_check = f\"./gends_output/{name}_stacked_16_1_direct.npy\"\n",
    "        input_arg = f\"-i ./compute_mutated_structures/gends_input/{name}_variants.txt\"\n",
    "        output_arg = f\"-o ./compute_mutated_structures/gends_output/{name}_stacked_16_1\"\n",
    "    else:\n",
    "        output_check = f\"./gends_output/{name}_stacked_16_1_direct.npy\"\n",
    "        input_arg = f\"-i ./compute_mutated_structures/gends_input/{name}_variants.txt\"\n",
    "        output_arg = f\"-o ./compute_mutated_structures/gends_output/{name}_stacked_16_1\"\n",
    "\n",
    "    if output_check in already_computed:\n",
    "        # the voxel representation has already been computed\n",
    "        continue\n",
    "    else:\n",
    "        # we add the command to the list of commands to be executed\n",
    "        cmd = \" \".join([\n",
    "            \"/home/ml/novozymes-prediction/resources/ThermoNet/ThermoNet/gends.py\",\n",
    "            input_arg,\n",
    "            output_arg,\n",
    "            \"-p ./ --boxsize 16 --voxelsize 1\",\n",
    "            \"\\n\"\n",
    "            ])\n",
    "        cmd_list.append(cmd)\n",
    "\n",
    "\n",
    "# split the commands in several bash files for multi-threading\n",
    "for i, cmd in enumerate(cmd_list):\n",
    "    script_suffix = f\"PARIS_{i % THREADS_PARIS}\"\n",
    "    with open(f\"../gends_{script_suffix}.sh\", \"a+\") as f:\n",
    "        f.write(cmd)\n",
    "\n",
    "with open(\"../main_gends_PARIS.sh\", \"w+\") as f:\n",
    "    for i in range(THREADS_PARIS):\n",
    "        f.write(f\"bash gends_PARIS_{i}.sh & \\n\")\n"
   ]
  },
  {
   "cell_type": "code",
   "execution_count": 45,
   "metadata": {},
   "outputs": [],
   "source": [
    "if DELETION_ONLY:\n",
    "    print(\"error with:\")\n",
    "    print(\"D201__unrelaxed_rank_1_model_3_relaxed\")\n",
    "    print(\"for now remove it manually\")\n"
   ]
  }
 ],
 "metadata": {
  "kernelspec": {
   "display_name": "Python 3.8.10 64-bit",
   "language": "python",
   "name": "python3"
  },
  "language_info": {
   "codemirror_mode": {
    "name": "ipython",
    "version": 3
   },
   "file_extension": ".py",
   "mimetype": "text/x-python",
   "name": "python",
   "nbconvert_exporter": "python",
   "pygments_lexer": "ipython3",
   "version": "3.8.10 (default, Nov 14 2022, 12:59:47) \n[GCC 9.4.0]"
  },
  "orig_nbformat": 4,
  "vscode": {
   "interpreter": {
    "hash": "31f2aee4e71d21fbe5cf8b01ff0e069b9275f58929596ceb00d14d90e3e16cd6"
   }
  }
 },
 "nbformat": 4,
 "nbformat_minor": 2
}
