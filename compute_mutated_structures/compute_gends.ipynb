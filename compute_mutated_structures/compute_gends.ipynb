{
 "cells": [
  {
   "cell_type": "code",
   "execution_count": 15,
   "metadata": {},
   "outputs": [],
   "source": [
    "# format to specify is a custom one (we tweaked gends.py from thermonet a bit)\n",
    "# needs to bee: wt_pdb_path, pos, mt_pdb_path\n",
    "# ie: relaxed_wild_3D_path mutation_position+1 relaxed_mutated_3D_path"
   ]
  },
  {
   "cell_type": "code",
   "execution_count": 16,
   "metadata": {},
   "outputs": [],
   "source": [
    "import pandas as pd\n",
    "import numpy as np\n",
    "import os\n",
    "from glob import glob\n"
   ]
  },
  {
   "cell_type": "code",
   "execution_count": 17,
   "metadata": {},
   "outputs": [],
   "source": [
    "DATASET_INPUT = \"../data/main_dataset_creation/outputs/all_v3/dataset_with_all_features.csv\"\n",
    "SUBMISSION_INPUT = \"../data/main_dataset_creation/outputs/all_v3/submission_all_features_filled_nan.csv\"\n",
    "COMPUTE_NEW_MUTATIONS_LISTS = True\n",
    "\n",
    "THREADS_PARIS = 6\n",
    "\n",
    "SUBSET_DUPLICATES_NO_PH = [\"uniprot\", \"wild_aa\", \"mutation_position\",\n",
    "                           \"mutated_aa\", \"sequence\"]\n",
    "\n",
    "MAX_SUBDF_SIZE = 100\n"
   ]
  },
  {
   "cell_type": "code",
   "execution_count": 18,
   "metadata": {},
   "outputs": [
    {
     "name": "stdout",
     "output_type": "stream",
     "text": [
      "7921\n"
     ]
    }
   ],
   "source": [
    "df_train = pd.read_csv(DATASET_INPUT)\n",
    "df_train = df_train[~(df_train.alphafold_path.isna())]\n",
    "df_train = df_train[~(df_train.ddG.isna())]\n",
    "df_train.drop_duplicates(subset=SUBSET_DUPLICATES_NO_PH, inplace=True)\n",
    "df_train[\"already_computed\"] = False\n",
    "df_train = df_train[SUBSET_DUPLICATES_NO_PH +\n",
    "                    [\"already_computed\", \"alphafold_path\", \"relaxed_wild_3D_path\", \"relaxed_mutated_3D_path\"]]\n",
    "\n",
    "df_test = pd.read_csv(SUBMISSION_INPUT)\n",
    "df_test.drop_duplicates(subset=SUBSET_DUPLICATES_NO_PH, inplace=True)\n",
    "df_test[\"already_computed\"] = False\n",
    "df_test = df_test[SUBSET_DUPLICATES_NO_PH +\n",
    "                  [\"already_computed\", \"alphafold_path\", \"relaxed_wild_3D_path\", \"relaxed_mutated_3D_path\"]]\n",
    "# rm deletion\n",
    "df_test = df_test[~(df_test.mutated_aa.eq('-'))]\n",
    "\n",
    "\n",
    "df = pd.concat([df_train, df_test])\n",
    "print(len(df))\n"
   ]
  },
  {
   "cell_type": "code",
   "execution_count": 19,
   "metadata": {},
   "outputs": [
    {
     "name": "stdout",
     "output_type": "stream",
     "text": [
      "splitting P06654 in 6 splits\n",
      "splitting P0ABQ4 in 1 splits\n",
      "splitting P00648 in 1 splits\n",
      "splitting P00644 in 6 splits\n",
      "splitting P07751 in 1 splits\n",
      "splitting P00720 in 1 splits\n",
      "splitting AF70 in 6 splits\n",
      "len(all_uniprot_dfs) 307\n",
      "done\n"
     ]
    }
   ],
   "source": [
    "# create variant list in gends_outputs\n",
    "# Split df by uniprot\n",
    "unique_uniprot = df.uniprot.unique()\n",
    "all_uniprot_dfs = []\n",
    "\n",
    "for uniprot in unique_uniprot:\n",
    "    uniprot_df = df[df.uniprot.eq(uniprot)]\n",
    "    if len(uniprot_df) < MAX_SUBDF_SIZE:\n",
    "        all_uniprot_dfs.append(uniprot_df.copy())\n",
    "    else:\n",
    "        number_splits = min(THREADS_PARIS, len(uniprot_df)//MAX_SUBDF_SIZE)\n",
    "        print(f\"splitting {uniprot} in {number_splits} splits\")\n",
    "        subdf_list = [uniprot_df.iloc[index, :].copy()\n",
    "                      for index in np.array_split(range(len(uniprot_df)), number_splits)]\n",
    "        all_uniprot_dfs += subdf_list\n",
    "\n",
    "print(\"len(all_uniprot_dfs)\", len(all_uniprot_dfs))\n",
    "\n",
    "\n",
    "def append_to_variants(row, k):\n",
    "    with open(f\"./gends_input/{row['uniprot']}_{k}_variants.txt\", \"a+\") as f:\n",
    "        wt_pdb_path = row[\"relaxed_wild_3D_path\"]\n",
    "        pos = int(row[\"mutation_position\"]+1)\n",
    "        mt_pdb_path = row[\"relaxed_mutated_3D_path\"]\n",
    "        f.write(f\"{wt_pdb_path} {pos} {mt_pdb_path}\\n\")\n",
    "    return row\n",
    "\n",
    "for k, subdf in enumerate(all_uniprot_dfs):\n",
    "    subdf.apply(lambda row: append_to_variants(row, k), axis=1)\n",
    "print(\"done\")\n"
   ]
  },
  {
   "cell_type": "markdown",
   "metadata": {},
   "source": [
    "the following scripts needs to be done in the thermonet conda environment:\n",
    "\n",
    "> conda activate thermonet"
   ]
  },
  {
   "cell_type": "code",
   "execution_count": 20,
   "metadata": {},
   "outputs": [],
   "source": [
    "for i, subdf in enumerate(all_uniprot_dfs):\n",
    "    script_suffix = f\"PARIS_{i % THREADS_PARIS}\"\n",
    "    uniprot = subdf.iloc[0,:][\"uniprot\"]\n",
    "    with open(f\"../gends_{script_suffix}.sh\", \"a+\") as f:\n",
    "        cmd = \" \".join([\n",
    "            \"/home/ml/novozymes-prediction/resources/ThermoNet/ThermoNet/gends.py\",\n",
    "            f\"-i ./compute_mutated_structures/gends_input/{uniprot}_{i}_variants.txt\",\n",
    "            f\"-o ./compute_mutated_structures/gends_output/{uniprot}_{i}_stacked_16_1\",\n",
    "            \"-p ./ --boxsize 16 --voxelsize 1\",\n",
    "            \"\\n\"\n",
    "            ])\n",
    "        f.write(cmd)\n",
    "\n",
    "with open(\"../main_gends_PARIS.sh\", \"w+\") as f:\n",
    "    for i in range(THREADS_PARIS):\n",
    "        f.write(f\"bash gends_PARIS_{i}.sh & \\n\")\n"
   ]
  }
 ],
 "metadata": {
  "kernelspec": {
   "display_name": "Python 3.8.10 64-bit",
   "language": "python",
   "name": "python3"
  },
  "language_info": {
   "codemirror_mode": {
    "name": "ipython",
    "version": 3
   },
   "file_extension": ".py",
   "mimetype": "text/x-python",
   "name": "python",
   "nbconvert_exporter": "python",
   "pygments_lexer": "ipython3",
   "version": "3.8.10"
  },
  "orig_nbformat": 4,
  "vscode": {
   "interpreter": {
    "hash": "31f2aee4e71d21fbe5cf8b01ff0e069b9275f58929596ceb00d14d90e3e16cd6"
   }
  }
 },
 "nbformat": 4,
 "nbformat_minor": 2
}
