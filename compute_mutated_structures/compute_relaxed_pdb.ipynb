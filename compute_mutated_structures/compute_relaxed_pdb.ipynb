{
    "cells": [
        {
            "cell_type": "code",
            "execution_count": 1,
            "metadata": {},
            "outputs": [],
            "source": [
                "import os\n",
                "import glob\n",
                "import tqdm\n",
                "import pandas as pd\n",
                "import math"
            ]
        },
        {
            "cell_type": "code",
            "execution_count": 6,
            "metadata": {},
            "outputs": [],
            "source": [
                "ROSETTA_BIN_DIR_PARIS = \"/home/ml/novozymes-prediction/resources/rosetta/rosetta_bin_linux_2021.16.61629_bundle/main/source/bin/\"\n",
                "ROSETTA_BIN_DIR_SOUTH = \"/home/tom/Documents/Kaggle/novozymes-prediction/resources/rosetta_bin_linux_2021.16.61629_bundle/main/source/bin/\"\n",
                "RELAX_BIN_PARIS = f\"{ROSETTA_BIN_DIR_PARIS}relax.static.linuxgccrelease\"\n",
                "RELAX_BIN_SOUTH = f\"{ROSETTA_BIN_DIR_SOUTH}relax.static.linuxgccrelease\"\n",
                "THREADS_PARIS = 10\n",
                "THREADS_SOUTH = 0\n",
                "THREADS_GCP = 0\n",
                "THREADS = THREADS_PARIS+THREADS_SOUTH+THREADS_GCP\n",
                "\n",
                "MAX_CYCLES = 10000\n",
                "# -default_max_cycles {MAX_CYCLES}\n",
                "ROSETTA_PARAMETERS = f\"-relax:constrain_relax_to_start_coords -out:suffix _relaxed -out:no_nstruct_label -relax:ramp_constraints false -default_max_cycles {MAX_CYCLES}\"\n",
                "\n",
                "DATASET_PATH = \"../data/main_dataset_creation/outputs/merged/dataset_with_3D_paths.csv\"\n",
                "COMPUTE_SUBMISSION_DELETION = False"
            ]
        },
        {
            "cell_type": "code",
            "execution_count": 7,
            "metadata": {},
            "outputs": [
                {
                    "name": "stdout",
                    "output_type": "stream",
                    "text": [
                        "found 9315/467 already computed relaxed pdb\n",
                        "to_compute: len: 10, ['./data/main_dataset_creation/3D_structures/alphafold/P00766.pdb', './data/main_dataset_creation/3D_structures/alphafold/Q9QZH4.pdb', './data/main_dataset_creation/3D_structures/alphafold/A0A502FPX5.pdb']\n"
                    ]
                }
            ],
            "source": [
                "df = pd.read_csv(DATASET_PATH)\n",
                "alphafold_paths = df.alphafold_path.unique().tolist()\n",
                "\n",
                "already_computed_relaxed = [os.path.splitext(x.split('/')[-1])[0].split('_')[0] for x in glob.glob(\"./relaxed_pdb/**/*.pdb\")]\n",
                "to_compute = []\n",
                "for alphafold_path in alphafold_paths:\n",
                "    if (type(alphafold_path) == type(0.0)) and (math.isnan(alphafold_path)):\n",
                "        continue\n",
                "    name, _ = os.path.splitext(alphafold_path.split(\"/\")[-1])\n",
                "    if name not in already_computed_relaxed:\n",
                "        to_compute.append(alphafold_path)\n",
                "\n",
                "# alphafold_paths contains one \"nan\" element\n",
                "print(f\"found {len(already_computed_relaxed)}/{len(alphafold_paths)-1} already computed relaxed pdb\")\n",
                "print(f\"to_compute: len: {len(to_compute)}, {to_compute[:3]}\")"
            ]
        },
        {
            "cell_type": "code",
            "execution_count": 8,
            "metadata": {},
            "outputs": [],
            "source": [
                "for i, alphafold_path in enumerate(to_compute):\n",
                "    script_suffix = f\"{'PARIS' if (i % THREADS)<THREADS_PARIS else 'SOUTH'}_{i % THREADS}\"\n",
                "    with open(f\"bash_script_{script_suffix}.sh\", \"a+\") as f:\n",
                "        try:\n",
                "            name, _ = os.path.splitext(alphafold_path.split(\"/\")[-1])\n",
                "            if (i % THREADS) < THREADS_PARIS:\n",
                "                cmd = f\"{RELAX_BIN_PARIS} -in:file:s .{alphafold_path} {ROSETTA_PARAMETERS} > {name}.log\"\n",
                "            else:\n",
                "                cmd = f\"{RELAX_BIN_SOUTH} -in:file:s .{alphafold_path} {ROSETTA_PARAMETERS} > {name}.log\"\n",
                "                \n",
                "            f.write(cmd)\n",
                "            f.write(\"\\n\")\n",
                "            f.write(f\"mv score_relaxed.sc {name}_score_relaxed.sc\")\n",
                "            f.write(\"\\n\")\n",
                "        except Exception as e:\n",
                "            print(f\"exception raised for {name}: {e}\")\n"
            ]
        },
        {
            "cell_type": "code",
            "execution_count": 9,
            "metadata": {},
            "outputs": [],
            "source": [
                "if THREADS_PARIS>0:\n",
                "    with open(\"main_bash_script_PARIS.sh\", \"w+\") as f:\n",
                "        for i in range(THREADS_PARIS):\n",
                "            f.write(f\"bash bash_script_PARIS_{i}.sh & \\n\") \n",
                "\n",
                "if THREADS_SOUTH>0:\n",
                "    with open(\"main_bash_script_SOUTH.sh\", \"w+\") as f:\n",
                "        for i in range(THREADS_SOUTH):\n",
                "            f.write(f\"bash bash_script_SOUTH_{i+THREADS_PARIS}.sh & \\n\")\n"
            ]
        },
        {
            "cell_type": "code",
            "execution_count": 9,
            "metadata": {},
            "outputs": [
                {
                    "name": "stdout",
                    "output_type": "stream",
                    "text": [
                        "found 2337/76 already computed relaxed pdb\n",
                        "to_compute: len: 77, ['../data/main_dataset_creation/3D_structures/all_test_alphafold/Q38__unrelaxed_rank_1_model_3.pdb', '../data/main_dataset_creation/3D_structures/all_test_alphafold/P28__unrelaxed_rank_1_model_3.pdb', '../data/main_dataset_creation/3D_structures/all_test_alphafold/K185__unrelaxed_rank_1_model_3.pdb']\n"
                    ]
                }
            ],
            "source": [
                "if COMPUTE_SUBMISSION_DELETION:\n",
                "    df = pd.read_csv(\"../data/processed_test.csv\")\n",
                "    # deletion is _, so we look for path such as A23__unrelaxed_rank_1.pdb\n",
                "    alphafold_paths = glob.glob(\n",
                "        \"../data/main_dataset_creation/3D_structures/all_test_alphafold/*__*.pdb\")\n",
                "\n",
                "    already_computed_relaxed = [os.path.splitext(\n",
                "        x.split('/')[-1])[0].split('_')[0] for x in glob.glob(\"./relaxed_pdb/**/AF70_*.pdb\")]\n",
                "    to_compute = []\n",
                "    for alphafold_path in alphafold_paths:\n",
                "        name, _ = os.path.splitext(alphafold_path.split(\"/\")[-1])\n",
                "        name = name.split('_')[0]\n",
                "        name = \"AF70_alphafold_\"+name\n",
                "        if name not in already_computed_relaxed:\n",
                "            to_compute.append(alphafold_path)\n",
                "\n",
                "    # alphafold_paths contains one \"nan\" element\n",
                "    print(\n",
                "        f\"found {len(already_computed_relaxed)}/{len(alphafold_paths)-1} already computed relaxed pdb\")\n",
                "    print(f\"to_compute: len: {len(to_compute)}, {to_compute[:3]}\")\n",
                "\n",
                "    for i, alphafold_path in enumerate(to_compute):\n",
                "        script_suffix = f\"{'PARIS' if (i % THREADS)<THREADS_PARIS else 'SOUTH'}_{i % THREADS}\"\n",
                "        with open(f\"bash_script_{script_suffix}.sh\", \"a+\") as f:\n",
                "            try:\n",
                "                name, _ = os.path.splitext(alphafold_path.split(\"/\")[-1])\n",
                "                name = name.split('_')[0]\n",
                "                name = \"AF70_alphafold_\"+name\n",
                "                if (i % THREADS) < THREADS_PARIS:\n",
                "                    cmd = \" \".join([f\"{RELAX_BIN_PARIS}\",\n",
                "                                    f\"-in:file:s {alphafold_path}\",\n",
                "                                    \"-out:path ./relaxed_pdb/AF70_alphafold/\",\n",
                "                                    f\"{ROSETTA_PARAMETERS} > {name}.log\"])\n",
                "                else:\n",
                "                    cmd = \" \".join([f\"{RELAX_BIN_SOUTH}\",\n",
                "                                    f\"-in:file:s {alphafold_path}\",\n",
                "                                    \"-out:path ./relaxed_pdb/AF70_alphafold/\",\n",
                "                                    f\"{ROSETTA_PARAMETERS} > {name}.log\"])\n",
                "                f.write(cmd)\n",
                "                f.write(\"\\n\")\n",
                "                f.write(f\"mv score_relaxed.sc {name}_score_relaxed.sc\")\n",
                "                f.write(\"\\n\")\n",
                "            except Exception as e:\n",
                "                print(f\"exception raised for {name}: {e}\")\n"
            ]
        }
    ],
    "metadata": {
        "kernelspec": {
            "display_name": "Python 3.8.10 64-bit",
            "language": "python",
            "name": "python3"
        },
        "language_info": {
            "codemirror_mode": {
                "name": "ipython",
                "version": 3
            },
            "file_extension": ".py",
            "mimetype": "text/x-python",
            "name": "python",
            "nbconvert_exporter": "python",
            "pygments_lexer": "ipython3",
            "version": "3.8.10"
        },
        "orig_nbformat": 4,
        "vscode": {
            "interpreter": {
                "hash": "31f2aee4e71d21fbe5cf8b01ff0e069b9275f58929596ceb00d14d90e3e16cd6"
            }
        }
    },
    "nbformat": 4,
    "nbformat_minor": 2
}
