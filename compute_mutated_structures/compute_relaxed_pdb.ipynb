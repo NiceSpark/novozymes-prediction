{
 "cells": [
  {
   "cell_type": "code",
   "execution_count": 15,
   "metadata": {},
   "outputs": [],
   "source": [
    "import os\n",
    "import glob\n",
    "import tqdm\n",
    "import pandas as pd"
   ]
  },
  {
   "cell_type": "code",
   "execution_count": 16,
   "metadata": {},
   "outputs": [],
   "source": [
    "ROSETTA_BIN_DIR = \"/home/ml/novozymes-prediction/resources/rosetta/rosetta_bin_linux_2021.16.61629_bundle/main/source/bin/\"\n",
    "RELAX_BIN = f\"{ROSETTA_BIN_DIR}relax.static.linuxgccrelease\"\n",
    "\n",
    "\n",
    "# MAX_CYCLES = 10000\n",
    "# -default_max_cycles {MAX_CYCLES}\n",
    "ROSETTA_PARAMETERS = f\"-relax:constrain_relax_to_start_coords -out:suffix _relaxed -out:no_nstruct_label -relax:ramp_constraints false\"\n",
    "\n",
    "DATASET_PATH = \"../data/main_dataset_creation/outputs/all_v2/dataset_with_alphafold_paths.csv\""
   ]
  },
  {
   "cell_type": "code",
   "execution_count": 17,
   "metadata": {},
   "outputs": [],
   "source": [
    "df = pd.read_csv(DATASET_PATH)\n",
    "alphafold_paths = df.alphafold_path.unique().tolist()\n",
    "\n",
    "already_computed_relaxed =\n"
   ]
  },
  {
   "cell_type": "code",
   "execution_count": 18,
   "metadata": {},
   "outputs": [
    {
     "name": "stdout",
     "output_type": "stream",
     "text": [
      "exception raised for P0A3E0: 'float' object has no attribute 'split'\n"
     ]
    }
   ],
   "source": [
    "with open(\"bash_script.sh\", \"w+\") as f:\n",
    "    for alphafold_path in alphafold_paths:\n",
    "        try:\n",
    "            name, _ = os.path.splitext(alphafold_path.split(\"/\")[-1])\n",
    "            cmd = f\"{RELAX_BIN} -in:file:s .{alphafold_path} {ROSETTA_PARAMETERS} > {name}.log\"\n",
    "            # print(cmd)\n",
    "            f.write(cmd)\n",
    "            f.write(\"\\n\")\n",
    "            f.write(f\"mv score_relaxed.sc {name}_score_relaxed.sc\")\n",
    "            f.write(\"\\n\")\n",
    "        except Exception as e:\n",
    "            print(f\"exception raised for {name}: {e}\")\n"
   ]
  },
  {
   "cell_type": "code",
   "execution_count": 19,
   "metadata": {},
   "outputs": [
    {
     "data": {
      "text/plain": [
       "'P00523'"
      ]
     },
     "execution_count": 19,
     "metadata": {},
     "output_type": "execute_result"
    }
   ],
   "source": [
    "s = \"./data/main_dataset_creation/3D_structures/alphafold/P09038.pdb\"\n",
    "name\n"
   ]
  },
  {
   "cell_type": "code",
   "execution_count": null,
   "metadata": {},
   "outputs": [],
   "source": []
  }
 ],
 "metadata": {
  "kernelspec": {
   "display_name": "Python 3.8.10 64-bit",
   "language": "python",
   "name": "python3"
  },
  "language_info": {
   "codemirror_mode": {
    "name": "ipython",
    "version": 3
   },
   "file_extension": ".py",
   "mimetype": "text/x-python",
   "name": "python",
   "nbconvert_exporter": "python",
   "pygments_lexer": "ipython3",
   "version": "3.8.10"
  },
  "orig_nbformat": 4,
  "vscode": {
   "interpreter": {
    "hash": "31f2aee4e71d21fbe5cf8b01ff0e069b9275f58929596ceb00d14d90e3e16cd6"
   }
  }
 },
 "nbformat": 4,
 "nbformat_minor": 2
}
