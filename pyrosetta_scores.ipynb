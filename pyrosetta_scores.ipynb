{
 "cells": [
  {
   "cell_type": "code",
   "execution_count": 1,
   "metadata": {},
   "outputs": [
    {
     "name": "stdout",
     "output_type": "stream",
     "text": [
      "PyRosetta-4 2022 [Rosetta PyRosetta4.Release.python38.ubuntu 2022.41+release.28dc2a1757fe7c8bf9b661dd8d6cd903c305e581 2022-10-14T12:31:19] retrieved from: http://www.pyrosetta.org\n",
      "(C) Copyright Rosetta Commons Member Institutions. Created in JHU by Sergey Lyskov and PyRosetta Team.\n"
     ]
    }
   ],
   "source": [
    "from multiprocessing import Pool\n",
    "import tqdm\n",
    "import pyrosetta\n",
    "import pandas as pd\n",
    "import os\n",
    "from pyrosetta.teaching import *\n",
    "from scipy.stats import rankdata\n",
    "\n",
    "pyrosetta.init(\"-mute all\")\n",
    "\n",
    "df = pd.read_csv(\"./data/main_dataset_creation/outputs/all_v3/submission_with_voxel_from_kaggle_filled_nan.csv\")\n",
    "scores = []\n",
    "sfxn = get_score_function(True)\n",
    "\n"
   ]
  },
  {
   "cell_type": "code",
   "execution_count": 2,
   "metadata": {},
   "outputs": [
    {
     "name": "stderr",
     "output_type": "stream",
     "text": [
      "100%|██████████| 2413/2413 [02:17<00:00, 17.49it/s]\n"
     ]
    }
   ],
   "source": [
    "df[\"mutated_rosetta_ref15_score\"] = 0\n",
    "\n",
    "def add_ref15(relaxed_mutated_3D_path):\n",
    "    pose = pyrosetta.pose_from_pdb(relaxed_mutated_3D_path)\n",
    "    return relaxed_mutated_3D_path, sfxn(pose)\n",
    "\n",
    "\n",
    "paths = df[\"relaxed_mutated_3D_path\"].tolist()\n",
    "\n",
    "with Pool(12) as p:\n",
    "    results = list(tqdm.tqdm(p.imap(add_ref15, paths), total=len(paths)))\n",
    "# df[\"mutated_rosetta_ref15_score\"] = df[\"relaxed_mutated_3D_path\"].apply(\n",
    "#     add_ref15)\n",
    "# df.to_csv(\"test_ref15\")"
   ]
  },
  {
   "cell_type": "code",
   "execution_count": 7,
   "metadata": {},
   "outputs": [],
   "source": [
    "score_res_dict = dict(results)\n",
    "df[\"mutated_rosetta_ref15_score\"] = df[\"relaxed_mutated_3D_path\"].apply(\n",
    "    lambda x: -1*score_res_dict[x])\n",
    "    \n"
   ]
  },
  {
   "cell_type": "code",
   "execution_count": 13,
   "metadata": {},
   "outputs": [],
   "source": [
    "df[\"mutated_relaxed_total_score_rank\"] = rankdata(df[\"mutated_relaxed_total_score\"].apply(lambda x: -1*x))\n",
    "df[\"mutated_rosetta_ref15_score_rank\"] = rankdata(\n",
    "    df[\"mutated_rosetta_ref15_score\"])\n"
   ]
  },
  {
   "cell_type": "code",
   "execution_count": 14,
   "metadata": {},
   "outputs": [
    {
     "data": {
      "text/html": [
       "<div>\n",
       "<style scoped>\n",
       "    .dataframe tbody tr th:only-of-type {\n",
       "        vertical-align: middle;\n",
       "    }\n",
       "\n",
       "    .dataframe tbody tr th {\n",
       "        vertical-align: top;\n",
       "    }\n",
       "\n",
       "    .dataframe thead th {\n",
       "        text-align: right;\n",
       "    }\n",
       "</style>\n",
       "<table border=\"1\" class=\"dataframe\">\n",
       "  <thead>\n",
       "    <tr style=\"text-align: right;\">\n",
       "      <th></th>\n",
       "      <th>wild_aa</th>\n",
       "      <th>mutation_position</th>\n",
       "      <th>mutated_aa</th>\n",
       "      <th>wild_relaxed_total_score</th>\n",
       "      <th>mutated_relaxed_total_score</th>\n",
       "      <th>mutated_rosetta_ref15_score</th>\n",
       "      <th>mutated_rosetta_ref15_score_rank</th>\n",
       "      <th>mutated_relaxed_total_score_rank</th>\n",
       "    </tr>\n",
       "  </thead>\n",
       "  <tbody>\n",
       "    <tr>\n",
       "      <th>0</th>\n",
       "      <td>L</td>\n",
       "      <td>38</td>\n",
       "      <td>E</td>\n",
       "      <td>-430.177822</td>\n",
       "      <td>-472.490045</td>\n",
       "      <td>472.490057</td>\n",
       "      <td>2322.0</td>\n",
       "      <td>2322.0</td>\n",
       "    </tr>\n",
       "    <tr>\n",
       "      <th>1</th>\n",
       "      <td>L</td>\n",
       "      <td>38</td>\n",
       "      <td>K</td>\n",
       "      <td>-430.177822</td>\n",
       "      <td>-472.468226</td>\n",
       "      <td>472.468238</td>\n",
       "      <td>2321.0</td>\n",
       "      <td>2321.0</td>\n",
       "    </tr>\n",
       "    <tr>\n",
       "      <th>2</th>\n",
       "      <td>L</td>\n",
       "      <td>38</td>\n",
       "      <td>-</td>\n",
       "      <td>-430.177822</td>\n",
       "      <td>-511.424581</td>\n",
       "      <td>511.424592</td>\n",
       "      <td>2398.0</td>\n",
       "      <td>2398.0</td>\n",
       "    </tr>\n",
       "    <tr>\n",
       "      <th>3</th>\n",
       "      <td>K</td>\n",
       "      <td>39</td>\n",
       "      <td>C</td>\n",
       "      <td>-430.177822</td>\n",
       "      <td>-465.810497</td>\n",
       "      <td>465.810509</td>\n",
       "      <td>1148.0</td>\n",
       "      <td>1148.0</td>\n",
       "    </tr>\n",
       "    <tr>\n",
       "      <th>4</th>\n",
       "      <td>K</td>\n",
       "      <td>39</td>\n",
       "      <td>F</td>\n",
       "      <td>-430.177822</td>\n",
       "      <td>-467.134958</td>\n",
       "      <td>467.134970</td>\n",
       "      <td>1508.0</td>\n",
       "      <td>1508.0</td>\n",
       "    </tr>\n",
       "  </tbody>\n",
       "</table>\n",
       "</div>"
      ],
      "text/plain": [
       "  wild_aa  mutation_position mutated_aa  wild_relaxed_total_score  \\\n",
       "0       L                 38          E               -430.177822   \n",
       "1       L                 38          K               -430.177822   \n",
       "2       L                 38          -               -430.177822   \n",
       "3       K                 39          C               -430.177822   \n",
       "4       K                 39          F               -430.177822   \n",
       "\n",
       "   mutated_relaxed_total_score  mutated_rosetta_ref15_score  \\\n",
       "0                  -472.490045                   472.490057   \n",
       "1                  -472.468226                   472.468238   \n",
       "2                  -511.424581                   511.424592   \n",
       "3                  -465.810497                   465.810509   \n",
       "4                  -467.134958                   467.134970   \n",
       "\n",
       "   mutated_rosetta_ref15_score_rank  mutated_relaxed_total_score_rank  \n",
       "0                            2322.0                            2322.0  \n",
       "1                            2321.0                            2321.0  \n",
       "2                            2398.0                            2398.0  \n",
       "3                            1148.0                            1148.0  \n",
       "4                            1508.0                            1508.0  "
      ]
     },
     "execution_count": 14,
     "metadata": {},
     "output_type": "execute_result"
    }
   ],
   "source": [
    "df[[\"wild_aa\", \"mutation_position\", \"mutated_aa\", \"wild_relaxed_total_score\",\n",
    "    \"mutated_relaxed_total_score\", \"mutated_rosetta_ref15_score\", \n",
    "    \"mutated_rosetta_ref15_score_rank\", \"mutated_relaxed_total_score_rank\"]].head()\n"
   ]
  },
  {
   "cell_type": "code",
   "execution_count": null,
   "metadata": {},
   "outputs": [],
   "source": [
    "df[\"scores_rank\"] = rankdata(df[[\"mutated_relaxed_total_score\"]])\n",
    "df[[\"mutated_relaxed_total_score\", \"scores_rank\"]]\n",
    "\n"
   ]
  },
  {
   "cell_type": "code",
   "execution_count": null,
   "metadata": {},
   "outputs": [],
   "source": [
    "for i in range(len(df)):\n",
    "    if not i % 100:\n",
    "        print(i)\n",
    "    pose = pyrosetta.pose_from_pdb(os.path.join(\n",
    "        relaxed_path, mutation_to_pdb_df.iloc[i]['path']))\n",
    "    scores.append(sfxn(pose))\n",
    "\n",
    "mutation_to_pdb_df['scores'] = scores\n",
    "scores = mutation_to_pdb_df\n",
    "scores.head()\n"
   ]
  }
 ],
 "metadata": {
  "kernelspec": {
   "display_name": "Python 3.8.10 64-bit",
   "language": "python",
   "name": "python3"
  },
  "language_info": {
   "codemirror_mode": {
    "name": "ipython",
    "version": 3
   },
   "file_extension": ".py",
   "mimetype": "text/x-python",
   "name": "python",
   "nbconvert_exporter": "python",
   "pygments_lexer": "ipython3",
   "version": "3.8.10"
  },
  "orig_nbformat": 4,
  "vscode": {
   "interpreter": {
    "hash": "31f2aee4e71d21fbe5cf8b01ff0e069b9275f58929596ceb00d14d90e3e16cd6"
   }
  }
 },
 "nbformat": 4,
 "nbformat_minor": 2
}
