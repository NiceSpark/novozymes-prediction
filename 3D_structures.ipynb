{
 "cells": [
  {
   "cell_type": "code",
   "execution_count": 1,
   "metadata": {},
   "outputs": [],
   "source": [
    "import pandas as pd\n",
    "import tqdm\n",
    "import glob\n",
    "from utils.alphafold import download_alphafold"
   ]
  },
  {
   "cell_type": "code",
   "execution_count": 2,
   "metadata": {},
   "outputs": [],
   "source": [
    "DL_ALPHAFOLD_PDB = True\n",
    "UPDATE_PATHS = True\n",
    "DATASET_PATH = \"./data/main_dataset_creation/outputs/all_v2/dataset_only_infos.csv\""
   ]
  },
  {
   "cell_type": "code",
   "execution_count": 3,
   "metadata": {},
   "outputs": [],
   "source": [
    "df = pd.read_csv(DATASET_PATH)\n"
   ]
  },
  {
   "cell_type": "code",
   "execution_count": 4,
   "metadata": {},
   "outputs": [
    {
     "name": "stderr",
     "output_type": "stream",
     "text": [
      "100%|██████████| 432/432 [00:00<00:00, 3015.73it/s]\n"
     ]
    },
    {
     "name": "stdout",
     "output_type": "stream",
     "text": [
      "exception raised for alphafold_id: nan:\n",
      "HTTP Error 404: Not Found\n"
     ]
    },
    {
     "name": "stderr",
     "output_type": "stream",
     "text": [
      "  0%|          | 0/505 [00:00<?, ?it/s]"
     ]
    },
    {
     "name": "stdout",
     "output_type": "stream",
     "text": [
      "exception raised for alphafold_id: P03050:\n",
      "HTTP Error 404: Not Found\n"
     ]
    },
    {
     "name": "stderr",
     "output_type": "stream",
     "text": [
      " 20%|█▉        | 100/505 [00:00<00:00, 514.91it/s]"
     ]
    },
    {
     "name": "stdout",
     "output_type": "stream",
     "text": [
      "exception raised for alphafold_id: Q23551:\n",
      "HTTP Error 404: Not Found\n"
     ]
    },
    {
     "name": "stderr",
     "output_type": "stream",
     "text": [
      " 33%|███▎      | 168/505 [00:00<00:00, 423.76it/s]"
     ]
    },
    {
     "name": "stdout",
     "output_type": "stream",
     "text": [
      "exception raised for alphafold_id: Q10466:\n",
      "HTTP Error 404: Not Found\n",
      "exception raised for alphafold_id: Q9H782:\n",
      "HTTP Error 404: Not Found\n"
     ]
    },
    {
     "name": "stderr",
     "output_type": "stream",
     "text": [
      " 42%|████▏     | 212/505 [00:00<00:00, 428.54it/s]"
     ]
    },
    {
     "name": "stdout",
     "output_type": "stream",
     "text": [
      "exception raised for alphafold_id: P01625:\n",
      "HTTP Error 404: Not Found\n"
     ]
    },
    {
     "name": "stderr",
     "output_type": "stream",
     "text": [
      " 66%|██████▌   | 333/505 [00:00<00:00, 665.55it/s]"
     ]
    },
    {
     "name": "stdout",
     "output_type": "stream",
     "text": [
      "exception raised for alphafold_id: P11532:\n",
      "HTTP Error 404: Not Found\n",
      "exception raised for alphafold_id: P12823:\n",
      "HTTP Error 404: Not Found\n"
     ]
    },
    {
     "name": "stderr",
     "output_type": "stream",
     "text": [
      "100%|██████████| 505/505 [00:00<00:00, 645.67it/s]"
     ]
    },
    {
     "name": "stdout",
     "output_type": "stream",
     "text": [
      "exception raised for alphafold_id: P01607:\n",
      "HTTP Error 404: Not Found\n"
     ]
    },
    {
     "name": "stderr",
     "output_type": "stream",
     "text": [
      "\n"
     ]
    }
   ],
   "source": [
    "if DL_ALPHAFOLD_PDB:\n",
    "    # download alphafold prediction\n",
    "    for alphafold_id in tqdm.tqdm(df.AlphaFoldDB.unique()):\n",
    "        download_alphafold(alphafold_id)\n",
    "\n",
    "    # some entries in the dataset have no linked alphafold id, we try our luck with the uniprot id instead\n",
    "    # already download structures will not be redownloaded (check in download_alphafold)\n",
    "\n",
    "    for uniprot_id in tqdm.tqdm(df.uniprot.unique()):\n",
    "        download_alphafold(uniprot_id)\n"
   ]
  },
  {
   "cell_type": "code",
   "execution_count": 5,
   "metadata": {},
   "outputs": [],
   "source": [
    "if UPDATE_PATHS:\n",
    "    # we now add the path to each record of the dataframe\n",
    "    df[\"alphafold_path\"] = \"\"\n",
    "\n",
    "    def find_alphafold_path(row):\n",
    "        alphafold_id = row[\"AlphaFoldDB\"]\n",
    "        path = glob.glob(f\"./data/main_dataset_creation/3D_structures/alphafold/{alphafold_id}.pdb\")\n",
    "        if not path:\n",
    "            alphafold_id = row[\"uniprot\"]\n",
    "            path = glob.glob(\n",
    "                f\"./data/main_dataset_creation/3D_structures/alphafold/{alphafold_id}.pdb\")\n",
    "        \n",
    "        row[\"alphafold_path\"] = path[0] if path else \"\"\n",
    "        return row\n",
    "\n",
    "    df = df.apply(find_alphafold_path, axis=1)"
   ]
  },
  {
   "cell_type": "code",
   "execution_count": 6,
   "metadata": {},
   "outputs": [],
   "source": [
    "df.to_csv(DATASET_PATH, index=False)\n"
   ]
  },
  {
   "cell_type": "code",
   "execution_count": 7,
   "metadata": {},
   "outputs": [
    {
     "name": "stdout",
     "output_type": "stream",
     "text": [
      "the current 3D structures folder contains 521 files\n",
      "there are 253 records without 3D structures path\n"
     ]
    }
   ],
   "source": [
    "df = pd.read_csv(DATASET_PATH)\n",
    "print(f\"the current 3D structures folder contains {len(glob.glob('./data/main_dataset_creation/3D_structures/alphafold/*.pdb'))} files\")\n",
    "print(\n",
    "    f\"there are {len(df[pd.isna(df.alphafold_path)])} records without 3D structures path\")\n"
   ]
  },
  {
   "cell_type": "code",
   "execution_count": 8,
   "metadata": {},
   "outputs": [],
   "source": [
    "from utils.file_utils import write_json\n",
    "no_3d_struct = df[pd.isna(df.alphafold_path)]\n",
    "no_3d_struct = no_3d_struct[[\"uniprot\", \"sequence\"]]\n",
    "no_3d_struct.drop_duplicates(subset=[\"sequence\"], inplace=True)\n",
    "# put into latch bio template for running it online\n",
    "# see https://console.latch.bio/workflows/82788/parameters\n",
    "no_3d_struct.rename(columns={\"sequence\": \"aa_sequence\", \"uniprot\": \"run_name\"}, inplace=True)\n",
    "def fasta_format(row):\n",
    "    row[\"aa_sequence\"] = f\"> {row['run_name']}\\n\"+row[\"aa_sequence\"]\n",
    "    return row\n",
    "\n",
    "no_3d_struct = no_3d_struct.apply(fasta_format, axis=1)\n",
    "no_3d_struct = no_3d_struct[[\"aa_sequence\", \"run_name\"]]\n",
    "no_3d_struct.to_csv(\"./data/main_dataset_creation/3D_structures/no_3d_struct_latchbio.csv\", index=False)\n",
    "\n",
    "# alphafold's shared notebook on google colab:\n",
    "# https://colab.research.google.com/github/deepmind/alphafold/blob/main/notebooks/AlphaFold.ipynb#scrollTo=woIxeCPygt7K"
   ]
  },
  {
   "cell_type": "code",
   "execution_count": 9,
   "metadata": {},
   "outputs": [],
   "source": [
    "from utils.file_utils import write_json\n",
    "list_missing_uniprot = no_3d_struct.run_name.to_dict()\n",
    "write_json(\"./data/main_dataset_creation/3D_structures/no_3d_struct_latchbio_ids.json\",\n",
    "           list_missing_uniprot)\n"
   ]
  }
 ],
 "metadata": {
  "kernelspec": {
   "display_name": "Python 3.8.10 ('novozymes-prediction-Gl9CRTFV')",
   "language": "python",
   "name": "python3"
  },
  "language_info": {
   "codemirror_mode": {
    "name": "ipython",
    "version": 3
   },
   "file_extension": ".py",
   "mimetype": "text/x-python",
   "name": "python",
   "nbconvert_exporter": "python",
   "pygments_lexer": "ipython3",
   "version": "3.8.10"
  },
  "orig_nbformat": 4,
  "vscode": {
   "interpreter": {
    "hash": "27b13dc4add9efa918e6bb920c50afa2240557655d90455391ab57f21c65447b"
   }
  }
 },
 "nbformat": 4,
 "nbformat_minor": 2
}
