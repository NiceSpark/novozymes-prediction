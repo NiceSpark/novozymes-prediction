{
 "cells": [
  {
   "cell_type": "code",
   "execution_count": null,
   "metadata": {},
   "outputs": [],
   "source": [
    "import pandas as pd\n",
    "import tqdm\n",
    "import glob\n",
    "from utils.alphafold import download_alphafold"
   ]
  },
  {
   "cell_type": "code",
   "execution_count": null,
   "metadata": {},
   "outputs": [],
   "source": [
    "df = pd.read_csv(\"./data/main_dataset/main.csv\")\n",
    "df.head(2)"
   ]
  },
  {
   "cell_type": "code",
   "execution_count": null,
   "metadata": {},
   "outputs": [],
   "source": [
    "# download alphafold prediction\n",
    "\n",
    "for alphafold_id in tqdm.tqdm(df.AlphaFoldDB.unique()):\n",
    "    download_alphafold(alphafold_id)"
   ]
  },
  {
   "cell_type": "code",
   "execution_count": null,
   "metadata": {},
   "outputs": [],
   "source": [
    "# some entries in the dataset have no linked alphafold id, we try our luck with the uniprot id instead\n",
    "# already download structures will not be redownloaded (check in download_alphafold)\n",
    "\n",
    "for uniprot_id in tqdm.tqdm(df.uniprot.unique()):\n",
    "    download_alphafold(uniprot_id)"
   ]
  },
  {
   "cell_type": "code",
   "execution_count": null,
   "metadata": {},
   "outputs": [],
   "source": [
    "# we now add the path to each record of the dataframe\n",
    "df[\"alphafold_path\"] = \"\"\n",
    "\n",
    "def find_alphafold_path(row):\n",
    "    alphafold_id = row[\"AlphaFoldDB\"]\n",
    "    path = glob.glob(f\"./data/main_dataset/3D_structures/alphafold/{alphafold_id}.pdb\")\n",
    "    if not path:\n",
    "        alphafold_id = row[\"uniprot\"]\n",
    "        path = glob.glob(f\"./data/main_dataset/3D_structures/alphafold/{alphafold_id}.pdb\")\n",
    "    \n",
    "    row[\"alphafold_path\"] = path[0] if path else \"\"\n",
    "    return row\n",
    "\n",
    "df = df.apply(find_alphafold_path, axis=1)\n",
    "df.to_csv(\"./data/main_dataset/main.csv\", index=False)"
   ]
  },
  {
   "cell_type": "code",
   "execution_count": null,
   "metadata": {},
   "outputs": [],
   "source": [
    "df = pd.read_csv(\"./data/main_dataset/main.csv\")\n",
    "print(f\"the current 3D structures folder contains {len(glob.glob('./data/main_dataset/3D_structures/alphafold/*.pdb'))} files\")\n",
    "print(\n",
    "    f\"there are {len(df[pd.isna(df.alphafold_path)])} records without 3D structures path\")\n"
   ]
  },
  {
   "cell_type": "code",
   "execution_count": 27,
   "metadata": {},
   "outputs": [],
   "source": [
    "from utils.file_utils import write_json\n",
    "no_3d_struct = df[pd.isna(df.alphafold_path)]\n",
    "no_3d_struct = no_3d_struct[[\"PDB_wild\", \"uniprot\", \"sequence\"]]\n",
    "no_3d_struct.drop_duplicates(subset=[\"sequence\"], inplace=True)\n",
    "no_3d_struct.to_csv(\"./data/main_dataset/no_3d_struct.csv\", index=False)\n",
    "\n",
    "# this no_3d_struct is then used to get 3d structure from alphafold by running alphafold on the sequence in alphafold's shared notebook:\n",
    "# https://colab.research.google.com/github/deepmind/alphafold/blob/main/notebooks/AlphaFold.ipynb#scrollTo=woIxeCPygt7K"
   ]
  }
 ],
 "metadata": {
  "kernelspec": {
   "display_name": "Python 3.8.10 ('novozymes-prediction-Gl9CRTFV')",
   "language": "python",
   "name": "python3"
  },
  "language_info": {
   "codemirror_mode": {
    "name": "ipython",
    "version": 3
   },
   "file_extension": ".py",
   "mimetype": "text/x-python",
   "name": "python",
   "nbconvert_exporter": "python",
   "pygments_lexer": "ipython3",
   "version": "3.8.10"
  },
  "orig_nbformat": 4,
  "vscode": {
   "interpreter": {
    "hash": "27b13dc4add9efa918e6bb920c50afa2240557655d90455391ab57f21c65447b"
   }
  }
 },
 "nbformat": 4,
 "nbformat_minor": 2
}
