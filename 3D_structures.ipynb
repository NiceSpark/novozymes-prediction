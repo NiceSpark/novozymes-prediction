{
 "cells": [
  {
   "cell_type": "code",
   "execution_count": 1,
   "metadata": {},
   "outputs": [],
   "source": [
    "import pandas as pd\n",
    "import tqdm\n",
    "import glob\n",
    "from utils.alphafold import download_alphafold"
   ]
  },
  {
   "cell_type": "code",
   "execution_count": 2,
   "metadata": {},
   "outputs": [
    {
     "data": {
      "text/html": [
       "<div>\n",
       "<style scoped>\n",
       "    .dataframe tbody tr th:only-of-type {\n",
       "        vertical-align: middle;\n",
       "    }\n",
       "\n",
       "    .dataframe tbody tr th {\n",
       "        vertical-align: top;\n",
       "    }\n",
       "\n",
       "    .dataframe thead th {\n",
       "        text-align: right;\n",
       "    }\n",
       "</style>\n",
       "<table border=\"1\" class=\"dataframe\">\n",
       "  <thead>\n",
       "    <tr style=\"text-align: right;\">\n",
       "      <th></th>\n",
       "      <th>PDB_wild</th>\n",
       "      <th>uniprot</th>\n",
       "      <th>mutated_chain</th>\n",
       "      <th>mutation_code</th>\n",
       "      <th>pH</th>\n",
       "      <th>Texp</th>\n",
       "      <th>Tm</th>\n",
       "      <th>ddG</th>\n",
       "      <th>dTm</th>\n",
       "      <th>dataset_source</th>\n",
       "      <th>sequence</th>\n",
       "      <th>length</th>\n",
       "      <th>molWeight</th>\n",
       "      <th>countByFeatureType</th>\n",
       "      <th>chain_start</th>\n",
       "      <th>chain_end</th>\n",
       "      <th>AlphaFoldDB</th>\n",
       "      <th>alphafold_path</th>\n",
       "    </tr>\n",
       "  </thead>\n",
       "  <tbody>\n",
       "    <tr>\n",
       "      <th>0</th>\n",
       "      <td>1CQW</td>\n",
       "      <td>P59336</td>\n",
       "      <td>A</td>\n",
       "      <td>V244L</td>\n",
       "      <td>NaN</td>\n",
       "      <td>NaN</td>\n",
       "      <td>52.5</td>\n",
       "      <td>NaN</td>\n",
       "      <td>2.1</td>\n",
       "      <td>FireProtDB</td>\n",
       "      <td>MSEIGTGFPFDPHYVEVLGERMHYVDVGPRDGTPVLFLHGNPTSSY...</td>\n",
       "      <td>294.0</td>\n",
       "      <td>33331.0</td>\n",
       "      <td>{'Chain': 1, 'Domain': 1, 'Active site': 3, 'B...</td>\n",
       "      <td>1.0</td>\n",
       "      <td>294.0</td>\n",
       "      <td>P59336</td>\n",
       "      <td>./data/main_dataset/3D_structures/alphafold/P5...</td>\n",
       "    </tr>\n",
       "    <tr>\n",
       "      <th>1</th>\n",
       "      <td>1CQW</td>\n",
       "      <td>P59336</td>\n",
       "      <td>A</td>\n",
       "      <td>L96V</td>\n",
       "      <td>NaN</td>\n",
       "      <td>NaN</td>\n",
       "      <td>50.0</td>\n",
       "      <td>NaN</td>\n",
       "      <td>-0.4</td>\n",
       "      <td>FireProtDB</td>\n",
       "      <td>MSEIGTGFPFDPHYVEVLGERMHYVDVGPRDGTPVLFLHGNPTSSY...</td>\n",
       "      <td>294.0</td>\n",
       "      <td>33331.0</td>\n",
       "      <td>{'Chain': 1, 'Domain': 1, 'Active site': 3, 'B...</td>\n",
       "      <td>1.0</td>\n",
       "      <td>294.0</td>\n",
       "      <td>P59336</td>\n",
       "      <td>./data/main_dataset/3D_structures/alphafold/P5...</td>\n",
       "    </tr>\n",
       "  </tbody>\n",
       "</table>\n",
       "</div>"
      ],
      "text/plain": [
       "  PDB_wild uniprot mutated_chain mutation_code  pH  Texp    Tm  ddG  dTm  \\\n",
       "0     1CQW  P59336             A         V244L NaN   NaN  52.5  NaN  2.1   \n",
       "1     1CQW  P59336             A          L96V NaN   NaN  50.0  NaN -0.4   \n",
       "\n",
       "  dataset_source                                           sequence  length  \\\n",
       "0     FireProtDB  MSEIGTGFPFDPHYVEVLGERMHYVDVGPRDGTPVLFLHGNPTSSY...   294.0   \n",
       "1     FireProtDB  MSEIGTGFPFDPHYVEVLGERMHYVDVGPRDGTPVLFLHGNPTSSY...   294.0   \n",
       "\n",
       "   molWeight                                 countByFeatureType  chain_start  \\\n",
       "0    33331.0  {'Chain': 1, 'Domain': 1, 'Active site': 3, 'B...          1.0   \n",
       "1    33331.0  {'Chain': 1, 'Domain': 1, 'Active site': 3, 'B...          1.0   \n",
       "\n",
       "   chain_end AlphaFoldDB                                     alphafold_path  \n",
       "0      294.0      P59336  ./data/main_dataset/3D_structures/alphafold/P5...  \n",
       "1      294.0      P59336  ./data/main_dataset/3D_structures/alphafold/P5...  "
      ]
     },
     "execution_count": 2,
     "metadata": {},
     "output_type": "execute_result"
    }
   ],
   "source": [
    "df = pd.read_csv(\"./data/main_dataset/main.csv\")\n",
    "df.head(2)"
   ]
  },
  {
   "cell_type": "code",
   "execution_count": 3,
   "metadata": {},
   "outputs": [
    {
     "name": "stderr",
     "output_type": "stream",
     "text": [
      "100%|██████████| 370/370 [00:00<00:00, 2651.87it/s]"
     ]
    },
    {
     "name": "stdout",
     "output_type": "stream",
     "text": [
      "exception raised for alphafold_id: nan:\n",
      "HTTP Error 404: Not Found\n"
     ]
    },
    {
     "name": "stderr",
     "output_type": "stream",
     "text": [
      "\n"
     ]
    }
   ],
   "source": [
    "# download alphafold prediction\n",
    "\n",
    "for alphafold_id in tqdm.tqdm(df.AlphaFoldDB.unique()):\n",
    "    download_alphafold(alphafold_id)"
   ]
  },
  {
   "cell_type": "code",
   "execution_count": 4,
   "metadata": {},
   "outputs": [
    {
     "name": "stderr",
     "output_type": "stream",
     "text": [
      "  0%|          | 0/430 [00:00<?, ?it/s]"
     ]
    },
    {
     "name": "stdout",
     "output_type": "stream",
     "text": [
      "exception raised for alphafold_id: nan:\n",
      "HTTP Error 404: Not Found\n"
     ]
    },
    {
     "name": "stderr",
     "output_type": "stream",
     "text": [
      "  7%|▋         | 31/430 [00:00<00:02, 164.29it/s]"
     ]
    },
    {
     "name": "stdout",
     "output_type": "stream",
     "text": [
      "exception raised for alphafold_id: P69543:\n",
      "HTTP Error 404: Not Found\n",
      "exception raised for alphafold_id: P00720:\n",
      "HTTP Error 404: Not Found\n",
      "exception raised for alphafold_id: P03034:\n",
      "HTTP Error 404: Not Found\n"
     ]
    },
    {
     "name": "stderr",
     "output_type": "stream",
     "text": [
      " 11%|█         | 48/430 [00:00<00:03, 96.34it/s] "
     ]
    },
    {
     "name": "stdout",
     "output_type": "stream",
     "text": [
      "exception raised for alphafold_id: P03050:\n",
      "HTTP Error 404: Not Found\n",
      "exception raised for alphafold_id: P03040:\n",
      "HTTP Error 404: Not Found\n"
     ]
    },
    {
     "name": "stderr",
     "output_type": "stream",
     "text": [
      " 15%|█▌        | 65/430 [00:00<00:03, 95.80it/s]"
     ]
    },
    {
     "name": "stdout",
     "output_type": "stream",
     "text": [
      "exception raised for alphafold_id: P12528:\n",
      "HTTP Error 404: Not Found\n"
     ]
    },
    {
     "name": "stderr",
     "output_type": "stream",
     "text": [
      " 30%|███       | 131/430 [00:00<00:01, 194.35it/s]"
     ]
    },
    {
     "name": "stdout",
     "output_type": "stream",
     "text": [
      "exception raised for alphafold_id: Q23551:\n",
      "HTTP Error 404: Not Found\n",
      "exception raised for alphafold_id: P03706:\n",
      "HTTP Error 404: Not Found\n"
     ]
    },
    {
     "name": "stderr",
     "output_type": "stream",
     "text": [
      " 35%|███▌      | 152/430 [00:00<00:01, 195.44it/s]"
     ]
    },
    {
     "name": "stdout",
     "output_type": "stream",
     "text": [
      "exception raised for alphafold_id: Q10466:\n",
      "HTTP Error 404: Not Found\n"
     ]
    },
    {
     "name": "stderr",
     "output_type": "stream",
     "text": [
      " 40%|████      | 173/430 [00:01<00:01, 197.17it/s]"
     ]
    },
    {
     "name": "stdout",
     "output_type": "stream",
     "text": [
      "exception raised for alphafold_id: Q9H782:\n",
      "HTTP Error 404: Not Found\n",
      "exception raised for alphafold_id: P26747:\n",
      "HTTP Error 404: Not Found\n"
     ]
    },
    {
     "name": "stderr",
     "output_type": "stream",
     "text": [
      " 51%|█████     | 219/430 [00:01<00:00, 217.44it/s]"
     ]
    },
    {
     "name": "stdout",
     "output_type": "stream",
     "text": [
      "exception raised for alphafold_id: P26748:\n",
      "HTTP Error 404: Not Found\n"
     ]
    },
    {
     "name": "stderr",
     "output_type": "stream",
     "text": [
      " 56%|█████▌    | 241/430 [00:01<00:01, 181.44it/s]"
     ]
    },
    {
     "name": "stdout",
     "output_type": "stream",
     "text": [
      "exception raised for alphafold_id: P68660:\n",
      "HTTP Error 404: Not Found\n",
      "exception raised for alphafold_id: S4WCF9:\n",
      "HTTP Error 404: Not Found\n",
      "exception raised for alphafold_id: P12497:\n",
      "HTTP Error 404: Not Found\n"
     ]
    },
    {
     "name": "stderr",
     "output_type": "stream",
     "text": [
      " 60%|██████    | 260/430 [00:01<00:01, 156.29it/s]"
     ]
    },
    {
     "name": "stdout",
     "output_type": "stream",
     "text": [
      "exception raised for alphafold_id: Q8WZ42:\n",
      "HTTP Error 404: Not Found\n",
      "exception raised for alphafold_id: P23074:\n",
      "HTTP Error 404: Not Found\n"
     ]
    },
    {
     "name": "stderr",
     "output_type": "stream",
     "text": [
      " 75%|███████▌  | 323/430 [00:02<00:00, 122.33it/s]"
     ]
    },
    {
     "name": "stdout",
     "output_type": "stream",
     "text": [
      "exception raised for alphafold_id: P69168:\n",
      "HTTP Error 404: Not Found\n",
      "exception raised for alphafold_id: P11532:\n",
      "HTTP Error 404: Not Found\n",
      "exception raised for alphafold_id: P19551:\n",
      "HTTP Error 404: Not Found\n"
     ]
    },
    {
     "name": "stderr",
     "output_type": "stream",
     "text": [
      "100%|██████████| 430/430 [00:02<00:00, 182.59it/s]"
     ]
    },
    {
     "name": "stdout",
     "output_type": "stream",
     "text": [
      "exception raised for alphafold_id: P04275:\n",
      "HTTP Error 404: Not Found\n",
      "exception raised for alphafold_id: P12823:\n",
      "HTTP Error 404: Not Found\n"
     ]
    },
    {
     "name": "stderr",
     "output_type": "stream",
     "text": [
      "\n"
     ]
    }
   ],
   "source": [
    "# some entries in the dataset have no linked alphafold id, we try our luck with the uniprot id instead\n",
    "# already download structures will not be redownloaded (check in download_alphafold)\n",
    "\n",
    "for uniprot_id in tqdm.tqdm(df.uniprot.unique()):\n",
    "    download_alphafold(uniprot_id)"
   ]
  },
  {
   "cell_type": "code",
   "execution_count": 5,
   "metadata": {},
   "outputs": [],
   "source": [
    "# we now add the path to each record of the dataframe\n",
    "df[\"alphafold_path\"] = \"\"\n",
    "\n",
    "def find_alphafold_path(row):\n",
    "    alphafold_id = row[\"AlphaFoldDB\"]\n",
    "    path = glob.glob(f\"./data/main_dataset/3D_structures/alphafold/{alphafold_id}.pdb\")\n",
    "    if not path:\n",
    "        alphafold_id = row[\"uniprot\"]\n",
    "        path = glob.glob(f\"./data/main_dataset/3D_structures/alphafold/{alphafold_id}.pdb\")\n",
    "    \n",
    "    row[\"alphafold_path\"] = path[0] if path else \"\"\n",
    "    return row\n",
    "\n",
    "df = df.apply(find_alphafold_path, axis=1)\n",
    "df.to_csv(\"./data/main_dataset/main.csv\", index=False)"
   ]
  },
  {
   "cell_type": "code",
   "execution_count": 6,
   "metadata": {},
   "outputs": [
    {
     "name": "stdout",
     "output_type": "stream",
     "text": [
      "the current 3D structures folder contains 408 files\n",
      "there are 900 records without 3D structures path\n"
     ]
    }
   ],
   "source": [
    "df = pd.read_csv(\"./data/main_dataset/main.csv\")\n",
    "print(f\"the current 3D structures folder contains {len(glob.glob('./data/main_dataset/3D_structures/alphafold/*.pdb'))} files\")\n",
    "print(\n",
    "    f\"there are {len(df[pd.isna(df.alphafold_path)])} records without 3D structures path\")\n"
   ]
  },
  {
   "cell_type": "code",
   "execution_count": 12,
   "metadata": {},
   "outputs": [],
   "source": [
    "from utils.file_utils import write_json\n",
    "no_3d_struct = df[pd.isna(df.alphafold_path)]\n",
    "no_3d_struct = no_3d_struct[[\"PDB_wild\", \"uniprot\", \"sequence\"]]\n",
    "no_3d_struct.drop_duplicates(subset=[\"sequence\"], inplace=True)\n",
    "# put into latch bio template for running it online\n",
    "# see https://console.latch.bio/workflows/82788/parameters\n",
    "no_3d_struct.rename(columns={\"sequence\": \"aa_sequence\", \"uniprot\": \"run_name\"}, inplace=True)\n",
    "no_3d_struct.drop(columns=[\"PDB_wild\"], inplace=True)\n",
    "def fasta_format(row):\n",
    "    row[\"aa_sequence\"] = f\"> {row['run_name']}\\n\"+row[\"aa_sequence\"]\n",
    "    return row\n",
    "\n",
    "no_3d_struct = no_3d_struct.apply(fasta_format, axis=1)\n",
    "no_3d_struct = no_3d_struct[[\"aa_sequence\", \"run_name\"]]\n",
    "no_3d_struct.to_csv(\"./data/main_dataset/3D_structures/no_3d_struct_latchbio.csv\", index=False)\n",
    "\n",
    "# alphafold's shared notebook on google colab:\n",
    "# https://colab.research.google.com/github/deepmind/alphafold/blob/main/notebooks/AlphaFold.ipynb#scrollTo=woIxeCPygt7K"
   ]
  }
 ],
 "metadata": {
  "kernelspec": {
   "display_name": "Python 3.8.10 ('novozymes-prediction-Gl9CRTFV')",
   "language": "python",
   "name": "python3"
  },
  "language_info": {
   "codemirror_mode": {
    "name": "ipython",
    "version": 3
   },
   "file_extension": ".py",
   "mimetype": "text/x-python",
   "name": "python",
   "nbconvert_exporter": "python",
   "pygments_lexer": "ipython3",
   "version": "3.8.10"
  },
  "orig_nbformat": 4,
  "vscode": {
   "interpreter": {
    "hash": "27b13dc4add9efa918e6bb920c50afa2240557655d90455391ab57f21c65447b"
   }
  }
 },
 "nbformat": 4,
 "nbformat_minor": 2
}
