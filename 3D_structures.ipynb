{
    "cells": [
        {
            "cell_type": "code",
            "execution_count": 1,
            "metadata": {},
            "outputs": [],
            "source": [
                "import pandas as pd\n",
                "import tqdm\n",
                "import glob\n",
                "import os\n",
                "\n",
                "from utils.alphafold import download_alphafold, check_atom_coherence\n"
            ]
        },
        {
            "cell_type": "code",
            "execution_count": 2,
            "metadata": {},
            "outputs": [],
            "source": [
                "DL_ALPHAFOLD_PDB = True\n",
                "UPDATE_PATHS = True\n",
                "CHECK_COHERENCE = True\n",
                "ONLY_DDG = False\n",
                "WITH_MUTATED_STRUCTURE = True\n",
                "\n",
                "DATASET_DIR = \"./data/main_dataset_creation/outputs/merged/\"\n",
                "DATASET_INPUT_PATH = f\"{DATASET_DIR}dataset_only_infos.csv\"\n",
                "DATASET_OUTPUT_PATH = f\"{DATASET_DIR}dataset_with_3D_paths_2.csv\"\n"
            ]
        },
        {
            "cell_type": "code",
            "execution_count": 3,
            "metadata": {},
            "outputs": [],
            "source": [
                "df = pd.read_csv(DATASET_INPUT_PATH)\n"
            ]
        },
        {
            "cell_type": "code",
            "execution_count": 4,
            "metadata": {},
            "outputs": [
                {
                    "name": "stderr",
                    "output_type": "stream",
                    "text": [
                        "100%|██████████| 407/407 [00:00<00:00, 4790.75it/s]\n"
                    ]
                },
                {
                    "name": "stdout",
                    "output_type": "stream",
                    "text": [
                        "exception raised for alphafold_id: nan:\n",
                        "HTTP Error 404: Not Found\n"
                    ]
                },
                {
                    "name": "stderr",
                    "output_type": "stream",
                    "text": [
                        " 12%|█▏        | 58/478 [00:00<00:01, 302.13it/s]"
                    ]
                },
                {
                    "name": "stdout",
                    "output_type": "stream",
                    "text": [
                        "exception raised for alphafold_id: Q23551:\n",
                        "HTTP Error 404: Not Found\n"
                    ]
                },
                {
                    "name": "stderr",
                    "output_type": "stream",
                    "text": [
                        " 25%|██▍       | 118/478 [00:00<00:00, 375.55it/s]"
                    ]
                },
                {
                    "name": "stdout",
                    "output_type": "stream",
                    "text": [
                        "exception raised for alphafold_id: Q10466:\n",
                        "HTTP Error 404: Not Found\n",
                        "exception raised for alphafold_id: Q9H782:\n",
                        "HTTP Error 404: Not Found\n",
                        "exception raised for alphafold_id: P01625:\n",
                        "HTTP Error 404: Not Found\n"
                    ]
                },
                {
                    "name": "stderr",
                    "output_type": "stream",
                    "text": [
                        " 63%|██████▎   | 301/478 [00:00<00:00, 808.58it/s]"
                    ]
                },
                {
                    "name": "stdout",
                    "output_type": "stream",
                    "text": [
                        "exception raised for alphafold_id: P11532:\n",
                        "HTTP Error 404: Not Found\n",
                        "exception raised for alphafold_id: P12823:\n",
                        "HTTP Error 404: Not Found\n",
                        "exception raised for alphafold_id: P01607:\n",
                        "HTTP Error 404: Not Found\n"
                    ]
                },
                {
                    "name": "stderr",
                    "output_type": "stream",
                    "text": [
                        "100%|██████████| 478/478 [00:00<00:00, 722.33it/s]"
                    ]
                },
                {
                    "name": "stdout",
                    "output_type": "stream",
                    "text": [
                        "exception raised for alphafold_id: P08519:\n",
                        "HTTP Error 404: Not Found\n"
                    ]
                },
                {
                    "name": "stderr",
                    "output_type": "stream",
                    "text": [
                        "\n"
                    ]
                }
            ],
            "source": [
                "if DL_ALPHAFOLD_PDB:\n",
                "    # download alphafold prediction\n",
                "    for alphafold_id in tqdm.tqdm(df.AlphaFoldDB.unique()):\n",
                "        download_alphafold(alphafold_id)\n",
                "\n",
                "    # some entries in the dataset have no linked alphafold id, we try our luck with the uniprot id instead\n",
                "    # already download structures will not be redownloaded (check in download_alphafold)\n",
                "\n",
                "    for uniprot_id in tqdm.tqdm(df.uniprot.unique()):\n",
                "        download_alphafold(uniprot_id)\n"
            ]
        },
        {
            "cell_type": "code",
            "execution_count": 5,
            "metadata": {},
            "outputs": [],
            "source": [
                "if UPDATE_PATHS:\n",
                "    # we now add the path to each record of the dataframe\n",
                "\n",
                "    df[\"alphafold_path\"] = \"\"\n",
                "    df[\"relaxed_wild_3D_path\"] = \"\"\n",
                "    df[\"relaxed_mutated_3D_path\"] = \"\"\n",
                "\n",
                "    all_alphafold_paths = glob.glob(\n",
                "        f\"./data/main_dataset_creation/3D_structures/alphafold/*.pdb\")\n",
                "    all_relaxed_paths = glob.glob(\n",
                "        f\"./compute_mutated_structures/relaxed_pdb/**/*_relaxed.pdb\")\n",
                "\n",
                "    def find_alphafold_3D_path(row):\n",
                "        alphafold_id = row[\"AlphaFoldDB\"]\n",
                "        path = f\"./data/main_dataset_creation/3D_structures/alphafold/{alphafold_id}.pdb\"\n",
                "        if path not in all_alphafold_paths:\n",
                "            alphafold_id = row[\"uniprot\"]\n",
                "            path = f\"./data/main_dataset_creation/3D_structures/alphafold/{alphafold_id}.pdb\"\n",
                "\n",
                "        row[\"alphafold_path\"] = path if path in all_alphafold_paths else \"\"\n",
                "        return row\n",
                "\n",
                "    def find_wild_3D_path(row):\n",
                "        name, _ = os.path.splitext(row[\"alphafold_path\"].split(\"/\")[-1])\n",
                "        path = f\"./compute_mutated_structures/relaxed_pdb/{name}_relaxed/{name}_relaxed.pdb\"\n",
                "        \n",
                "        row[\"relaxed_wild_3D_path\"] = path if path in all_relaxed_paths else \"\"\n",
                "        return row\n",
                "\n",
                "    def find_mutation_3D_path(row):\n",
                "        name, _ = os.path.splitext(row[\"alphafold_path\"].split(\"/\")[-1])\n",
                "        w_aa, m_aa = row[\"wild_aa\"], row[\"mutated_aa\"]\n",
                "        pos  = int(row[\"mutation_position\"])+1\n",
                "        path = (f\"./compute_mutated_structures/relaxed_pdb/{name}_relaxed/\" +\n",
                "                f\"{name}_relaxed_{w_aa}{pos}{m_aa}_relaxed.pdb\")\n",
                "\n",
                "        row[\"relaxed_mutated_3D_path\"] = path if path in all_relaxed_paths else \"\"\n",
                "        return row\n",
                "\n",
                "    df = df.apply(find_alphafold_3D_path, axis=1)\n",
                "    df = df.apply(find_wild_3D_path, axis=1)\n",
                "    df = df.apply(find_mutation_3D_path, axis=1)\n",
                "\n",
                "    # if WITH_MUTATED_STRUCTURE:\n",
                "    #     df = df[~(df.relaxed_mutated_3D_path.eq(\"\"))]\n"
            ]
        },
        {
            "cell_type": "code",
            "execution_count": 6,
            "metadata": {},
            "outputs": [],
            "source": [
                "df.to_csv(DATASET_OUTPUT_PATH, index=False)\n"
            ]
        },
        {
            "cell_type": "code",
            "execution_count": 7,
            "metadata": {},
            "outputs": [
                {
                    "name": "stdout",
                    "output_type": "stream",
                    "text": [
                        "the current 3D structures folder contains 539 files\n",
                        "there are 23 records without 3D structures path\n"
                    ]
                }
            ],
            "source": [
                "df = pd.read_csv(DATASET_OUTPUT_PATH)\n",
                "print(f\"the current 3D structures folder contains {len(glob.glob('./data/main_dataset_creation/3D_structures/alphafold/*.pdb'))} files\")\n",
                "print(\n",
                "    f\"there are {len(df[pd.isna(df.alphafold_path)])} records without 3D structures path\")\n"
            ]
        },
        {
            "cell_type": "code",
            "execution_count": 8,
            "metadata": {},
            "outputs": [
                {
                    "name": "stdout",
                    "output_type": "stream",
                    "text": [
                        "11113\n",
                        "11090\n",
                        "checking coherence between 470 pairs of sequence-atom(pdb) files\n"
                    ]
                },
                {
                    "name": "stderr",
                    "output_type": "stream",
                    "text": [
                        "326it [00:08, 32.41it/s]"
                    ]
                },
                {
                    "name": "stdout",
                    "output_type": "stream",
                    "text": [
                        "error for ./data/main_dataset_creation/3D_structures/alphafold/P28335.pdb at position 22: C instead of S\n"
                    ]
                },
                {
                    "name": "stderr",
                    "output_type": "stream",
                    "text": [
                        "339it [00:09, 37.04it/s]"
                    ]
                },
                {
                    "name": "stdout",
                    "output_type": "stream",
                    "text": [
                        "error for ./data/main_dataset_creation/3D_structures/alphafold/P00749.pdb at position 140: P instead of L\n"
                    ]
                },
                {
                    "name": "stderr",
                    "output_type": "stream",
                    "text": [
                        "470it [00:13, 33.73it/s]"
                    ]
                },
                {
                    "name": "stdout",
                    "output_type": "stream",
                    "text": [
                        "found 2 non coherent sequence-atom(pdb) pairs\n",
                        "11058\n",
                        "11058\n",
                        "471\n",
                        "468\n"
                    ]
                },
                {
                    "name": "stderr",
                    "output_type": "stream",
                    "text": [
                        "\n"
                    ]
                }
            ],
            "source": [
                "print(len(df))\n",
                "if ONLY_DDG:\n",
                "    # we drop rows without ddG\n",
                "    df = df[~pd.isna(df.ddG)]\n",
                "# we drop rows without alphafold_path\n",
                "df = df[~pd.isna(df.alphafold_path)]\n",
                "if CHECK_COHERENCE:\n",
                "    print(len(df))\n",
                "    df = check_atom_coherence(df)\n",
                "    print(len(df))\n",
                "print(len(df))\n",
                "print(len(df.uniprot.unique()))\n",
                "print(len(df.alphafold_path.unique()))\n"
            ]
        },
        {
            "cell_type": "code",
            "execution_count": 9,
            "metadata": {},
            "outputs": [],
            "source": [
                "# save df\n",
                "df.to_csv(DATASET_OUTPUT_PATH, index=False)\n"
            ]
        },
        {
            "cell_type": "code",
            "execution_count": 10,
            "metadata": {},
            "outputs": [
                {
                    "ename": "AssertionError",
                    "evalue": "",
                    "output_type": "error",
                    "traceback": [
                        "\u001b[0;31m---------------------------------------------------------------------------\u001b[0m",
                        "\u001b[0;31mAssertionError\u001b[0m                            Traceback (most recent call last)",
                        "Cell \u001b[0;32mIn [10], line 2\u001b[0m\n\u001b[1;32m      1\u001b[0m \u001b[39m# stop run all\u001b[39;00m\n\u001b[0;32m----> 2\u001b[0m \u001b[39massert\u001b[39;00m \u001b[39mFalse\u001b[39;00m\n",
                        "\u001b[0;31mAssertionError\u001b[0m: "
                    ]
                }
            ],
            "source": [
                "# stop run all\n",
                "assert False"
            ]
        },
        {
            "cell_type": "code",
            "execution_count": null,
            "metadata": {},
            "outputs": [],
            "source": [
                "from utils.file_utils import write_json\n",
                "no_3d_struct = df[pd.isna(df.alphafold_path)]\n",
                "no_3d_struct = no_3d_struct[[\"uniprot\", \"sequence\"]]\n",
                "no_3d_struct.drop_duplicates(subset=[\"sequence\"], inplace=True)\n",
                "# put into latch bio template for running it online\n",
                "# see https://console.latch.bio/workflows/82788/parameters\n",
                "no_3d_struct.rename(columns={\"sequence\": \"aa_sequence\", \"uniprot\": \"run_name\"}, inplace=True)\n",
                "def fasta_format(row):\n",
                "    row[\"aa_sequence\"] = f\"> {row['run_name']}\\n\"+row[\"aa_sequence\"]\n",
                "    return row\n",
                "\n",
                "no_3d_struct = no_3d_struct.apply(fasta_format, axis=1)\n",
                "no_3d_struct = no_3d_struct[[\"aa_sequence\", \"run_name\"]]\n",
                "no_3d_struct.to_csv(\"./data/main_dataset_creation/3D_structures/no_3d_struct_latchbio.csv\", index=False)\n",
                "\n",
                "# alphafold's shared notebook on google colab:\n",
                "# https://colab.research.google.com/github/deepmind/alphafold/blob/main/notebooks/AlphaFold.ipynb#scrollTo=woIxeCPygt7K"
            ]
        },
        {
            "cell_type": "code",
            "execution_count": null,
            "metadata": {},
            "outputs": [],
            "source": [
                "from utils.file_utils import write_json\n",
                "list_missing_uniprot = no_3d_struct.run_name.to_dict()\n",
                "write_json(\"./data/main_dataset_creation/3D_structures/no_3d_struct_latchbio_ids.json\",\n",
                "           list_missing_uniprot)\n"
            ]
        },
        {
            "cell_type": "code",
            "execution_count": 11,
            "metadata": {},
            "outputs": [
                {
                    "data": {
                        "text/plain": [
                            "uniprot                       0\n",
                            "wild_aa                       0\n",
                            "mutated_chain                 0\n",
                            "mutation_position             0\n",
                            "mutated_aa                    0\n",
                            "pH                            0\n",
                            "sequence                      0\n",
                            "length                        0\n",
                            "chain_start                   0\n",
                            "chain_end                     0\n",
                            "AlphaFoldDB                1528\n",
                            "Tm                         7225\n",
                            "ddG                        2417\n",
                            "dTm                        5949\n",
                            "dataset_source                0\n",
                            "infos_found                   0\n",
                            "alphafold_path                0\n",
                            "relaxed_wild_3D_path          7\n",
                            "relaxed_mutated_3D_path     471\n",
                            "dtype: int64"
                        ]
                    },
                    "execution_count": 11,
                    "metadata": {},
                    "output_type": "execute_result"
                }
            ],
            "source": [
                "import pandas as pd\n",
                "df = pd.read_csv(DATASET_OUTPUT_PATH)\n",
                "df.isna().sum()"
            ]
        }
    ],
    "metadata": {
        "kernelspec": {
            "display_name": "Python 3.8.10 64-bit",
            "language": "python",
            "name": "python3"
        },
        "language_info": {
            "codemirror_mode": {
                "name": "ipython",
                "version": 3
            },
            "file_extension": ".py",
            "mimetype": "text/x-python",
            "name": "python",
            "nbconvert_exporter": "python",
            "pygments_lexer": "ipython3",
            "version": "3.8.10"
        },
        "orig_nbformat": 4,
        "vscode": {
            "interpreter": {
                "hash": "31f2aee4e71d21fbe5cf8b01ff0e069b9275f58929596ceb00d14d90e3e16cd6"
            }
        }
    },
    "nbformat": 4,
    "nbformat_minor": 2
}
