{
 "cells": [
  {
   "cell_type": "code",
   "execution_count": 10,
   "metadata": {},
   "outputs": [],
   "source": [
    "import pandas as pd\n",
    "import tqdm\n",
    "import glob\n",
    "from utils.alphafold import download_alphafold, check_atom_coherence\n"
   ]
  },
  {
   "cell_type": "code",
   "execution_count": 11,
   "metadata": {},
   "outputs": [],
   "source": [
    "DL_ALPHAFOLD_PDB = True\n",
    "UPDATE_PATHS = True\n",
    "DATASET_INPUT_PATH = \"./data/main_dataset_creation/outputs/all_v2_2/dataset_only_infos.csv\"\n",
    "DATASET_OUTPUT_PATH = \"./data/main_dataset_creation/outputs/all_v2_2/dataset_with_alphafold_paths.csv\"\n"
   ]
  },
  {
   "cell_type": "code",
   "execution_count": 12,
   "metadata": {},
   "outputs": [],
   "source": [
    "df = pd.read_csv(DATASET_INPUT_PATH)\n"
   ]
  },
  {
   "cell_type": "code",
   "execution_count": 13,
   "metadata": {},
   "outputs": [
    {
     "name": "stderr",
     "output_type": "stream",
     "text": [
      "100%|██████████| 417/417 [00:00<00:00, 3759.02it/s]\n"
     ]
    },
    {
     "name": "stdout",
     "output_type": "stream",
     "text": [
      "exception raised for alphafold_id: nan:\n",
      "HTTP Error 404: Not Found\n"
     ]
    },
    {
     "name": "stderr",
     "output_type": "stream",
     "text": [
      "  0%|          | 0/484 [00:00<?, ?it/s]"
     ]
    },
    {
     "name": "stdout",
     "output_type": "stream",
     "text": [
      "exception raised for alphafold_id: Q23551:\n",
      "HTTP Error 404: Not Found\n",
      "exception raised for alphafold_id: Q10466:\n",
      "HTTP Error 404: Not Found\n"
     ]
    },
    {
     "name": "stderr",
     "output_type": "stream",
     "text": [
      " 26%|██▌       | 126/484 [00:00<00:00, 658.23it/s]"
     ]
    },
    {
     "name": "stdout",
     "output_type": "stream",
     "text": [
      "exception raised for alphafold_id: Q9H782:\n",
      "HTTP Error 404: Not Found\n"
     ]
    },
    {
     "name": "stderr",
     "output_type": "stream",
     "text": [
      " 40%|███▉      | 192/484 [00:00<00:00, 472.48it/s]"
     ]
    },
    {
     "name": "stdout",
     "output_type": "stream",
     "text": [
      "exception raised for alphafold_id: P01625:\n",
      "HTTP Error 404: Not Found\n",
      "exception raised for alphafold_id: P11532:\n",
      "HTTP Error 404: Not Found\n"
     ]
    },
    {
     "name": "stderr",
     "output_type": "stream",
     "text": [
      "100%|██████████| 484/484 [00:00<00:00, 653.37it/s]"
     ]
    },
    {
     "name": "stdout",
     "output_type": "stream",
     "text": [
      "exception raised for alphafold_id: P12823:\n",
      "HTTP Error 404: Not Found\n",
      "exception raised for alphafold_id: P01607:\n",
      "HTTP Error 404: Not Found\n"
     ]
    },
    {
     "name": "stderr",
     "output_type": "stream",
     "text": [
      "\n"
     ]
    }
   ],
   "source": [
    "if DL_ALPHAFOLD_PDB:\n",
    "    # download alphafold prediction\n",
    "    for alphafold_id in tqdm.tqdm(df.AlphaFoldDB.unique()):\n",
    "        download_alphafold(alphafold_id)\n",
    "\n",
    "    # some entries in the dataset have no linked alphafold id, we try our luck with the uniprot id instead\n",
    "    # already download structures will not be redownloaded (check in download_alphafold)\n",
    "\n",
    "    for uniprot_id in tqdm.tqdm(df.uniprot.unique()):\n",
    "        download_alphafold(uniprot_id)\n"
   ]
  },
  {
   "cell_type": "code",
   "execution_count": 14,
   "metadata": {},
   "outputs": [],
   "source": [
    "if UPDATE_PATHS:\n",
    "    # we now add the path to each record of the dataframe\n",
    "    df[\"alphafold_path\"] = \"\"\n",
    "\n",
    "    def find_alphafold_path(row):\n",
    "        alphafold_id = row[\"AlphaFoldDB\"]\n",
    "        path = glob.glob(f\"./data/main_dataset_creation/3D_structures/alphafold/{alphafold_id}.pdb\")\n",
    "        if not path:\n",
    "            alphafold_id = row[\"uniprot\"]\n",
    "            path = glob.glob(\n",
    "                f\"./data/main_dataset_creation/3D_structures/alphafold/{alphafold_id}.pdb\")\n",
    "        \n",
    "        row[\"alphafold_path\"] = path[0] if path else \"\"\n",
    "        return row\n",
    "\n",
    "    df = df.apply(find_alphafold_path, axis=1)"
   ]
  },
  {
   "cell_type": "code",
   "execution_count": 15,
   "metadata": {},
   "outputs": [],
   "source": [
    "df.to_csv(DATASET_OUTPUT_PATH, index=False)\n"
   ]
  },
  {
   "cell_type": "code",
   "execution_count": 16,
   "metadata": {},
   "outputs": [
    {
     "name": "stdout",
     "output_type": "stream",
     "text": [
      "the current 3D structures folder contains 522 files\n",
      "there are 22 records without 3D structures path\n"
     ]
    }
   ],
   "source": [
    "df = pd.read_csv(DATASET_OUTPUT_PATH)\n",
    "print(f\"the current 3D structures folder contains {len(glob.glob('./data/main_dataset_creation/3D_structures/alphafold/*.pdb'))} files\")\n",
    "print(\n",
    "    f\"there are {len(df[pd.isna(df.alphafold_path)])} records without 3D structures path\")\n"
   ]
  },
  {
   "cell_type": "code",
   "execution_count": 17,
   "metadata": {},
   "outputs": [
    {
     "name": "stdout",
     "output_type": "stream",
     "text": [
      "11316\n",
      "6712\n",
      "297\n",
      "294\n"
     ]
    }
   ],
   "source": [
    "print(len(df))\n",
    "# we drop rows without ddG\n",
    "df = df[~pd.isna(df.ddG)]\n",
    "# we drop rows without alphafold_path\n",
    "df = df[~pd.isna(df.alphafold_path)]\n",
    "print(len(df))\n",
    "print(len(df.uniprot.unique()))\n",
    "print(len(df.alphafold_path.unique()))"
   ]
  },
  {
   "cell_type": "markdown",
   "metadata": {},
   "source": [
    "#### Check Coherence between pdb and sequence"
   ]
  },
  {
   "cell_type": "code",
   "execution_count": null,
   "metadata": {},
   "outputs": [],
   "source": [
    "df = pd.read_csv(DATASET_OUTPUT_PATH)\n",
    "print(len(df))\n",
    "df = check_atom_coherence(df)\n",
    "print(len(df))\n"
   ]
  },
  {
   "cell_type": "code",
   "execution_count": 18,
   "metadata": {},
   "outputs": [
    {
     "ename": "AssertionError",
     "evalue": "",
     "output_type": "error",
     "traceback": [
      "\u001b[0;31m---------------------------------------------------------------------------\u001b[0m",
      "\u001b[0;31mAssertionError\u001b[0m                            Traceback (most recent call last)",
      "Cell \u001b[0;32mIn [18], line 2\u001b[0m\n\u001b[1;32m      1\u001b[0m \u001b[39m# stop run all\u001b[39;00m\n\u001b[0;32m----> 2\u001b[0m \u001b[39massert\u001b[39;00m \u001b[39mFalse\u001b[39;00m\n",
      "\u001b[0;31mAssertionError\u001b[0m: "
     ]
    }
   ],
   "source": [
    "# stop run all\n",
    "assert False"
   ]
  },
  {
   "cell_type": "code",
   "execution_count": null,
   "metadata": {},
   "outputs": [],
   "source": [
    "from utils.file_utils import write_json\n",
    "no_3d_struct = df[pd.isna(df.alphafold_path)]\n",
    "no_3d_struct = no_3d_struct[[\"uniprot\", \"sequence\"]]\n",
    "no_3d_struct.drop_duplicates(subset=[\"sequence\"], inplace=True)\n",
    "# put into latch bio template for running it online\n",
    "# see https://console.latch.bio/workflows/82788/parameters\n",
    "no_3d_struct.rename(columns={\"sequence\": \"aa_sequence\", \"uniprot\": \"run_name\"}, inplace=True)\n",
    "def fasta_format(row):\n",
    "    row[\"aa_sequence\"] = f\"> {row['run_name']}\\n\"+row[\"aa_sequence\"]\n",
    "    return row\n",
    "\n",
    "no_3d_struct = no_3d_struct.apply(fasta_format, axis=1)\n",
    "no_3d_struct = no_3d_struct[[\"aa_sequence\", \"run_name\"]]\n",
    "no_3d_struct.to_csv(\"./data/main_dataset_creation/3D_structures/no_3d_struct_latchbio.csv\", index=False)\n",
    "\n",
    "# alphafold's shared notebook on google colab:\n",
    "# https://colab.research.google.com/github/deepmind/alphafold/blob/main/notebooks/AlphaFold.ipynb#scrollTo=woIxeCPygt7K"
   ]
  },
  {
   "cell_type": "code",
   "execution_count": null,
   "metadata": {},
   "outputs": [],
   "source": [
    "from utils.file_utils import write_json\n",
    "list_missing_uniprot = no_3d_struct.run_name.to_dict()\n",
    "write_json(\"./data/main_dataset_creation/3D_structures/no_3d_struct_latchbio_ids.json\",\n",
    "           list_missing_uniprot)\n"
   ]
  }
 ],
 "metadata": {
  "kernelspec": {
   "display_name": "Python 3.8.10 64-bit",
   "language": "python",
   "name": "python3"
  },
  "language_info": {
   "codemirror_mode": {
    "name": "ipython",
    "version": 3
   },
   "file_extension": ".py",
   "mimetype": "text/x-python",
   "name": "python",
   "nbconvert_exporter": "python",
   "pygments_lexer": "ipython3",
   "version": "3.8.10"
  },
  "orig_nbformat": 4,
  "vscode": {
   "interpreter": {
    "hash": "916dbcbb3f70747c44a77c7bcd40155683ae19c65e1c03b4aa3499c5328201f1"
   }
  }
 },
 "nbformat": 4,
 "nbformat_minor": 2
}
