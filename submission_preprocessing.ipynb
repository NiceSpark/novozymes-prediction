{
 "cells": [
  {
   "cell_type": "code",
   "execution_count": 1,
   "metadata": {},
   "outputs": [],
   "source": [
    "import difflib\n",
    "import pandas as pd\n",
    "from ssbio.protein.structure.properties import freesasa\n",
    "\n",
    "from utils.features_biopython import add_structure_infos, add_protein_analysis, add_demask_predictions\n",
    "from utils.file_utils import open_json\n",
    "\n",
    "COMPUTE_MUTATION_CODE = True\n",
    "ADD_DEMASK_PREDICTIONS = True\n",
    "ADD_PROTEIN_ANALYSIS = True\n",
    "ADD_STRUCTURE_INFOS = True\n",
    "CLEAN_DF = False\n",
    "DROP_COLUMNS = False\n",
    "SAVE_NEW_CSV = True\n",
    "START_FRESH = True"
   ]
  },
  {
   "cell_type": "code",
   "execution_count": 2,
   "metadata": {},
   "outputs": [
    {
     "data": {
      "text/plain": [
       "True"
      ]
     },
     "execution_count": 2,
     "metadata": {},
     "output_type": "execute_result"
    }
   ],
   "source": [
    "# seq_id 32559 is the wildtype sequence (just the chain though)\n",
    "sequence_only_chain = \"VPVNPEPDATSVENVALKTGSGDSQSDPIKADLEVKGQSALPFDVDCWAILCKGAPNVLQRVNEKTKNSNRDRSGANKGPFKDPQKWGIKALPPKNPSWSAQDFKSPEEYAFASSLQGGTNAILAPVNLASQNSQGGVLNGFYSANKVAQFDPSKPQQTKGTWFQITKFTGAAGPYCKALGSNDKSVCDKNKNIAGDWGFDPAKWAYQYDEKNNKFNYVGK\"\n",
    "wildtype_sequence = \"MQLTKSLLVFALYMFGTQHVLAVPVNPEPDATSVENVALKTGSGDSQSDPIKADLEVKGQSALPFDVDCWAILCKGAPNVLQRVNEKTKNSNRDRSGANKGPFKDPQKWGIKALPPKNPSWSAQDFKSPEEYAFASSLQGGTNAILAPVNLASQNSQGGVLNGFYSANKVAQFDPSKPQQTKGTWFQITKFTGAAGPYCKALGSNDKSVCDKNKNIAGDWGFDPAKWAYQYDEKNNKFNYVGK\"\n",
    "chain_start = 22\n",
    "chain_end = 243\n",
    "wildtype_sequence[chain_start:chain_end]==sequence_only_chain"
   ]
  },
  {
   "cell_type": "code",
   "execution_count": 3,
   "metadata": {},
   "outputs": [
    {
     "data": {
      "text/html": [
       "<div>\n",
       "<style scoped>\n",
       "    .dataframe tbody tr th:only-of-type {\n",
       "        vertical-align: middle;\n",
       "    }\n",
       "\n",
       "    .dataframe tbody tr th {\n",
       "        vertical-align: top;\n",
       "    }\n",
       "\n",
       "    .dataframe thead th {\n",
       "        text-align: right;\n",
       "    }\n",
       "</style>\n",
       "<table border=\"1\" class=\"dataframe\">\n",
       "  <thead>\n",
       "    <tr style=\"text-align: right;\">\n",
       "      <th></th>\n",
       "      <th>seq_id</th>\n",
       "      <th>protein_sequence</th>\n",
       "      <th>pH</th>\n",
       "      <th>uniprot</th>\n",
       "      <th>PDB_wild</th>\n",
       "      <th>alphafold_path</th>\n",
       "      <th>dataset_source</th>\n",
       "      <th>sequence</th>\n",
       "      <th>chain_start</th>\n",
       "      <th>chain_end</th>\n",
       "      <th>mutated_chain</th>\n",
       "      <th>length</th>\n",
       "    </tr>\n",
       "  </thead>\n",
       "  <tbody>\n",
       "    <tr>\n",
       "      <th>0</th>\n",
       "      <td>31390</td>\n",
       "      <td>VPVNPEPDATSVENVAEKTGSGDSQSDPIKADLEVKGQSALPFDVD...</td>\n",
       "      <td>8</td>\n",
       "      <td>AF70</td>\n",
       "      <td>AF70</td>\n",
       "      <td>./data/main_dataset/3D_structures/alphafold/AF...</td>\n",
       "      <td>Novozymes</td>\n",
       "      <td>MQLTKSLLVFALYMFGTQHVLAVPVNPEPDATSVENVALKTGSGDS...</td>\n",
       "      <td>22</td>\n",
       "      <td>243</td>\n",
       "      <td>A</td>\n",
       "      <td>243</td>\n",
       "    </tr>\n",
       "    <tr>\n",
       "      <th>1</th>\n",
       "      <td>31391</td>\n",
       "      <td>VPVNPEPDATSVENVAKKTGSGDSQSDPIKADLEVKGQSALPFDVD...</td>\n",
       "      <td>8</td>\n",
       "      <td>AF70</td>\n",
       "      <td>AF70</td>\n",
       "      <td>./data/main_dataset/3D_structures/alphafold/AF...</td>\n",
       "      <td>Novozymes</td>\n",
       "      <td>MQLTKSLLVFALYMFGTQHVLAVPVNPEPDATSVENVALKTGSGDS...</td>\n",
       "      <td>22</td>\n",
       "      <td>243</td>\n",
       "      <td>A</td>\n",
       "      <td>243</td>\n",
       "    </tr>\n",
       "  </tbody>\n",
       "</table>\n",
       "</div>"
      ],
      "text/plain": [
       "   seq_id                                   protein_sequence  pH uniprot  \\\n",
       "0   31390  VPVNPEPDATSVENVAEKTGSGDSQSDPIKADLEVKGQSALPFDVD...   8    AF70   \n",
       "1   31391  VPVNPEPDATSVENVAKKTGSGDSQSDPIKADLEVKGQSALPFDVD...   8    AF70   \n",
       "\n",
       "  PDB_wild                                     alphafold_path dataset_source  \\\n",
       "0     AF70  ./data/main_dataset/3D_structures/alphafold/AF...      Novozymes   \n",
       "1     AF70  ./data/main_dataset/3D_structures/alphafold/AF...      Novozymes   \n",
       "\n",
       "                                            sequence  chain_start  chain_end  \\\n",
       "0  MQLTKSLLVFALYMFGTQHVLAVPVNPEPDATSVENVALKTGSGDS...           22        243   \n",
       "1  MQLTKSLLVFALYMFGTQHVLAVPVNPEPDATSVENVALKTGSGDS...           22        243   \n",
       "\n",
       "  mutated_chain  length  \n",
       "0             A     243  \n",
       "1             A     243  "
      ]
     },
     "execution_count": 3,
     "metadata": {},
     "output_type": "execute_result"
    }
   ],
   "source": [
    "if START_FRESH:\n",
    "    df = pd.read_csv(\"./data/Kaggle/test.csv\")\n",
    "    df[\"uniprot\"] = \"AF70\"\n",
    "    df[\"PDB_wild\"] = \"AF70\"\n",
    "    df[\"alphafold_path\"] = \"./data/main_dataset/3D_structures/alphafold/AF70.pdb\"\n",
    "    df[\"dataset_source\"] = \"Novozymes\"\n",
    "    df[\"sequence\"] = wildtype_sequence\n",
    "    df[\"chain_start\"] = 22\n",
    "    df[\"chain_end\"] = 243\n",
    "    df[\"mutated_chain\"] = \"A\"\n",
    "    df[\"length\"] = len(wildtype_sequence)\n",
    "    df.drop(columns=[\"data_source\"], inplace=True)\n",
    "else:\n",
    "    df = pd.read_csv(\"./data/processed_test.csv\")    \n",
    "df.head(2)"
   ]
  },
  {
   "cell_type": "code",
   "execution_count": 4,
   "metadata": {},
   "outputs": [
    {
     "name": "stdout",
     "output_type": "stream",
     "text": [
      "{'protein_sequence': 'VPVNPEPDATSVENVALKTGSGDSQSDPIKADLEVKGQSALPFDVDCWAILCKGAPNVLQRVNEKTKNSNRDRSGANKGPFKDPQKWGIKALPPKNPSWSAQDFKSPEEYAFASSLQGGTNAILAPVNLASQNSQGGVLNGFYSANKVAQFDPSKPQQTKGTWFQITKFTGAAGPYCKALGSNDKSVCDKNKNIAGDWGFDPAKWAYQYDEKNNKFNYVG', 'mutation_position': 242, 'wild_aa': 'K', 'mutated_aa': '-'}\n"
     ]
    }
   ],
   "source": [
    "protein_sequence = \"VPVNPEPDATSVENVALKTGSGDSQSDPIKADLEVKGQSALPFDVDCWAILCKGAPNVLQRVNEKTKNSNRDRSGANKGPFKDPQKWGIKALPPKNPSWSAQDFKSPEEYAFASSLQGGTNAILAPVNLASQNSQGGVLNGFYSANKVAQFDPSKPQQTKGTWFQITKFTGAAGPYCKALGSNDKSVCDKNKNIAGDWGFDPAKWAYQYDEKNNKFNYVG\"\n",
    "row = {\"protein_sequence\": protein_sequence}\n",
    "\n",
    "sequence = wildtype_sequence[:chain_start]+row[\"protein_sequence\"]\n",
    "\n",
    "if len(wildtype_sequence)==len(sequence):\n",
    "    for i, c in enumerate(wildtype_sequence):\n",
    "        if c != sequence[i]:\n",
    "            row[\"mutation_position\"] = i\n",
    "            row[\"wild_aa\"] = wildtype_sequence[i]\n",
    "            row[\"mutated_aa\"] = sequence[i]\n",
    "            break\n",
    "if len(wildtype_sequence) > len(sequence):\n",
    "    for i, c in enumerate(sequence):\n",
    "        if c != wildtype_sequence[i]:\n",
    "            row[\"mutation_position\"] = i\n",
    "            row[\"wild_aa\"] = wildtype_sequence[i]\n",
    "            row[\"mutated_aa\"] = \"-\"\n",
    "            break\n",
    "    else:\n",
    "        row[\"mutation_position\"] = i+1\n",
    "        row[\"wild_aa\"] = wildtype_sequence[i+1]\n",
    "        row[\"mutated_aa\"] = \"-\"\n",
    "\n",
    "if len(wildtype_sequence) < len(sequence):\n",
    "    print(f\"len wt < len s: this should not happen ! see {row['seq_id']}\")\n",
    "\n",
    "\n",
    "\n",
    "print(row)\n"
   ]
  },
  {
   "cell_type": "code",
   "execution_count": 5,
   "metadata": {},
   "outputs": [
    {
     "data": {
      "text/html": [
       "<div>\n",
       "<style scoped>\n",
       "    .dataframe tbody tr th:only-of-type {\n",
       "        vertical-align: middle;\n",
       "    }\n",
       "\n",
       "    .dataframe tbody tr th {\n",
       "        vertical-align: top;\n",
       "    }\n",
       "\n",
       "    .dataframe thead th {\n",
       "        text-align: right;\n",
       "    }\n",
       "</style>\n",
       "<table border=\"1\" class=\"dataframe\">\n",
       "  <thead>\n",
       "    <tr style=\"text-align: right;\">\n",
       "      <th></th>\n",
       "      <th>seq_id</th>\n",
       "      <th>protein_sequence</th>\n",
       "      <th>pH</th>\n",
       "      <th>uniprot</th>\n",
       "      <th>PDB_wild</th>\n",
       "      <th>alphafold_path</th>\n",
       "      <th>dataset_source</th>\n",
       "      <th>sequence</th>\n",
       "      <th>chain_start</th>\n",
       "      <th>chain_end</th>\n",
       "      <th>mutated_chain</th>\n",
       "      <th>length</th>\n",
       "      <th>wild_aa</th>\n",
       "      <th>mutated_aa</th>\n",
       "      <th>mutation_position</th>\n",
       "    </tr>\n",
       "  </thead>\n",
       "  <tbody>\n",
       "    <tr>\n",
       "      <th>0</th>\n",
       "      <td>31390</td>\n",
       "      <td>VPVNPEPDATSVENVAEKTGSGDSQSDPIKADLEVKGQSALPFDVD...</td>\n",
       "      <td>8</td>\n",
       "      <td>AF70</td>\n",
       "      <td>AF70</td>\n",
       "      <td>./data/main_dataset/3D_structures/alphafold/AF...</td>\n",
       "      <td>Novozymes</td>\n",
       "      <td>MQLTKSLLVFALYMFGTQHVLAVPVNPEPDATSVENVALKTGSGDS...</td>\n",
       "      <td>22</td>\n",
       "      <td>243</td>\n",
       "      <td>A</td>\n",
       "      <td>243</td>\n",
       "      <td>L</td>\n",
       "      <td>E</td>\n",
       "      <td>38</td>\n",
       "    </tr>\n",
       "    <tr>\n",
       "      <th>1</th>\n",
       "      <td>31391</td>\n",
       "      <td>VPVNPEPDATSVENVAKKTGSGDSQSDPIKADLEVKGQSALPFDVD...</td>\n",
       "      <td>8</td>\n",
       "      <td>AF70</td>\n",
       "      <td>AF70</td>\n",
       "      <td>./data/main_dataset/3D_structures/alphafold/AF...</td>\n",
       "      <td>Novozymes</td>\n",
       "      <td>MQLTKSLLVFALYMFGTQHVLAVPVNPEPDATSVENVALKTGSGDS...</td>\n",
       "      <td>22</td>\n",
       "      <td>243</td>\n",
       "      <td>A</td>\n",
       "      <td>243</td>\n",
       "      <td>L</td>\n",
       "      <td>K</td>\n",
       "      <td>38</td>\n",
       "    </tr>\n",
       "    <tr>\n",
       "      <th>2</th>\n",
       "      <td>31392</td>\n",
       "      <td>VPVNPEPDATSVENVAKTGSGDSQSDPIKADLEVKGQSALPFDVDC...</td>\n",
       "      <td>8</td>\n",
       "      <td>AF70</td>\n",
       "      <td>AF70</td>\n",
       "      <td>./data/main_dataset/3D_structures/alphafold/AF...</td>\n",
       "      <td>Novozymes</td>\n",
       "      <td>MQLTKSLLVFALYMFGTQHVLAVPVNPEPDATSVENVALKTGSGDS...</td>\n",
       "      <td>22</td>\n",
       "      <td>243</td>\n",
       "      <td>A</td>\n",
       "      <td>243</td>\n",
       "      <td>L</td>\n",
       "      <td>-</td>\n",
       "      <td>38</td>\n",
       "    </tr>\n",
       "    <tr>\n",
       "      <th>3</th>\n",
       "      <td>31393</td>\n",
       "      <td>VPVNPEPDATSVENVALCTGSGDSQSDPIKADLEVKGQSALPFDVD...</td>\n",
       "      <td>8</td>\n",
       "      <td>AF70</td>\n",
       "      <td>AF70</td>\n",
       "      <td>./data/main_dataset/3D_structures/alphafold/AF...</td>\n",
       "      <td>Novozymes</td>\n",
       "      <td>MQLTKSLLVFALYMFGTQHVLAVPVNPEPDATSVENVALKTGSGDS...</td>\n",
       "      <td>22</td>\n",
       "      <td>243</td>\n",
       "      <td>A</td>\n",
       "      <td>243</td>\n",
       "      <td>K</td>\n",
       "      <td>C</td>\n",
       "      <td>39</td>\n",
       "    </tr>\n",
       "    <tr>\n",
       "      <th>4</th>\n",
       "      <td>31394</td>\n",
       "      <td>VPVNPEPDATSVENVALFTGSGDSQSDPIKADLEVKGQSALPFDVD...</td>\n",
       "      <td>8</td>\n",
       "      <td>AF70</td>\n",
       "      <td>AF70</td>\n",
       "      <td>./data/main_dataset/3D_structures/alphafold/AF...</td>\n",
       "      <td>Novozymes</td>\n",
       "      <td>MQLTKSLLVFALYMFGTQHVLAVPVNPEPDATSVENVALKTGSGDS...</td>\n",
       "      <td>22</td>\n",
       "      <td>243</td>\n",
       "      <td>A</td>\n",
       "      <td>243</td>\n",
       "      <td>K</td>\n",
       "      <td>F</td>\n",
       "      <td>39</td>\n",
       "    </tr>\n",
       "    <tr>\n",
       "      <th>...</th>\n",
       "      <td>...</td>\n",
       "      <td>...</td>\n",
       "      <td>...</td>\n",
       "      <td>...</td>\n",
       "      <td>...</td>\n",
       "      <td>...</td>\n",
       "      <td>...</td>\n",
       "      <td>...</td>\n",
       "      <td>...</td>\n",
       "      <td>...</td>\n",
       "      <td>...</td>\n",
       "      <td>...</td>\n",
       "      <td>...</td>\n",
       "      <td>...</td>\n",
       "      <td>...</td>\n",
       "    </tr>\n",
       "    <tr>\n",
       "      <th>2408</th>\n",
       "      <td>33798</td>\n",
       "      <td>VPVNPEPDATSVENVILKTGSGDSQSDPIKADLEVKGQSALPFDVD...</td>\n",
       "      <td>8</td>\n",
       "      <td>AF70</td>\n",
       "      <td>AF70</td>\n",
       "      <td>./data/main_dataset/3D_structures/alphafold/AF...</td>\n",
       "      <td>Novozymes</td>\n",
       "      <td>MQLTKSLLVFALYMFGTQHVLAVPVNPEPDATSVENVALKTGSGDS...</td>\n",
       "      <td>22</td>\n",
       "      <td>243</td>\n",
       "      <td>A</td>\n",
       "      <td>243</td>\n",
       "      <td>A</td>\n",
       "      <td>I</td>\n",
       "      <td>37</td>\n",
       "    </tr>\n",
       "    <tr>\n",
       "      <th>2409</th>\n",
       "      <td>33799</td>\n",
       "      <td>VPVNPEPDATSVENVLLKTGSGDSQSDPIKADLEVKGQSALPFDVD...</td>\n",
       "      <td>8</td>\n",
       "      <td>AF70</td>\n",
       "      <td>AF70</td>\n",
       "      <td>./data/main_dataset/3D_structures/alphafold/AF...</td>\n",
       "      <td>Novozymes</td>\n",
       "      <td>MQLTKSLLVFALYMFGTQHVLAVPVNPEPDATSVENVALKTGSGDS...</td>\n",
       "      <td>22</td>\n",
       "      <td>243</td>\n",
       "      <td>A</td>\n",
       "      <td>243</td>\n",
       "      <td>A</td>\n",
       "      <td>L</td>\n",
       "      <td>37</td>\n",
       "    </tr>\n",
       "    <tr>\n",
       "      <th>2410</th>\n",
       "      <td>33800</td>\n",
       "      <td>VPVNPEPDATSVENVNLKTGSGDSQSDPIKADLEVKGQSALPFDVD...</td>\n",
       "      <td>8</td>\n",
       "      <td>AF70</td>\n",
       "      <td>AF70</td>\n",
       "      <td>./data/main_dataset/3D_structures/alphafold/AF...</td>\n",
       "      <td>Novozymes</td>\n",
       "      <td>MQLTKSLLVFALYMFGTQHVLAVPVNPEPDATSVENVALKTGSGDS...</td>\n",
       "      <td>22</td>\n",
       "      <td>243</td>\n",
       "      <td>A</td>\n",
       "      <td>243</td>\n",
       "      <td>A</td>\n",
       "      <td>N</td>\n",
       "      <td>37</td>\n",
       "    </tr>\n",
       "    <tr>\n",
       "      <th>2411</th>\n",
       "      <td>33801</td>\n",
       "      <td>VPVNPEPDATSVENVPLKTGSGDSQSDPIKADLEVKGQSALPFDVD...</td>\n",
       "      <td>8</td>\n",
       "      <td>AF70</td>\n",
       "      <td>AF70</td>\n",
       "      <td>./data/main_dataset/3D_structures/alphafold/AF...</td>\n",
       "      <td>Novozymes</td>\n",
       "      <td>MQLTKSLLVFALYMFGTQHVLAVPVNPEPDATSVENVALKTGSGDS...</td>\n",
       "      <td>22</td>\n",
       "      <td>243</td>\n",
       "      <td>A</td>\n",
       "      <td>243</td>\n",
       "      <td>A</td>\n",
       "      <td>P</td>\n",
       "      <td>37</td>\n",
       "    </tr>\n",
       "    <tr>\n",
       "      <th>2412</th>\n",
       "      <td>33802</td>\n",
       "      <td>VPVNPEPDATSVENVWLKTGSGDSQSDPIKADLEVKGQSALPFDVD...</td>\n",
       "      <td>8</td>\n",
       "      <td>AF70</td>\n",
       "      <td>AF70</td>\n",
       "      <td>./data/main_dataset/3D_structures/alphafold/AF...</td>\n",
       "      <td>Novozymes</td>\n",
       "      <td>MQLTKSLLVFALYMFGTQHVLAVPVNPEPDATSVENVALKTGSGDS...</td>\n",
       "      <td>22</td>\n",
       "      <td>243</td>\n",
       "      <td>A</td>\n",
       "      <td>243</td>\n",
       "      <td>A</td>\n",
       "      <td>W</td>\n",
       "      <td>37</td>\n",
       "    </tr>\n",
       "  </tbody>\n",
       "</table>\n",
       "<p>2413 rows × 15 columns</p>\n",
       "</div>"
      ],
      "text/plain": [
       "      seq_id                                   protein_sequence  pH uniprot  \\\n",
       "0      31390  VPVNPEPDATSVENVAEKTGSGDSQSDPIKADLEVKGQSALPFDVD...   8    AF70   \n",
       "1      31391  VPVNPEPDATSVENVAKKTGSGDSQSDPIKADLEVKGQSALPFDVD...   8    AF70   \n",
       "2      31392  VPVNPEPDATSVENVAKTGSGDSQSDPIKADLEVKGQSALPFDVDC...   8    AF70   \n",
       "3      31393  VPVNPEPDATSVENVALCTGSGDSQSDPIKADLEVKGQSALPFDVD...   8    AF70   \n",
       "4      31394  VPVNPEPDATSVENVALFTGSGDSQSDPIKADLEVKGQSALPFDVD...   8    AF70   \n",
       "...      ...                                                ...  ..     ...   \n",
       "2408   33798  VPVNPEPDATSVENVILKTGSGDSQSDPIKADLEVKGQSALPFDVD...   8    AF70   \n",
       "2409   33799  VPVNPEPDATSVENVLLKTGSGDSQSDPIKADLEVKGQSALPFDVD...   8    AF70   \n",
       "2410   33800  VPVNPEPDATSVENVNLKTGSGDSQSDPIKADLEVKGQSALPFDVD...   8    AF70   \n",
       "2411   33801  VPVNPEPDATSVENVPLKTGSGDSQSDPIKADLEVKGQSALPFDVD...   8    AF70   \n",
       "2412   33802  VPVNPEPDATSVENVWLKTGSGDSQSDPIKADLEVKGQSALPFDVD...   8    AF70   \n",
       "\n",
       "     PDB_wild                                     alphafold_path  \\\n",
       "0        AF70  ./data/main_dataset/3D_structures/alphafold/AF...   \n",
       "1        AF70  ./data/main_dataset/3D_structures/alphafold/AF...   \n",
       "2        AF70  ./data/main_dataset/3D_structures/alphafold/AF...   \n",
       "3        AF70  ./data/main_dataset/3D_structures/alphafold/AF...   \n",
       "4        AF70  ./data/main_dataset/3D_structures/alphafold/AF...   \n",
       "...       ...                                                ...   \n",
       "2408     AF70  ./data/main_dataset/3D_structures/alphafold/AF...   \n",
       "2409     AF70  ./data/main_dataset/3D_structures/alphafold/AF...   \n",
       "2410     AF70  ./data/main_dataset/3D_structures/alphafold/AF...   \n",
       "2411     AF70  ./data/main_dataset/3D_structures/alphafold/AF...   \n",
       "2412     AF70  ./data/main_dataset/3D_structures/alphafold/AF...   \n",
       "\n",
       "     dataset_source                                           sequence  \\\n",
       "0         Novozymes  MQLTKSLLVFALYMFGTQHVLAVPVNPEPDATSVENVALKTGSGDS...   \n",
       "1         Novozymes  MQLTKSLLVFALYMFGTQHVLAVPVNPEPDATSVENVALKTGSGDS...   \n",
       "2         Novozymes  MQLTKSLLVFALYMFGTQHVLAVPVNPEPDATSVENVALKTGSGDS...   \n",
       "3         Novozymes  MQLTKSLLVFALYMFGTQHVLAVPVNPEPDATSVENVALKTGSGDS...   \n",
       "4         Novozymes  MQLTKSLLVFALYMFGTQHVLAVPVNPEPDATSVENVALKTGSGDS...   \n",
       "...             ...                                                ...   \n",
       "2408      Novozymes  MQLTKSLLVFALYMFGTQHVLAVPVNPEPDATSVENVALKTGSGDS...   \n",
       "2409      Novozymes  MQLTKSLLVFALYMFGTQHVLAVPVNPEPDATSVENVALKTGSGDS...   \n",
       "2410      Novozymes  MQLTKSLLVFALYMFGTQHVLAVPVNPEPDATSVENVALKTGSGDS...   \n",
       "2411      Novozymes  MQLTKSLLVFALYMFGTQHVLAVPVNPEPDATSVENVALKTGSGDS...   \n",
       "2412      Novozymes  MQLTKSLLVFALYMFGTQHVLAVPVNPEPDATSVENVALKTGSGDS...   \n",
       "\n",
       "      chain_start  chain_end mutated_chain  length wild_aa mutated_aa  \\\n",
       "0              22        243             A     243       L          E   \n",
       "1              22        243             A     243       L          K   \n",
       "2              22        243             A     243       L          -   \n",
       "3              22        243             A     243       K          C   \n",
       "4              22        243             A     243       K          F   \n",
       "...           ...        ...           ...     ...     ...        ...   \n",
       "2408           22        243             A     243       A          I   \n",
       "2409           22        243             A     243       A          L   \n",
       "2410           22        243             A     243       A          N   \n",
       "2411           22        243             A     243       A          P   \n",
       "2412           22        243             A     243       A          W   \n",
       "\n",
       "      mutation_position  \n",
       "0                    38  \n",
       "1                    38  \n",
       "2                    38  \n",
       "3                    39  \n",
       "4                    39  \n",
       "...                 ...  \n",
       "2408                 37  \n",
       "2409                 37  \n",
       "2410                 37  \n",
       "2411                 37  \n",
       "2412                 37  \n",
       "\n",
       "[2413 rows x 15 columns]"
      ]
     },
     "execution_count": 5,
     "metadata": {},
     "output_type": "execute_result"
    }
   ],
   "source": [
    "if COMPUTE_MUTATION_CODE:\n",
    "    df[\"wild_aa\"] = \"\"\n",
    "    df[\"mutated_aa\"] = \"\"\n",
    "    df[\"mutation_position\"] = 0\n",
    "\n",
    "    def construct_mutation_code(row, wildtype_sequence):\n",
    "        # we use the fact that we know the mutations are all single mutations\n",
    "        # and that there are some deletions\n",
    "        sequence = wildtype_sequence[:chain_start]+row[\"protein_sequence\"]\n",
    "        if len(wildtype_sequence) == len(sequence):\n",
    "            for i, c in enumerate(wildtype_sequence):\n",
    "                if c != sequence[i]:\n",
    "                    row[\"mutation_position\"] = i\n",
    "                    row[\"wild_aa\"] = wildtype_sequence[i]\n",
    "                    row[\"mutated_aa\"] = sequence[i]\n",
    "                    break\n",
    "        if len(wildtype_sequence) > len(sequence):\n",
    "            for i, c in enumerate(sequence):\n",
    "                if c != wildtype_sequence[i]:\n",
    "                    row[\"mutation_position\"] = i\n",
    "                    row[\"wild_aa\"] = wildtype_sequence[i]\n",
    "                    row[\"mutated_aa\"] = \"-\"\n",
    "                    break\n",
    "            else:\n",
    "                row[\"mutation_position\"] = i+1\n",
    "                row[\"wild_aa\"] = wildtype_sequence[i+1]\n",
    "                row[\"mutated_aa\"] = \"-\"\n",
    "\n",
    "        if len(wildtype_sequence) < len(sequence):\n",
    "            print(f\"len wt < len s: this should not happen ! see {row['seq_id']}\")\n",
    "\n",
    "        return row\n",
    "\n",
    "    df = df.apply(lambda row: construct_mutation_code(\n",
    "        row, wildtype_sequence), axis=1)\n",
    "\n",
    "\n",
    "df"
   ]
  },
  {
   "cell_type": "code",
   "execution_count": 6,
   "metadata": {},
   "outputs": [
    {
     "name": "stderr",
     "output_type": "stream",
     "text": [
      "100%|██████████| 1/1 [00:17<00:00, 17.71s/it]\n"
     ]
    }
   ],
   "source": [
    "# add residue depth, sasa and c_alpha depth computed from alphafold pdb file => compute_sasa = True, compute_depth = True\n",
    "# add residue dssp infos (rsa etc.) => compute_dssp = True\n",
    "if ADD_STRUCTURE_INFOS:\n",
    "    df = add_structure_infos(df, compute_sasa=True,\n",
    "                             compute_depth=True, compute_dssp=True, compute_bfactor=True)\n",
    "    df.head(2)"
   ]
  },
  {
   "cell_type": "code",
   "execution_count": 7,
   "metadata": {},
   "outputs": [
    {
     "data": {
      "text/plain": [
       "True"
      ]
     },
     "execution_count": 7,
     "metadata": {},
     "output_type": "execute_result"
    }
   ],
   "source": [
    "\"seq_id\" in df.columns.to_list()\n"
   ]
  },
  {
   "cell_type": "code",
   "execution_count": 8,
   "metadata": {},
   "outputs": [
    {
     "data": {
      "text/plain": [
       "True"
      ]
     },
     "execution_count": 8,
     "metadata": {},
     "output_type": "execute_result"
    }
   ],
   "source": [
    "if ADD_PROTEIN_ANALYSIS:\n",
    "    df = add_protein_analysis(df)\n",
    "\n",
    "\"seq_id\" in df.columns.to_list()\n"
   ]
  },
  {
   "cell_type": "code",
   "execution_count": 9,
   "metadata": {},
   "outputs": [
    {
     "name": "stderr",
     "output_type": "stream",
     "text": [
      "  0%|          | 0/1 [00:00<?, ?it/s]"
     ]
    },
    {
     "name": "stdout",
     "output_type": "stream",
     "text": [
      "error: prediction contains more than one element\n",
      "row:  seq_id                                                            32559\n",
      "protein_sequence      VPVNPEPDATSVENVALKTGSGDSQSDPIKADLEVKGQSALPFDVD...\n",
      "pH                                                                    8\n",
      "uniprot                                                            AF70\n",
      "PDB_wild                                                           AF70\n",
      "                                            ...                        \n",
      "delta_charge_at_pH                                            -0.149344\n",
      "demask_score                                                        0.0\n",
      "demask_entropy                                                      0.0\n",
      "demask_log2f_var                                                    0.0\n",
      "demask_matrix                                                       0.0\n",
      "Name: 1169, Length: 62, dtype: object\n"
     ]
    },
    {
     "name": "stderr",
     "output_type": "stream",
     "text": [
      "100%|██████████| 1/1 [00:02<00:00,  2.44s/it]\n"
     ]
    },
    {
     "data": {
      "text/plain": [
       "True"
      ]
     },
     "execution_count": 9,
     "metadata": {},
     "output_type": "execute_result"
    }
   ],
   "source": [
    "if ADD_DEMASK_PREDICTIONS:\n",
    "    df = add_demask_predictions(df)\n",
    "\n",
    "\"seq_id\" in df.columns.to_list()\n"
   ]
  },
  {
   "cell_type": "code",
   "execution_count": 10,
   "metadata": {},
   "outputs": [
    {
     "data": {
      "text/plain": [
       "True"
      ]
     },
     "execution_count": 10,
     "metadata": {},
     "output_type": "execute_result"
    }
   ],
   "source": [
    "\"seq_id\" in df.columns.to_list()"
   ]
  },
  {
   "cell_type": "code",
   "execution_count": 11,
   "metadata": {},
   "outputs": [],
   "source": [
    "if SAVE_NEW_CSV or True:\n",
    "    if DROP_COLUMNS:\n",
    "        df.drop(columns=[\"mutation_code\", \"countByFeatureType\",\n",
    "                \"Tm\", \"AlphaFoldDB\", \"Texp\"], inplace=True)\n",
    "    \n",
    "    ordered_columns = open_json(\"./data/features.json\")\n",
    "    ordered_columns = sum([ordered_columns[k] for k in ordered_columns], [])\n",
    "    ordered_columns = ordered_columns[:-4]\n",
    "\n",
    "    for col in ordered_columns:\n",
    "        if col not in df.columns.to_list():\n",
    "            df[col] = \"\"\n",
    "\n",
    "    df = df[[\"seq_id\"]+ordered_columns]\n",
    "\n",
    "    df.to_csv(\"./data/processed_test.csv\", index=False)\n"
   ]
  },
  {
   "cell_type": "code",
   "execution_count": 15,
   "metadata": {},
   "outputs": [
    {
     "data": {
      "text/plain": [
       "0"
      ]
     },
     "execution_count": 15,
     "metadata": {},
     "output_type": "execute_result"
    }
   ],
   "source": [
    "features_columns = ordered_columns[4:]\n",
    "df[features_columns].isna().sum().sum()\n"
   ]
  },
  {
   "cell_type": "code",
   "execution_count": 13,
   "metadata": {},
   "outputs": [],
   "source": [
    "# # test #\n",
    "# from biopandas.pdb import PandasPdb\n",
    "\n",
    "# alphafold_path = \"./data/main_dataset/3D_structures/alphafold/P00509.pdb\"\n",
    "# pdb_df = PandasPdb().read_pdb(alphafold_path)\n",
    "# atom_df = pdb_df.df['ATOM']\n",
    "# b_factor = atom_df.groupby(\"residue_number\")[\n",
    "#     \"b_factor\"].apply(lambda x: x.median())\n",
    "# b_factor.to_list()"
   ]
  },
  {
   "cell_type": "code",
   "execution_count": 14,
   "metadata": {},
   "outputs": [],
   "source": [
    "# test\n",
    "# from Bio.PDB.PDBParser import PDBParser\n",
    "# from utils.features_biopython import get_dssp_data\n",
    "\n",
    "# alphafold_path = \"./data/main_dataset/3D_structures/alphafold/P00651.pdb\"\n",
    "# pdb_parser = PDBParser()\n",
    "# structure = pdb_parser.get_structure(\"\", alphafold_path)\n",
    "# dssp = get_dssp_data(alphafold_path, structure)\n",
    "# dssp\n"
   ]
  }
 ],
 "metadata": {
  "kernelspec": {
   "display_name": "Python 3.8.10 ('novozymes-prediction-Gl9CRTFV')",
   "language": "python",
   "name": "python3"
  },
  "language_info": {
   "codemirror_mode": {
    "name": "ipython",
    "version": 3
   },
   "file_extension": ".py",
   "mimetype": "text/x-python",
   "name": "python",
   "nbconvert_exporter": "python",
   "pygments_lexer": "ipython3",
   "version": "3.8.10"
  },
  "orig_nbformat": 4,
  "vscode": {
   "interpreter": {
    "hash": "27b13dc4add9efa918e6bb920c50afa2240557655d90455391ab57f21c65447b"
   }
  }
 },
 "nbformat": 4,
 "nbformat_minor": 2
}
