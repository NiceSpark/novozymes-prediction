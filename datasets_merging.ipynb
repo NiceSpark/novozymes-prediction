{
 "cells": [
  {
   "cell_type": "markdown",
   "metadata": {},
   "source": [
    "# Datasets Merging\n",
    "see [./data/sources.csv](./data/sources.csv) for the different sources where we were able to download each datasets\n",
    "\n",
    "Simply put there exist a few dataset containing information about the impact of mutations on protein stability.\n",
    "The main 3 big dataset that exist as of Oct. 2022 are:\n",
    "- FireProtDB\n",
    "- ThermoMutDB\n",
    "- ProThermDB\n",
    "\n",
    "Which all incorporates data from the same old DB (ProTherm) and additionnal data added by each DB devs.\n",
    "There exists also other datasets, that were cited in papers from the litterature.\n",
    "We can expect a lot of redundancies between each datasets.\n",
    "\n",
    "\n",
    "The goal of this Notebook is to compare the different datasets created in a [former notebook](./individual_datasets_creation.ipynb) and merge them all together."
   ]
  },
  {
   "cell_type": "code",
   "execution_count": 30,
   "metadata": {},
   "outputs": [],
   "source": [
    "import os\n",
    "import glob\n",
    "import pandas as pd\n",
    "import numpy as np\n",
    "\n",
    "COLUMNS = [\"PDB_wild\", \"mutated_chain\", \"mutation_code\", \"pH\", \"Texp\", \"Tm\", \"ddG\", \"dTm\"]\n",
    "\n",
    "Texp_range = [20+273.15, 30+273.15]\n",
    "# , \"mutation_sequence_code\", \n",
    "features_cols = [\"PDB_wild\", \"mutation_code\"]\n",
    "target_cols = [\"Tm\", \"ddG\", \"dTm\"]\n"
   ]
  },
  {
   "cell_type": "code",
   "execution_count": 31,
   "metadata": {},
   "outputs": [],
   "source": [
    "def convert_columns(df):\n",
    "    df = df.astype({\"PDB_wild\": object, \"mutated_chain\": object, \n",
    "                    \"mutation_code\": object,\n",
    "                    \"pH\": float, \"Tm\": float, \"ddG\": float, \n",
    "                    \"dTm\": float\n",
    "                    })\n",
    "    # \"mutation_sequence_code\": object, \"Texp\": float,\n",
    "    return df"
   ]
  },
  {
   "cell_type": "code",
   "execution_count": 32,
   "metadata": {},
   "outputs": [
    {
     "name": "stdout",
     "output_type": "stream",
     "text": [
      "9805\n"
     ]
    },
    {
     "data": {
      "text/html": [
       "<div>\n",
       "<style scoped>\n",
       "    .dataframe tbody tr th:only-of-type {\n",
       "        vertical-align: middle;\n",
       "    }\n",
       "\n",
       "    .dataframe tbody tr th {\n",
       "        vertical-align: top;\n",
       "    }\n",
       "\n",
       "    .dataframe thead th {\n",
       "        text-align: right;\n",
       "    }\n",
       "</style>\n",
       "<table border=\"1\" class=\"dataframe\">\n",
       "  <thead>\n",
       "    <tr style=\"text-align: right;\">\n",
       "      <th></th>\n",
       "      <th>PDB_wild</th>\n",
       "      <th>mutated_chain</th>\n",
       "      <th>mutation_code</th>\n",
       "      <th>pH</th>\n",
       "      <th>Tm</th>\n",
       "      <th>ddG</th>\n",
       "      <th>dTm</th>\n",
       "      <th>dataset_source</th>\n",
       "    </tr>\n",
       "  </thead>\n",
       "  <tbody>\n",
       "    <tr>\n",
       "      <th>0</th>\n",
       "      <td>1CQW</td>\n",
       "      <td>A</td>\n",
       "      <td>V245L</td>\n",
       "      <td>NaN</td>\n",
       "      <td>52.5</td>\n",
       "      <td>NaN</td>\n",
       "      <td>2.1</td>\n",
       "      <td>FireProtDB</td>\n",
       "    </tr>\n",
       "    <tr>\n",
       "      <th>1</th>\n",
       "      <td>1CQW</td>\n",
       "      <td>A</td>\n",
       "      <td>L95V</td>\n",
       "      <td>NaN</td>\n",
       "      <td>50.0</td>\n",
       "      <td>NaN</td>\n",
       "      <td>-0.4</td>\n",
       "      <td>FireProtDB</td>\n",
       "    </tr>\n",
       "    <tr>\n",
       "      <th>2</th>\n",
       "      <td>1CQW</td>\n",
       "      <td>A</td>\n",
       "      <td>C176F</td>\n",
       "      <td>NaN</td>\n",
       "      <td>55.6</td>\n",
       "      <td>NaN</td>\n",
       "      <td>5.2</td>\n",
       "      <td>FireProtDB</td>\n",
       "    </tr>\n",
       "    <tr>\n",
       "      <th>3</th>\n",
       "      <td>1CQW</td>\n",
       "      <td>A</td>\n",
       "      <td>G171Q</td>\n",
       "      <td>NaN</td>\n",
       "      <td>53.5</td>\n",
       "      <td>NaN</td>\n",
       "      <td>3.1</td>\n",
       "      <td>FireProtDB</td>\n",
       "    </tr>\n",
       "    <tr>\n",
       "      <th>4</th>\n",
       "      <td>1CQW</td>\n",
       "      <td>A</td>\n",
       "      <td>T148L</td>\n",
       "      <td>NaN</td>\n",
       "      <td>51.5</td>\n",
       "      <td>NaN</td>\n",
       "      <td>1.1</td>\n",
       "      <td>FireProtDB</td>\n",
       "    </tr>\n",
       "  </tbody>\n",
       "</table>\n",
       "</div>"
      ],
      "text/plain": [
       "  PDB_wild mutated_chain mutation_code  pH    Tm  ddG  dTm dataset_source\n",
       "0     1CQW             A         V245L NaN  52.5  NaN  2.1     FireProtDB\n",
       "1     1CQW             A          L95V NaN  50.0  NaN -0.4     FireProtDB\n",
       "2     1CQW             A         C176F NaN  55.6  NaN  5.2     FireProtDB\n",
       "3     1CQW             A         G171Q NaN  53.5  NaN  3.1     FireProtDB\n",
       "4     1CQW             A         T148L NaN  51.5  NaN  1.1     FireProtDB"
      ]
     },
     "execution_count": 32,
     "metadata": {},
     "output_type": "execute_result"
    }
   ],
   "source": [
    "# we will start with the fireprotdb datasets, which contains only data with either ddG or dTm\n",
    "main_df = pd.read_csv(\"./data/main_dataset/fireprotdb_ddg_dtm_curated.csv\")\n",
    "# for now we want to compare, so we only take the COLUMNS, \n",
    "# as they are the same accross all file from ./data/main_dataset\n",
    "\n",
    "main_df = main_df[COLUMNS]\n",
    "main_df = convert_columns(main_df)\n",
    "main_df[\"dataset_source\"] = \"FireProtDB\"\n",
    "\n",
    "# This main_df has redundancies ! But we choose to keep those, as they are all from a currated dataset.\n",
    "# We follow the hypothesis that the people at fireprotDB who manually curated the dataset know how to \n",
    "# do it better than we do.\n",
    "print(len(main_df))\n",
    "main_df.head()"
   ]
  },
  {
   "cell_type": "code",
   "execution_count": 33,
   "metadata": {},
   "outputs": [
    {
     "name": "stdout",
     "output_type": "stream",
     "text": [
      "o2567\n",
      "0/2567 rows drop from o2567 as redundancies with the main_df\n",
      "added 2567 from o2567\n",
      "prothermdb\n",
      "8/9524 rows drop from prothermdb as redundancies with the main_df\n",
      "added 9516 from prothermdb\n",
      "ssym\n",
      "4/704 rows drop from ssym as redundancies with the main_df\n",
      "added 700 from ssym\n",
      "thermomut\n",
      "341/13337 rows drop from thermomut as redundancies with the main_df\n",
      "added 12996 from thermomut\n",
      "jinyuan_sun\n",
      "0/4216 rows drop from jinyuan_sun as redundancies with the main_df\n",
      "added 4216 from jinyuan_sun\n",
      "deepddg\n",
      "0/5720 rows drop from deepddg as redundancies with the main_df\n",
      "added 5720 from deepddg\n",
      "kaggle\n",
      "28981/28981 rows drop from kaggle as redundancies with the main_df\n",
      "added 0 from kaggle\n"
     ]
    }
   ],
   "source": [
    "for path in glob.glob(\"./data/main_dataset/*.csv\"):\n",
    "    if \"fireprotdb_ddg_dtm\" in path or \"main.csv\" in path:\n",
    "        continue\n",
    "    dataset_src = path.split('/')[-1][:-4]\n",
    "    print(dataset_src)\n",
    "\n",
    "    df = pd.read_csv(path)\n",
    "    df = df[COLUMNS]\n",
    "    df = convert_columns(df)\n",
    "    l1, l2 = len(df), len(main_df)\n",
    "\n",
    "    # Drop rows where we don't have ddG or dTm\n",
    "    df = df[~(pd.isna(df.ddG) & pd.isna(df.dTm))]\n",
    "    # Drop rows that are already in main_df by merging and keeping only 'left' (df) values\n",
    "    unique_val_df = (pd.merge(df,main_df, indicator=True, how='left', on=COLUMNS)\n",
    "                        .query('_merge==\"left_only\"')\n",
    "                        .drop('_merge', axis=1))\n",
    "    # drops duplicated columns\n",
    "    unique_val_df = unique_val_df.loc[:,~unique_val_df.columns.duplicated()]\n",
    "    # adds the dataset source\n",
    "    unique_val_df[\"dataset_source\"] = dataset_src\n",
    "\n",
    "\n",
    "\n",
    "    print(f\"{l1-len(unique_val_df)}/{l1} rows drop from {dataset_src} as redundancies with the main_df\")\n",
    "    main_df = pd.concat([main_df, unique_val_df], ignore_index=True)\n",
    "    print(f\"added {len(main_df)-l2} from {dataset_src}\")"
   ]
  },
  {
   "cell_type": "code",
   "execution_count": 34,
   "metadata": {},
   "outputs": [
    {
     "name": "stdout",
     "output_type": "stream",
     "text": [
      "45520\n"
     ]
    }
   ],
   "source": [
    "main_df.to_csv(f\"./data/main_dataset/main.csv\", index=False)\n",
    "print(len(main_df))"
   ]
  }
 ],
 "metadata": {
  "kernelspec": {
   "display_name": "Python 3.8.10 ('novozymes-prediction-Gl9CRTFV')",
   "language": "python",
   "name": "python3"
  },
  "language_info": {
   "codemirror_mode": {
    "name": "ipython",
    "version": 3
   },
   "file_extension": ".py",
   "mimetype": "text/x-python",
   "name": "python",
   "nbconvert_exporter": "python",
   "pygments_lexer": "ipython3",
   "version": "3.8.10"
  },
  "orig_nbformat": 4,
  "vscode": {
   "interpreter": {
    "hash": "27b13dc4add9efa918e6bb920c50afa2240557655d90455391ab57f21c65447b"
   }
  }
 },
 "nbformat": 4,
 "nbformat_minor": 2
}
