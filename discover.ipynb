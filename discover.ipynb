{
 "cells": [
  {
   "cell_type": "code",
   "execution_count": 15,
   "metadata": {},
   "outputs": [],
   "source": [
    "import pandas as pd\n",
    "import matplotlib.pyplot as plt\n",
    "from scipy import stats"
   ]
  },
  {
   "cell_type": "code",
   "execution_count": 42,
   "metadata": {},
   "outputs": [],
   "source": [
    "MIN_SINGLE_MUTATIONS = 1 # (minimum_number+1) of single mutations per protein"
   ]
  },
  {
   "cell_type": "code",
   "execution_count": 36,
   "metadata": {},
   "outputs": [
    {
     "data": {
      "text/html": [
       "<div>\n",
       "<style scoped>\n",
       "    .dataframe tbody tr th:only-of-type {\n",
       "        vertical-align: middle;\n",
       "    }\n",
       "\n",
       "    .dataframe tbody tr th {\n",
       "        vertical-align: top;\n",
       "    }\n",
       "\n",
       "    .dataframe thead th {\n",
       "        text-align: right;\n",
       "    }\n",
       "</style>\n",
       "<table border=\"1\" class=\"dataframe\">\n",
       "  <thead>\n",
       "    <tr style=\"text-align: right;\">\n",
       "      <th></th>\n",
       "      <th>PDB_wild</th>\n",
       "      <th>uniprot</th>\n",
       "      <th>mutated_chain</th>\n",
       "      <th>mutation_code</th>\n",
       "      <th>pH</th>\n",
       "      <th>Texp</th>\n",
       "      <th>Tm</th>\n",
       "      <th>ddG</th>\n",
       "      <th>dTm</th>\n",
       "      <th>dataset_source</th>\n",
       "      <th>sequence</th>\n",
       "      <th>length</th>\n",
       "      <th>molWeight</th>\n",
       "      <th>countByFeatureType</th>\n",
       "      <th>chain_start</th>\n",
       "      <th>chain_end</th>\n",
       "      <th>AlphaFoldDB</th>\n",
       "    </tr>\n",
       "  </thead>\n",
       "  <tbody>\n",
       "    <tr>\n",
       "      <th>225</th>\n",
       "      <td>1EM7|2GB1|1PGA</td>\n",
       "      <td>P06654</td>\n",
       "      <td>A</td>\n",
       "      <td>M0A</td>\n",
       "      <td>6.5</td>\n",
       "      <td>NaN</td>\n",
       "      <td>NaN</td>\n",
       "      <td>-0.14</td>\n",
       "      <td>NaN</td>\n",
       "      <td>FireProtDB</td>\n",
       "      <td>MEKEKKVKYFLRKSAFGLASVSAAFLVGSTVFAVDSPIEDTPIIRN...</td>\n",
       "      <td>448.0</td>\n",
       "      <td>47567.0</td>\n",
       "      <td>{'Signal': 1, 'Chain': 1, 'Propeptide': 1, 'Re...</td>\n",
       "      <td>34.0</td>\n",
       "      <td>417.0</td>\n",
       "      <td>P06654</td>\n",
       "    </tr>\n",
       "    <tr>\n",
       "      <th>226</th>\n",
       "      <td>1EM7|2GB1|1PGA</td>\n",
       "      <td>P06654</td>\n",
       "      <td>A</td>\n",
       "      <td>M0D</td>\n",
       "      <td>6.5</td>\n",
       "      <td>NaN</td>\n",
       "      <td>NaN</td>\n",
       "      <td>-0.38</td>\n",
       "      <td>NaN</td>\n",
       "      <td>FireProtDB</td>\n",
       "      <td>MEKEKKVKYFLRKSAFGLASVSAAFLVGSTVFAVDSPIEDTPIIRN...</td>\n",
       "      <td>448.0</td>\n",
       "      <td>47567.0</td>\n",
       "      <td>{'Signal': 1, 'Chain': 1, 'Propeptide': 1, 'Re...</td>\n",
       "      <td>34.0</td>\n",
       "      <td>417.0</td>\n",
       "      <td>P06654</td>\n",
       "    </tr>\n",
       "    <tr>\n",
       "      <th>227</th>\n",
       "      <td>1EM7|2GB1|1PGA</td>\n",
       "      <td>P06654</td>\n",
       "      <td>A</td>\n",
       "      <td>M0E</td>\n",
       "      <td>6.5</td>\n",
       "      <td>NaN</td>\n",
       "      <td>NaN</td>\n",
       "      <td>-0.64</td>\n",
       "      <td>NaN</td>\n",
       "      <td>FireProtDB</td>\n",
       "      <td>MEKEKKVKYFLRKSAFGLASVSAAFLVGSTVFAVDSPIEDTPIIRN...</td>\n",
       "      <td>448.0</td>\n",
       "      <td>47567.0</td>\n",
       "      <td>{'Signal': 1, 'Chain': 1, 'Propeptide': 1, 'Re...</td>\n",
       "      <td>34.0</td>\n",
       "      <td>417.0</td>\n",
       "      <td>P06654</td>\n",
       "    </tr>\n",
       "    <tr>\n",
       "      <th>228</th>\n",
       "      <td>1EM7|2GB1|1PGA</td>\n",
       "      <td>P06654</td>\n",
       "      <td>A</td>\n",
       "      <td>M0F</td>\n",
       "      <td>6.5</td>\n",
       "      <td>NaN</td>\n",
       "      <td>NaN</td>\n",
       "      <td>-1.14</td>\n",
       "      <td>NaN</td>\n",
       "      <td>FireProtDB</td>\n",
       "      <td>MEKEKKVKYFLRKSAFGLASVSAAFLVGSTVFAVDSPIEDTPIIRN...</td>\n",
       "      <td>448.0</td>\n",
       "      <td>47567.0</td>\n",
       "      <td>{'Signal': 1, 'Chain': 1, 'Propeptide': 1, 'Re...</td>\n",
       "      <td>34.0</td>\n",
       "      <td>417.0</td>\n",
       "      <td>P06654</td>\n",
       "    </tr>\n",
       "    <tr>\n",
       "      <th>229</th>\n",
       "      <td>1EM7|2GB1|1PGA</td>\n",
       "      <td>P06654</td>\n",
       "      <td>A</td>\n",
       "      <td>M0G</td>\n",
       "      <td>6.5</td>\n",
       "      <td>NaN</td>\n",
       "      <td>NaN</td>\n",
       "      <td>-0.30</td>\n",
       "      <td>NaN</td>\n",
       "      <td>FireProtDB</td>\n",
       "      <td>MEKEKKVKYFLRKSAFGLASVSAAFLVGSTVFAVDSPIEDTPIIRN...</td>\n",
       "      <td>448.0</td>\n",
       "      <td>47567.0</td>\n",
       "      <td>{'Signal': 1, 'Chain': 1, 'Propeptide': 1, 'Re...</td>\n",
       "      <td>34.0</td>\n",
       "      <td>417.0</td>\n",
       "      <td>P06654</td>\n",
       "    </tr>\n",
       "  </tbody>\n",
       "</table>\n",
       "</div>"
      ],
      "text/plain": [
       "           PDB_wild uniprot mutated_chain mutation_code   pH  Texp  Tm   ddG  \\\n",
       "225  1EM7|2GB1|1PGA  P06654             A           M0A  6.5   NaN NaN -0.14   \n",
       "226  1EM7|2GB1|1PGA  P06654             A           M0D  6.5   NaN NaN -0.38   \n",
       "227  1EM7|2GB1|1PGA  P06654             A           M0E  6.5   NaN NaN -0.64   \n",
       "228  1EM7|2GB1|1PGA  P06654             A           M0F  6.5   NaN NaN -1.14   \n",
       "229  1EM7|2GB1|1PGA  P06654             A           M0G  6.5   NaN NaN -0.30   \n",
       "\n",
       "     dTm dataset_source                                           sequence  \\\n",
       "225  NaN     FireProtDB  MEKEKKVKYFLRKSAFGLASVSAAFLVGSTVFAVDSPIEDTPIIRN...   \n",
       "226  NaN     FireProtDB  MEKEKKVKYFLRKSAFGLASVSAAFLVGSTVFAVDSPIEDTPIIRN...   \n",
       "227  NaN     FireProtDB  MEKEKKVKYFLRKSAFGLASVSAAFLVGSTVFAVDSPIEDTPIIRN...   \n",
       "228  NaN     FireProtDB  MEKEKKVKYFLRKSAFGLASVSAAFLVGSTVFAVDSPIEDTPIIRN...   \n",
       "229  NaN     FireProtDB  MEKEKKVKYFLRKSAFGLASVSAAFLVGSTVFAVDSPIEDTPIIRN...   \n",
       "\n",
       "     length  molWeight                                 countByFeatureType  \\\n",
       "225   448.0    47567.0  {'Signal': 1, 'Chain': 1, 'Propeptide': 1, 'Re...   \n",
       "226   448.0    47567.0  {'Signal': 1, 'Chain': 1, 'Propeptide': 1, 'Re...   \n",
       "227   448.0    47567.0  {'Signal': 1, 'Chain': 1, 'Propeptide': 1, 'Re...   \n",
       "228   448.0    47567.0  {'Signal': 1, 'Chain': 1, 'Propeptide': 1, 'Re...   \n",
       "229   448.0    47567.0  {'Signal': 1, 'Chain': 1, 'Propeptide': 1, 'Re...   \n",
       "\n",
       "     chain_start  chain_end AlphaFoldDB  \n",
       "225         34.0      417.0      P06654  \n",
       "226         34.0      417.0      P06654  \n",
       "227         34.0      417.0      P06654  \n",
       "228         34.0      417.0      P06654  \n",
       "229         34.0      417.0      P06654  "
      ]
     },
     "execution_count": 36,
     "metadata": {},
     "output_type": "execute_result"
    }
   ],
   "source": [
    "main_df = pd.read_csv(\"data/main_dataset/main.csv\")\n",
    "# keep only the one with a ddG for now\n",
    "main_df = main_df[~pd.isna(main_df.ddG)]\n",
    "\n",
    "main_df.head()"
   ]
  },
  {
   "cell_type": "code",
   "execution_count": 37,
   "metadata": {},
   "outputs": [
    {
     "name": "stdout",
     "output_type": "stream",
     "text": [
      "min_prot_len=36 max_prot_len=34350\n",
      "min_pH=1.2 max_pH=11.0\n"
     ]
    },
    {
     "data": {
      "text/plain": [
       "<AxesSubplot: >"
      ]
     },
     "execution_count": 37,
     "metadata": {},
     "output_type": "execute_result"
    },
    {
     "data": {
      "image/png": "[encoded data removed]",
      "text/plain": [
       "<Figure size 1000x500 with 2 Axes>"
      ]
     },
     "metadata": {},
     "output_type": "display_data"
    }
   ],
   "source": [
    "f, axs = plt.subplots(1, 2, figsize=(10,5))\n",
    "\n",
    "prot_len = main_df.sequence.agg(len)\n",
    "min_prot_len, max_prot_len = min(prot_len), max(prot_len)\n",
    "print(f\"{min_prot_len=} {max_prot_len=}\")\n",
    "prot_len.hist(bins=range(min_prot_len, max_prot_len, 100), ax=axs[0])\n",
    "\n",
    "min_pH, max_pH = min(main_df.pH), max(main_df.pH)\n",
    "print(f\"{min_pH=} {max_pH=}\")\n",
    "main_df.pH.hist(bins=range(0, 13, 1), ax=axs[1])\n"
   ]
  },
  {
   "cell_type": "code",
   "execution_count": 44,
   "metadata": {},
   "outputs": [
    {
     "name": "stdout",
     "output_type": "stream",
     "text": [
      "got 216 distinct proteins with more than 1 single mutations\n",
      "max single mutations: 1190 for 1190, uniprot_ids.min()=2, uniprot_ids.mean()=26.37962962962963, uniprot_ids.std()=97.0844961725171 \n"
     ]
    }
   ],
   "source": [
    "uniprot_ids = main_df.uniprot.value_counts()\n",
    "uniprot_ids = uniprot_ids[uniprot_ids.gt(MIN_SINGLE_MUTATIONS)]\n",
    "print(f\"got {len(uniprot_ids)} distinct proteins with more than {MIN_SINGLE_MUTATIONS} single mutations\")\n",
    "print(f\"max single mutations: {uniprot_ids.max()} for {uniprot_ids[uniprot_ids.argmax()]}, {uniprot_ids.min()=}, {uniprot_ids.mean()=}, {uniprot_ids.std()=} \")"
   ]
  },
  {
   "cell_type": "code",
   "execution_count": 46,
   "metadata": {},
   "outputs": [
    {
     "name": "stdout",
     "output_type": "stream",
     "text": [
      "PDB_wild 31\n",
      "uniprot 0\n",
      "mutated_chain 0\n",
      "mutation_code 0\n",
      "pH 12\n",
      "Texp 3536\n",
      "Tm 5709\n",
      "ddG 0\n",
      "dTm 5232\n",
      "dataset_source 0\n",
      "sequence 0\n",
      "length 0\n",
      "molWeight 0\n",
      "countByFeatureType 0\n",
      "chain_start 0\n",
      "chain_end 0\n",
      "AlphaFoldDB 322\n"
     ]
    }
   ],
   "source": [
    "for col in main_df.columns.to_list():\n",
    "    print(col, main_df[col].isna().sum())"
   ]
  }
 ],
 "metadata": {
  "kernelspec": {
   "display_name": "Python 3.8.10 ('novozymes-prediction-Gl9CRTFV')",
   "language": "python",
   "name": "python3"
  },
  "language_info": {
   "codemirror_mode": {
    "name": "ipython",
    "version": 3
   },
   "file_extension": ".py",
   "mimetype": "text/x-python",
   "name": "python",
   "nbconvert_exporter": "python",
   "pygments_lexer": "ipython3",
   "version": "3.8.10"
  },
  "orig_nbformat": 4,
  "vscode": {
   "interpreter": {
    "hash": "27b13dc4add9efa918e6bb920c50afa2240557655d90455391ab57f21c65447b"
   }
  }
 },
 "nbformat": 4,
 "nbformat_minor": 2
}
