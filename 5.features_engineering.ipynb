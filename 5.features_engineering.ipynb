{
 "cells": [
  {
   "cell_type": "markdown",
   "metadata": {},
   "source": [
    "This notebook is to test the different feature computation, as it can take a lot of time to compute a multiprocessing script is also available\n",
    "However for the esm features (using cuda) we cannot do multiprocessing (don't have multiple GPUs yet ;D), so we can do it in this NB, just make sure to change the DATASET_OUTPUT_PATH"
   ]
  },
  {
   "cell_type": "code",
   "execution_count": 1,
   "metadata": {},
   "outputs": [
    {
     "name": "stderr",
     "output_type": "stream",
     "text": [
      "/home/ml/.local/lib/python3.8/site-packages/blosum/_blosum.py:111: UserWarning: Blosum matrix may not cover all amino-acids\n",
      "  warn(UserWarning(\"Blosum matrix may not cover all amino-acids\"))\n"
     ]
    }
   ],
   "source": [
    "import pandas as pd\n",
    "\n",
    "from utils.features_biopython import add_structure_infos, add_protein_analysis\n",
    "from utils.demask_features import add_demask_predictions\n",
    "from utils.file_utils import open_json\n",
    "from utils.infos_translation import aa_char2int\n",
    "from utils.esm_features import add_esm_features\n",
    "from utils.rosetta_features import add_rosetta_scores\n",
    "\n",
    "ADD_STRUCTURE_INFOS = False\n",
    "ADD_ROSETTA_SCORES = True\n",
    "ADD_DEMASK_PREDICTIONS = False\n",
    "ADD_PROTEIN_ANALYSIS = False\n",
    "ADD_ESM_FEATURES = True\n",
    "ONLY_DDG = False\n",
    "SAVE_NEW_CSV = True\n",
    "CONVERT_MUTATION_TO_INT = False\n",
    "CLEAN_DF = True\n",
    "START_FRESH = True\n",
    "\n",
    "NAME = \"merged\"\n",
    "DATASET_DIR = f\"./data/main_dataset_creation/outputs/{NAME}/\"\n",
    "DATASET_INPUT_PATH = DATASET_DIR+\"dataset_with_voxel.csv\"\n",
    "DATASET_OUTPUT_PATH = DATASET_DIR+\"dataset_with_esm_rosetta.csv\"\n"
   ]
  },
  {
   "cell_type": "code",
   "execution_count": 2,
   "metadata": {},
   "outputs": [],
   "source": [
    "if START_FRESH:\n",
    "    df = pd.read_csv(DATASET_INPUT_PATH)\n",
    "else:\n",
    "    df = pd.read_csv(DATASET_OUTPUT_PATH)\n",
    "\n",
    "# df.head(2)"
   ]
  },
  {
   "cell_type": "code",
   "execution_count": 3,
   "metadata": {},
   "outputs": [
    {
     "name": "stdout",
     "output_type": "stream",
     "text": [
      "10583\n",
      "10583\n"
     ]
    }
   ],
   "source": [
    "if CLEAN_DF:\n",
    "    print(len(df))\n",
    "    if ONLY_DDG:\n",
    "        # we drop rows without ddG\n",
    "        df = df[~(df.ddG.isna())]\n",
    "    # we drop rows without essential values\n",
    "    for k in [\"wild_aa\", \"mutation_position\", \"mutated_aa\", \"sequence\", \"alphafold_path\", \"relaxed_wild_3D_path\", \"relaxed_mutated_3D_path\"]:\n",
    "        df = df[~(df[k].isna())]\n",
    "    print(len(df))\n",
    "    # print(df.isna().sum().to_dict())\n",
    "\n",
    "# df"
   ]
  },
  {
   "cell_type": "code",
   "execution_count": 4,
   "metadata": {},
   "outputs": [],
   "source": [
    "if CONVERT_MUTATION_TO_INT:\n",
    "    df[\"wild_aa_int\"] = df[\"wild_aa\"].apply(lambda x: aa_char2int[x])\n",
    "    df[\"mutated_aa_int\"] = df[\"mutated_aa\"].apply(lambda x: aa_char2int[x])\n"
   ]
  },
  {
   "cell_type": "code",
   "execution_count": 5,
   "metadata": {},
   "outputs": [],
   "source": [
    "if ADD_ROSETTA_SCORES:\n",
    "    df = add_rosetta_scores(df)"
   ]
  },
  {
   "cell_type": "code",
   "execution_count": 6,
   "metadata": {},
   "outputs": [],
   "source": [
    "# add residue depth, sasa and c_alpha depth computed from alphafold pdb file => compute_sasa = True, compute_depth = True\n",
    "# add residue dssp infos (rsa etc.) => compute_dssp = True\n",
    "if ADD_STRUCTURE_INFOS:\n",
    "    df = add_structure_infos(df, compute_sasa=True,\n",
    "                             compute_depth=True, compute_dssp=True, compute_bfactor=True)\n",
    "\n",
    "#sasa 2 s/it\n",
    "#depth 20+ s/it\n",
    "#dssp 1.15 it/s\n",
    "#bfactor 1.3 it/s\n",
    "#all 22.5s/it"
   ]
  },
  {
   "cell_type": "code",
   "execution_count": 7,
   "metadata": {},
   "outputs": [],
   "source": [
    "if ADD_PROTEIN_ANALYSIS:\n",
    "    df = add_protein_analysis(df)\n"
   ]
  },
  {
   "cell_type": "code",
   "execution_count": 8,
   "metadata": {},
   "outputs": [],
   "source": [
    "if ADD_DEMASK_PREDICTIONS:\n",
    "    df = add_demask_predictions(df)\n",
    "    "
   ]
  },
  {
   "cell_type": "code",
   "execution_count": 9,
   "metadata": {},
   "outputs": [
    {
     "name": "stdout",
     "output_type": "stream",
     "text": [
      "loaded model\n",
      "cuda\n",
      "Extracting embeddings from proteins...\n"
     ]
    },
    {
     "name": "stderr",
     "output_type": "stream",
     "text": [
      "432it [01:45,  4.10it/s]\n"
     ]
    },
    {
     "name": "stdout",
     "output_type": "stream",
     "text": [
      "cuda\n"
     ]
    }
   ],
   "source": [
    "if ADD_ESM_FEATURES:\n",
    "    df = add_esm_features(df, use_saved_embeddings=False, only_ddg=ONLY_DDG)"
   ]
  },
  {
   "cell_type": "code",
   "execution_count": 10,
   "metadata": {},
   "outputs": [
    {
     "name": "stdout",
     "output_type": "stream",
     "text": [
      "{'AlphaFoldDB': 1499, 'Tm': 6976, 'alphafold_decoy': 10583, 'alphafold_dslf_fa13': 0, 'alphafold_fa_atr': 0, 'alphafold_fa_dun': 0, 'alphafold_fa_elec': 0, 'alphafold_fa_intra_rep': 0, 'alphafold_fa_intra_sol_xover4': 0, 'alphafold_fa_rep': 0, 'alphafold_fa_sol': 0, 'alphafold_hbond_bb_sc': 0, 'alphafold_hbond_lr_bb': 0, 'alphafold_hbond_sc': 0, 'alphafold_hbond_sr_bb': 0, 'alphafold_linear_chainbreak': 0, 'alphafold_lk_ball_wtd': 0, 'alphafold_omega': 0, 'alphafold_overlap_chainbreak': 0, 'alphafold_p_aa_pp': 0, 'alphafold_path': 0, 'alphafold_pro_close': 0, 'alphafold_rama_prepro': 0, 'alphafold_ref': 0, 'alphafold_total_score': 0, 'alphafold_yhh_planarity': 0, 'chain_end': 0, 'chain_start': 0, 'dTm': 5812, 'dataset_source': 0, 'ddG': 2136, 'direct_voxel_path': 0, 'esm_mutation_entropy': 37, 'esm_mutation_probability': 37, 'esm_pca_local_0': 37, 'esm_pca_local_1': 37, 'esm_pca_local_10': 37, 'esm_pca_local_11': 37, 'esm_pca_local_12': 37, 'esm_pca_local_13': 37, 'esm_pca_local_14': 37, 'esm_pca_local_15': 37, 'esm_pca_local_2': 37, 'esm_pca_local_3': 37, 'esm_pca_local_4': 37, 'esm_pca_local_5': 37, 'esm_pca_local_6': 37, 'esm_pca_local_7': 37, 'esm_pca_local_8': 37, 'esm_pca_local_9': 37, 'esm_pca_mutant_0': 37, 'esm_pca_mutant_1': 37, 'esm_pca_mutant_10': 37, 'esm_pca_mutant_11': 37, 'esm_pca_mutant_12': 37, 'esm_pca_mutant_13': 37, 'esm_pca_mutant_14': 37, 'esm_pca_mutant_15': 37, 'esm_pca_mutant_2': 37, 'esm_pca_mutant_3': 37, 'esm_pca_mutant_4': 37, 'esm_pca_mutant_5': 37, 'esm_pca_mutant_6': 37, 'esm_pca_mutant_7': 37, 'esm_pca_mutant_8': 37, 'esm_pca_mutant_9': 37, 'esm_pca_pool_0': 37, 'esm_pca_pool_1': 37, 'esm_pca_pool_10': 37, 'esm_pca_pool_11': 37, 'esm_pca_pool_12': 37, 'esm_pca_pool_13': 37, 'esm_pca_pool_14': 37, 'esm_pca_pool_15': 37, 'esm_pca_pool_16': 37, 'esm_pca_pool_17': 37, 'esm_pca_pool_18': 37, 'esm_pca_pool_19': 37, 'esm_pca_pool_2': 37, 'esm_pca_pool_20': 37, 'esm_pca_pool_21': 37, 'esm_pca_pool_22': 37, 'esm_pca_pool_23': 37, 'esm_pca_pool_24': 37, 'esm_pca_pool_25': 37, 'esm_pca_pool_26': 37, 'esm_pca_pool_27': 37, 'esm_pca_pool_28': 37, 'esm_pca_pool_29': 37, 'esm_pca_pool_3': 37, 'esm_pca_pool_30': 37, 'esm_pca_pool_31': 37, 'esm_pca_pool_4': 37, 'esm_pca_pool_5': 37, 'esm_pca_pool_6': 37, 'esm_pca_pool_7': 37, 'esm_pca_pool_8': 37, 'esm_pca_pool_9': 37, 'esm_pca_wild_0': 37, 'esm_pca_wild_1': 37, 'esm_pca_wild_10': 37, 'esm_pca_wild_11': 37, 'esm_pca_wild_12': 37, 'esm_pca_wild_13': 37, 'esm_pca_wild_14': 37, 'esm_pca_wild_15': 37, 'esm_pca_wild_2': 37, 'esm_pca_wild_3': 37, 'esm_pca_wild_4': 37, 'esm_pca_wild_5': 37, 'esm_pca_wild_6': 37, 'esm_pca_wild_7': 37, 'esm_pca_wild_8': 37, 'esm_pca_wild_9': 37, 'infos_found': 0, 'length': 0, 'mutated_aa': 0, 'mutated_chain': 0, 'mutated_relaxed_decoy': 10583, 'mutated_relaxed_dslf_fa13': 0, 'mutated_relaxed_fa_atr': 0, 'mutated_relaxed_fa_dun': 0, 'mutated_relaxed_fa_elec': 0, 'mutated_relaxed_fa_intra_rep': 0, 'mutated_relaxed_fa_intra_sol_xover4': 0, 'mutated_relaxed_fa_rep': 0, 'mutated_relaxed_fa_sol': 0, 'mutated_relaxed_hbond_bb_sc': 0, 'mutated_relaxed_hbond_lr_bb': 0, 'mutated_relaxed_hbond_sc': 0, 'mutated_relaxed_hbond_sr_bb': 0, 'mutated_relaxed_linear_chainbreak': 0, 'mutated_relaxed_lk_ball_wtd': 0, 'mutated_relaxed_omega': 0, 'mutated_relaxed_overlap_chainbreak': 0, 'mutated_relaxed_p_aa_pp': 0, 'mutated_relaxed_pro_close': 0, 'mutated_relaxed_rama_prepro': 0, 'mutated_relaxed_ref': 0, 'mutated_relaxed_total_score': 0, 'mutated_relaxed_yhh_planarity': 0, 'mutation_decoy': 10583, 'mutation_dslf_fa13': 0, 'mutation_fa_atr': 0, 'mutation_fa_dun': 0, 'mutation_fa_elec': 0, 'mutation_fa_intra_rep': 0, 'mutation_fa_intra_sol_xover4': 0, 'mutation_fa_rep': 0, 'mutation_fa_sol': 0, 'mutation_hbond_bb_sc': 0, 'mutation_hbond_lr_bb': 0, 'mutation_hbond_sc': 0, 'mutation_hbond_sr_bb': 0, 'mutation_linear_chainbreak': 0, 'mutation_lk_ball_wtd': 0, 'mutation_omega': 0, 'mutation_overlap_chainbreak': 0, 'mutation_p_aa_pp': 0, 'mutation_position': 0, 'mutation_pro_close': 0, 'mutation_rama_prepro': 0, 'mutation_ref': 0, 'mutation_total_score': 0, 'mutation_yhh_planarity': 0, 'pH': 0, 'relaxed_mutated_3D_path': 0, 'relaxed_wild_3D_path': 0, 'reversed_voxel_path': 0, 'sequence': 0, 'uniprot': 0, 'wild_aa': 0, 'wild_relaxed_decoy': 10583, 'wild_relaxed_dslf_fa13': 0, 'wild_relaxed_fa_atr': 0, 'wild_relaxed_fa_dun': 0, 'wild_relaxed_fa_elec': 0, 'wild_relaxed_fa_intra_rep': 0, 'wild_relaxed_fa_intra_sol_xover4': 0, 'wild_relaxed_fa_rep': 0, 'wild_relaxed_fa_sol': 0, 'wild_relaxed_hbond_bb_sc': 0, 'wild_relaxed_hbond_lr_bb': 0, 'wild_relaxed_hbond_sc': 0, 'wild_relaxed_hbond_sr_bb': 0, 'wild_relaxed_linear_chainbreak': 0, 'wild_relaxed_lk_ball_wtd': 0, 'wild_relaxed_omega': 0, 'wild_relaxed_overlap_chainbreak': 0, 'wild_relaxed_p_aa_pp': 0, 'wild_relaxed_pro_close': 0, 'wild_relaxed_rama_prepro': 0, 'wild_relaxed_ref': 0, 'wild_relaxed_total_score': 0, 'wild_relaxed_yhh_planarity': 0}\n",
      "AlphaFoldDB                    1499\n",
      "Tm                             6976\n",
      "alphafold_decoy               10583\n",
      "alphafold_dslf_fa13               0\n",
      "alphafold_fa_atr                  0\n",
      "                              ...  \n",
      "wild_relaxed_pro_close            0\n",
      "wild_relaxed_rama_prepro          0\n",
      "wild_relaxed_ref                  0\n",
      "wild_relaxed_total_score          0\n",
      "wild_relaxed_yhh_planarity        0\n",
      "Length: 195, dtype: int64\n",
      "  AlphaFoldDB  Tm  alphafold_decoy  alphafold_dslf_fa13  alphafold_fa_atr  \\\n",
      "0      P06654 NaN              NaN                  0.0      -1652.457163   \n",
      "1      P06654 NaN              NaN                  0.0      -1652.457163   \n",
      "2      P06654 NaN              NaN                  0.0      -1652.457163   \n",
      "3      P06654 NaN              NaN                  0.0      -1652.457163   \n",
      "4      P06654 NaN              NaN                  0.0      -1652.457163   \n",
      "\n",
      "   alphafold_fa_dun  alphafold_fa_elec  alphafold_fa_intra_rep  \\\n",
      "0       1123.616974        -534.165851                3.162028   \n",
      "1       1123.616974        -534.165851                3.162028   \n",
      "2       1123.616974        -534.165851                3.162028   \n",
      "3       1123.616974        -534.165851                3.162028   \n",
      "4       1123.616974        -534.165851                3.162028   \n",
      "\n",
      "   alphafold_fa_intra_sol_xover4  alphafold_fa_rep  ...  \\\n",
      "0                       63.50284        165.740813  ...   \n",
      "1                       63.50284        165.740813  ...   \n",
      "2                       63.50284        165.740813  ...   \n",
      "3                       63.50284        165.740813  ...   \n",
      "4                       63.50284        165.740813  ...   \n",
      "\n",
      "   wild_relaxed_linear_chainbreak  wild_relaxed_lk_ball_wtd  \\\n",
      "0                             0.0                -55.934314   \n",
      "1                             0.0                -55.934314   \n",
      "2                             0.0                -55.934314   \n",
      "3                             0.0                -55.934314   \n",
      "4                             0.0                -55.934314   \n",
      "\n",
      "   wild_relaxed_omega  wild_relaxed_overlap_chainbreak  wild_relaxed_p_aa_pp  \\\n",
      "0           95.743523                              0.0            -49.095641   \n",
      "1           95.743523                              0.0            -49.095641   \n",
      "2           95.743523                              0.0            -49.095641   \n",
      "3           95.743523                              0.0            -49.095641   \n",
      "4           95.743523                              0.0            -49.095641   \n",
      "\n",
      "   wild_relaxed_pro_close  wild_relaxed_rama_prepro  wild_relaxed_ref  \\\n",
      "0                1.002299                 53.845576          92.06191   \n",
      "1                1.002299                 53.845576          92.06191   \n",
      "2                1.002299                 53.845576          92.06191   \n",
      "3                1.002299                 53.845576          92.06191   \n",
      "4                1.002299                 53.845576          92.06191   \n",
      "\n",
      "   wild_relaxed_total_score  wild_relaxed_yhh_planarity  \n",
      "0               -644.466818                    0.220965  \n",
      "1               -644.466818                    0.220965  \n",
      "2               -644.466818                    0.220965  \n",
      "3               -644.466818                    0.220965  \n",
      "4               -644.466818                    0.220965  \n",
      "\n",
      "[5 rows x 195 columns]\n"
     ]
    }
   ],
   "source": [
    "print(df.isna().sum().to_dict())\n",
    "\n",
    "if SAVE_NEW_CSV:\n",
    "    df.to_csv(DATASET_OUTPUT_PATH, index=False)\n",
    "    print(df.isna().sum())\n",
    "    print(df.head())\n"
   ]
  }
 ],
 "metadata": {
  "kernelspec": {
   "display_name": "Python 3.8.10 64-bit",
   "language": "python",
   "name": "python3"
  },
  "language_info": {
   "codemirror_mode": {
    "name": "ipython",
    "version": 3
   },
   "file_extension": ".py",
   "mimetype": "text/x-python",
   "name": "python",
   "nbconvert_exporter": "python",
   "pygments_lexer": "ipython3",
   "version": "3.8.10"
  },
  "orig_nbformat": 4,
  "vscode": {
   "interpreter": {
    "hash": "31f2aee4e71d21fbe5cf8b01ff0e069b9275f58929596ceb00d14d90e3e16cd6"
   }
  }
 },
 "nbformat": 4,
 "nbformat_minor": 2
}
